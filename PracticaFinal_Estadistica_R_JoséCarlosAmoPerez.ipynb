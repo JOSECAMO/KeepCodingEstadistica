{
 "cells": [
  {
   "cell_type": "code",
   "execution_count": 58,
   "metadata": {},
   "outputs": [],
   "source": [
    "library(ggplot2)\n",
    "options(repr.plot.height=4,repr.plot.width=6)"
   ]
  },
  {
   "cell_type": "markdown",
   "metadata": {},
   "source": [
    "Cargar los datos en un dataframe llamado: airbnb"
   ]
  },
  {
   "cell_type": "code",
   "execution_count": 59,
   "metadata": {},
   "outputs": [
    {
     "name": "stderr",
     "output_type": "stream",
     "text": [
      "Installing package into ‘/usr/local/lib/R/site-library’\n",
      "(as ‘lib’ is unspecified)\n",
      "\n"
     ]
    }
   ],
   "source": [
    "airbnb<-data.frame(read.csv('data//airbnb.csv',sep = ',', stringsAsFactors = T))\n",
    "install.packages(\"dplyr\")  #aprovecho aquí para ir cargando esta librería, que luego se me olvida ...\n",
    "library(dplyr)"
   ]
  },
  {
   "cell_type": "markdown",
   "metadata": {},
   "source": [
    "Mostrar las primeras 6 filas del dataframe"
   ]
  },
  {
   "cell_type": "code",
   "execution_count": 60,
   "metadata": {
    "scrolled": true
   },
   "outputs": [
    {
     "data": {
      "text/html": [
       "<table class=\"dataframe\">\n",
       "<caption>A data.frame: 6 × 13</caption>\n",
       "<thead>\n",
       "\t<tr><th></th><th scope=col>Zipcode</th><th scope=col>Neighbourhood.Cleansed</th><th scope=col>Property.Type</th><th scope=col>Room.Type</th><th scope=col>Accommodates</th><th scope=col>Bathrooms</th><th scope=col>Bedrooms</th><th scope=col>Beds</th><th scope=col>Bed.Type</th><th scope=col>Amenities</th><th scope=col>Square.Feet</th><th scope=col>Price</th><th scope=col>Review.Scores.Rating</th></tr>\n",
       "\t<tr><th></th><th scope=col>&lt;fct&gt;</th><th scope=col>&lt;fct&gt;</th><th scope=col>&lt;fct&gt;</th><th scope=col>&lt;fct&gt;</th><th scope=col>&lt;int&gt;</th><th scope=col>&lt;dbl&gt;</th><th scope=col>&lt;int&gt;</th><th scope=col>&lt;int&gt;</th><th scope=col>&lt;fct&gt;</th><th scope=col>&lt;fct&gt;</th><th scope=col>&lt;int&gt;</th><th scope=col>&lt;int&gt;</th><th scope=col>&lt;int&gt;</th></tr>\n",
       "</thead>\n",
       "<tbody>\n",
       "\t<tr><th scope=row>1</th><td>28004</td><td>Universidad</td><td>Apartment</td><td>Private room   </td><td>2</td><td>2</td><td>1</td><td>1</td><td>Real Bed</td><td>TV,Wireless Internet,Kitchen,Pets allowed,Pets live on this property,Buzzer/wireless intercom,Heating,Suitable for events,Washer,First aid kit,Essentials,Lock on bedroom door,Iron                                                                                                                                                                             </td><td> NA</td><td>35</td><td> NA</td></tr>\n",
       "\t<tr><th scope=row>2</th><td>28004</td><td>Universidad</td><td>Apartment</td><td>Entire home/apt</td><td>6</td><td>1</td><td>3</td><td>5</td><td>Real Bed</td><td>TV,Internet,Wireless Internet,Air conditioning,Kitchen,Indoor fireplace,Heating,Family/kid friendly,Washer,Dryer,Smoke detector,Carbon monoxide detector,Essentials,Shampoo                                                                                                                                                                                     </td><td> NA</td><td>92</td><td> 96</td></tr>\n",
       "\t<tr><th scope=row>3</th><td>28004</td><td>Universidad</td><td>Apartment</td><td>Entire home/apt</td><td>3</td><td>1</td><td>2</td><td>2</td><td>Real Bed</td><td>TV,Internet,Wireless Internet,Air conditioning,Kitchen,Doorman,Heating,Family/kid friendly,Washer,Essentials,Shampoo,Hangers,Hair dryer,Iron,Laptop friendly workspace                                                                                                                                                                                          </td><td> NA</td><td>55</td><td> 91</td></tr>\n",
       "\t<tr><th scope=row>4</th><td>28004</td><td>Universidad</td><td>Loft     </td><td>Entire home/apt</td><td>3</td><td>2</td><td>1</td><td>1</td><td>Real Bed</td><td>TV,Internet,Wireless Internet,Air conditioning,Kitchen,Pets allowed,Breakfast,Elevator in building,Indoor fireplace,Buzzer/wireless intercom,Heating,Washer,Essentials,Shampoo,Hangers,Hair dryer,Iron,Laptop friendly workspace,translation missing: en.hosting_amenity_49,translation missing: en.hosting_amenity_50                                          </td><td> NA</td><td>60</td><td>100</td></tr>\n",
       "\t<tr><th scope=row>5</th><td>28015</td><td>Universidad</td><td>Apartment</td><td>Entire home/apt</td><td>5</td><td>1</td><td>1</td><td>1</td><td>Real Bed</td><td>TV,Wireless Internet,Air conditioning,Kitchen,Smoking allowed,Pets allowed,Elevator in building,Heating,Family/kid friendly,Washer,Essentials,Iron                                                                                                                                                                                                              </td><td>538</td><td>75</td><td> 90</td></tr>\n",
       "\t<tr><th scope=row>6</th><td>28004</td><td>Universidad</td><td>Apartment</td><td>Entire home/apt</td><td>2</td><td>1</td><td>0</td><td>1</td><td>Real Bed</td><td>TV,Cable TV,Internet,Wireless Internet,Air conditioning,Wheelchair accessible,Kitchen,Doorman,Elevator in building,Buzzer/wireless intercom,Heating,Washer,Smoke detector,Carbon monoxide detector,First aid kit,Safety card,Fire extinguisher,Essentials,Shampoo,24-hour check-in,Hangers,Hair dryer,Iron,Laptop friendly workspace,Self Check-In,Doorman Entry</td><td> NA</td><td>55</td><td> 95</td></tr>\n",
       "</tbody>\n",
       "</table>\n"
      ],
      "text/latex": [
       "A data.frame: 6 × 13\n",
       "\\begin{tabular}{r|lllllllllllll}\n",
       "  & Zipcode & Neighbourhood.Cleansed & Property.Type & Room.Type & Accommodates & Bathrooms & Bedrooms & Beds & Bed.Type & Amenities & Square.Feet & Price & Review.Scores.Rating\\\\\n",
       "  & <fct> & <fct> & <fct> & <fct> & <int> & <dbl> & <int> & <int> & <fct> & <fct> & <int> & <int> & <int>\\\\\n",
       "\\hline\n",
       "\t1 & 28004 & Universidad & Apartment & Private room    & 2 & 2 & 1 & 1 & Real Bed & TV,Wireless Internet,Kitchen,Pets allowed,Pets live on this property,Buzzer/wireless intercom,Heating,Suitable for events,Washer,First aid kit,Essentials,Lock on bedroom door,Iron                                                                                                                                                                              &  NA & 35 &  NA\\\\\n",
       "\t2 & 28004 & Universidad & Apartment & Entire home/apt & 6 & 1 & 3 & 5 & Real Bed & TV,Internet,Wireless Internet,Air conditioning,Kitchen,Indoor fireplace,Heating,Family/kid friendly,Washer,Dryer,Smoke detector,Carbon monoxide detector,Essentials,Shampoo                                                                                                                                                                                      &  NA & 92 &  96\\\\\n",
       "\t3 & 28004 & Universidad & Apartment & Entire home/apt & 3 & 1 & 2 & 2 & Real Bed & TV,Internet,Wireless Internet,Air conditioning,Kitchen,Doorman,Heating,Family/kid friendly,Washer,Essentials,Shampoo,Hangers,Hair dryer,Iron,Laptop friendly workspace                                                                                                                                                                                           &  NA & 55 &  91\\\\\n",
       "\t4 & 28004 & Universidad & Loft      & Entire home/apt & 3 & 2 & 1 & 1 & Real Bed & TV,Internet,Wireless Internet,Air conditioning,Kitchen,Pets allowed,Breakfast,Elevator in building,Indoor fireplace,Buzzer/wireless intercom,Heating,Washer,Essentials,Shampoo,Hangers,Hair dryer,Iron,Laptop friendly workspace,translation missing: en.hosting\\_amenity\\_49,translation missing: en.hosting\\_amenity\\_50                                           &  NA & 60 & 100\\\\\n",
       "\t5 & 28015 & Universidad & Apartment & Entire home/apt & 5 & 1 & 1 & 1 & Real Bed & TV,Wireless Internet,Air conditioning,Kitchen,Smoking allowed,Pets allowed,Elevator in building,Heating,Family/kid friendly,Washer,Essentials,Iron                                                                                                                                                                                                               & 538 & 75 &  90\\\\\n",
       "\t6 & 28004 & Universidad & Apartment & Entire home/apt & 2 & 1 & 0 & 1 & Real Bed & TV,Cable TV,Internet,Wireless Internet,Air conditioning,Wheelchair accessible,Kitchen,Doorman,Elevator in building,Buzzer/wireless intercom,Heating,Washer,Smoke detector,Carbon monoxide detector,First aid kit,Safety card,Fire extinguisher,Essentials,Shampoo,24-hour check-in,Hangers,Hair dryer,Iron,Laptop friendly workspace,Self Check-In,Doorman Entry &  NA & 55 &  95\\\\\n",
       "\\end{tabular}\n"
      ],
      "text/markdown": [
       "\n",
       "A data.frame: 6 × 13\n",
       "\n",
       "| <!--/--> | Zipcode &lt;fct&gt; | Neighbourhood.Cleansed &lt;fct&gt; | Property.Type &lt;fct&gt; | Room.Type &lt;fct&gt; | Accommodates &lt;int&gt; | Bathrooms &lt;dbl&gt; | Bedrooms &lt;int&gt; | Beds &lt;int&gt; | Bed.Type &lt;fct&gt; | Amenities &lt;fct&gt; | Square.Feet &lt;int&gt; | Price &lt;int&gt; | Review.Scores.Rating &lt;int&gt; |\n",
       "|---|---|---|---|---|---|---|---|---|---|---|---|---|---|\n",
       "| 1 | 28004 | Universidad | Apartment | Private room    | 2 | 2 | 1 | 1 | Real Bed | TV,Wireless Internet,Kitchen,Pets allowed,Pets live on this property,Buzzer/wireless intercom,Heating,Suitable for events,Washer,First aid kit,Essentials,Lock on bedroom door,Iron                                                                                                                                                                              |  NA | 35 |  NA |\n",
       "| 2 | 28004 | Universidad | Apartment | Entire home/apt | 6 | 1 | 3 | 5 | Real Bed | TV,Internet,Wireless Internet,Air conditioning,Kitchen,Indoor fireplace,Heating,Family/kid friendly,Washer,Dryer,Smoke detector,Carbon monoxide detector,Essentials,Shampoo                                                                                                                                                                                      |  NA | 92 |  96 |\n",
       "| 3 | 28004 | Universidad | Apartment | Entire home/apt | 3 | 1 | 2 | 2 | Real Bed | TV,Internet,Wireless Internet,Air conditioning,Kitchen,Doorman,Heating,Family/kid friendly,Washer,Essentials,Shampoo,Hangers,Hair dryer,Iron,Laptop friendly workspace                                                                                                                                                                                           |  NA | 55 |  91 |\n",
       "| 4 | 28004 | Universidad | Loft      | Entire home/apt | 3 | 2 | 1 | 1 | Real Bed | TV,Internet,Wireless Internet,Air conditioning,Kitchen,Pets allowed,Breakfast,Elevator in building,Indoor fireplace,Buzzer/wireless intercom,Heating,Washer,Essentials,Shampoo,Hangers,Hair dryer,Iron,Laptop friendly workspace,translation missing: en.hosting_amenity_49,translation missing: en.hosting_amenity_50                                           |  NA | 60 | 100 |\n",
       "| 5 | 28015 | Universidad | Apartment | Entire home/apt | 5 | 1 | 1 | 1 | Real Bed | TV,Wireless Internet,Air conditioning,Kitchen,Smoking allowed,Pets allowed,Elevator in building,Heating,Family/kid friendly,Washer,Essentials,Iron                                                                                                                                                                                                               | 538 | 75 |  90 |\n",
       "| 6 | 28004 | Universidad | Apartment | Entire home/apt | 2 | 1 | 0 | 1 | Real Bed | TV,Cable TV,Internet,Wireless Internet,Air conditioning,Wheelchair accessible,Kitchen,Doorman,Elevator in building,Buzzer/wireless intercom,Heating,Washer,Smoke detector,Carbon monoxide detector,First aid kit,Safety card,Fire extinguisher,Essentials,Shampoo,24-hour check-in,Hangers,Hair dryer,Iron,Laptop friendly workspace,Self Check-In,Doorman Entry |  NA | 55 |  95 |\n",
       "\n"
      ],
      "text/plain": [
       "  Zipcode Neighbourhood.Cleansed Property.Type Room.Type       Accommodates\n",
       "1 28004   Universidad            Apartment     Private room    2           \n",
       "2 28004   Universidad            Apartment     Entire home/apt 6           \n",
       "3 28004   Universidad            Apartment     Entire home/apt 3           \n",
       "4 28004   Universidad            Loft          Entire home/apt 3           \n",
       "5 28015   Universidad            Apartment     Entire home/apt 5           \n",
       "6 28004   Universidad            Apartment     Entire home/apt 2           \n",
       "  Bathrooms Bedrooms Beds Bed.Type\n",
       "1 2         1        1    Real Bed\n",
       "2 1         3        5    Real Bed\n",
       "3 1         2        2    Real Bed\n",
       "4 2         1        1    Real Bed\n",
       "5 1         1        1    Real Bed\n",
       "6 1         0        1    Real Bed\n",
       "  Amenities                                                                                                                                                                                                                                                                                                                                                       \n",
       "1 TV,Wireless Internet,Kitchen,Pets allowed,Pets live on this property,Buzzer/wireless intercom,Heating,Suitable for events,Washer,First aid kit,Essentials,Lock on bedroom door,Iron                                                                                                                                                                             \n",
       "2 TV,Internet,Wireless Internet,Air conditioning,Kitchen,Indoor fireplace,Heating,Family/kid friendly,Washer,Dryer,Smoke detector,Carbon monoxide detector,Essentials,Shampoo                                                                                                                                                                                     \n",
       "3 TV,Internet,Wireless Internet,Air conditioning,Kitchen,Doorman,Heating,Family/kid friendly,Washer,Essentials,Shampoo,Hangers,Hair dryer,Iron,Laptop friendly workspace                                                                                                                                                                                          \n",
       "4 TV,Internet,Wireless Internet,Air conditioning,Kitchen,Pets allowed,Breakfast,Elevator in building,Indoor fireplace,Buzzer/wireless intercom,Heating,Washer,Essentials,Shampoo,Hangers,Hair dryer,Iron,Laptop friendly workspace,translation missing: en.hosting_amenity_49,translation missing: en.hosting_amenity_50                                          \n",
       "5 TV,Wireless Internet,Air conditioning,Kitchen,Smoking allowed,Pets allowed,Elevator in building,Heating,Family/kid friendly,Washer,Essentials,Iron                                                                                                                                                                                                              \n",
       "6 TV,Cable TV,Internet,Wireless Internet,Air conditioning,Wheelchair accessible,Kitchen,Doorman,Elevator in building,Buzzer/wireless intercom,Heating,Washer,Smoke detector,Carbon monoxide detector,First aid kit,Safety card,Fire extinguisher,Essentials,Shampoo,24-hour check-in,Hangers,Hair dryer,Iron,Laptop friendly workspace,Self Check-In,Doorman Entry\n",
       "  Square.Feet Price Review.Scores.Rating\n",
       "1  NA         35     NA                 \n",
       "2  NA         92     96                 \n",
       "3  NA         55     91                 \n",
       "4  NA         60    100                 \n",
       "5 538         75     90                 \n",
       "6  NA         55     95                 "
      ]
     },
     "metadata": {},
     "output_type": "display_data"
    }
   ],
   "source": [
    "head(airbnb)"
   ]
  },
  {
   "cell_type": "markdown",
   "metadata": {},
   "source": [
    "Renombrar las columnas de la siguiente forma:\n",
    "\n",
    "| Nombre original | Nuevo nombre |\n",
    "| - | - |\n",
    "| Zipcode | CodigoPostal |\n",
    "| Neighbourhood.Cleansed | Barrio |\n",
    "| Property.Type\t| TipoPropiedad |\n",
    "| Room.Type | TipoAlquiler |\n",
    "| Accommodates | MaxOcupantes |\n",
    "| Bathrooms\t| NumBanyos |\n",
    "| Bedrooms\t| NumDormitorios |\n",
    "| Beds\t|  NumCamas |\n",
    "| Bed.Type\t| TipoCama |\n",
    "| Amenities | Comodidades |\n",
    "| Square.Feet | PiesCuadrados |\n",
    "| Price\t| Precio |\n",
    "| Review.Scores.Rating | Puntuacion |"
   ]
  },
  {
   "cell_type": "code",
   "execution_count": 61,
   "metadata": {},
   "outputs": [
    {
     "data": {
      "text/html": [
       "<table class=\"dataframe\">\n",
       "<caption>A data.frame: 6 × 13</caption>\n",
       "<thead>\n",
       "\t<tr><th></th><th scope=col>CodigoPostal</th><th scope=col>Barrio</th><th scope=col>TipoPropiedad</th><th scope=col>TipoAlquiler</th><th scope=col>MaxOcupantes</th><th scope=col>NumBanyos</th><th scope=col>NumDormitorios</th><th scope=col>NumCamas</th><th scope=col>TipoCama</th><th scope=col>Comodidades</th><th scope=col>PiesCuadrados</th><th scope=col>Precio</th><th scope=col>Puntuacion</th></tr>\n",
       "\t<tr><th></th><th scope=col>&lt;fct&gt;</th><th scope=col>&lt;fct&gt;</th><th scope=col>&lt;fct&gt;</th><th scope=col>&lt;fct&gt;</th><th scope=col>&lt;int&gt;</th><th scope=col>&lt;dbl&gt;</th><th scope=col>&lt;int&gt;</th><th scope=col>&lt;int&gt;</th><th scope=col>&lt;fct&gt;</th><th scope=col>&lt;fct&gt;</th><th scope=col>&lt;int&gt;</th><th scope=col>&lt;int&gt;</th><th scope=col>&lt;int&gt;</th></tr>\n",
       "</thead>\n",
       "<tbody>\n",
       "\t<tr><th scope=row>1</th><td>28004</td><td>Universidad</td><td>Apartment</td><td>Private room   </td><td>2</td><td>2</td><td>1</td><td>1</td><td>Real Bed</td><td>TV,Wireless Internet,Kitchen,Pets allowed,Pets live on this property,Buzzer/wireless intercom,Heating,Suitable for events,Washer,First aid kit,Essentials,Lock on bedroom door,Iron                                                                                                                                                                             </td><td> NA</td><td>35</td><td> NA</td></tr>\n",
       "\t<tr><th scope=row>2</th><td>28004</td><td>Universidad</td><td>Apartment</td><td>Entire home/apt</td><td>6</td><td>1</td><td>3</td><td>5</td><td>Real Bed</td><td>TV,Internet,Wireless Internet,Air conditioning,Kitchen,Indoor fireplace,Heating,Family/kid friendly,Washer,Dryer,Smoke detector,Carbon monoxide detector,Essentials,Shampoo                                                                                                                                                                                     </td><td> NA</td><td>92</td><td> 96</td></tr>\n",
       "\t<tr><th scope=row>3</th><td>28004</td><td>Universidad</td><td>Apartment</td><td>Entire home/apt</td><td>3</td><td>1</td><td>2</td><td>2</td><td>Real Bed</td><td>TV,Internet,Wireless Internet,Air conditioning,Kitchen,Doorman,Heating,Family/kid friendly,Washer,Essentials,Shampoo,Hangers,Hair dryer,Iron,Laptop friendly workspace                                                                                                                                                                                          </td><td> NA</td><td>55</td><td> 91</td></tr>\n",
       "\t<tr><th scope=row>4</th><td>28004</td><td>Universidad</td><td>Loft     </td><td>Entire home/apt</td><td>3</td><td>2</td><td>1</td><td>1</td><td>Real Bed</td><td>TV,Internet,Wireless Internet,Air conditioning,Kitchen,Pets allowed,Breakfast,Elevator in building,Indoor fireplace,Buzzer/wireless intercom,Heating,Washer,Essentials,Shampoo,Hangers,Hair dryer,Iron,Laptop friendly workspace,translation missing: en.hosting_amenity_49,translation missing: en.hosting_amenity_50                                          </td><td> NA</td><td>60</td><td>100</td></tr>\n",
       "\t<tr><th scope=row>5</th><td>28015</td><td>Universidad</td><td>Apartment</td><td>Entire home/apt</td><td>5</td><td>1</td><td>1</td><td>1</td><td>Real Bed</td><td>TV,Wireless Internet,Air conditioning,Kitchen,Smoking allowed,Pets allowed,Elevator in building,Heating,Family/kid friendly,Washer,Essentials,Iron                                                                                                                                                                                                              </td><td>538</td><td>75</td><td> 90</td></tr>\n",
       "\t<tr><th scope=row>6</th><td>28004</td><td>Universidad</td><td>Apartment</td><td>Entire home/apt</td><td>2</td><td>1</td><td>0</td><td>1</td><td>Real Bed</td><td>TV,Cable TV,Internet,Wireless Internet,Air conditioning,Wheelchair accessible,Kitchen,Doorman,Elevator in building,Buzzer/wireless intercom,Heating,Washer,Smoke detector,Carbon monoxide detector,First aid kit,Safety card,Fire extinguisher,Essentials,Shampoo,24-hour check-in,Hangers,Hair dryer,Iron,Laptop friendly workspace,Self Check-In,Doorman Entry</td><td> NA</td><td>55</td><td> 95</td></tr>\n",
       "</tbody>\n",
       "</table>\n"
      ],
      "text/latex": [
       "A data.frame: 6 × 13\n",
       "\\begin{tabular}{r|lllllllllllll}\n",
       "  & CodigoPostal & Barrio & TipoPropiedad & TipoAlquiler & MaxOcupantes & NumBanyos & NumDormitorios & NumCamas & TipoCama & Comodidades & PiesCuadrados & Precio & Puntuacion\\\\\n",
       "  & <fct> & <fct> & <fct> & <fct> & <int> & <dbl> & <int> & <int> & <fct> & <fct> & <int> & <int> & <int>\\\\\n",
       "\\hline\n",
       "\t1 & 28004 & Universidad & Apartment & Private room    & 2 & 2 & 1 & 1 & Real Bed & TV,Wireless Internet,Kitchen,Pets allowed,Pets live on this property,Buzzer/wireless intercom,Heating,Suitable for events,Washer,First aid kit,Essentials,Lock on bedroom door,Iron                                                                                                                                                                              &  NA & 35 &  NA\\\\\n",
       "\t2 & 28004 & Universidad & Apartment & Entire home/apt & 6 & 1 & 3 & 5 & Real Bed & TV,Internet,Wireless Internet,Air conditioning,Kitchen,Indoor fireplace,Heating,Family/kid friendly,Washer,Dryer,Smoke detector,Carbon monoxide detector,Essentials,Shampoo                                                                                                                                                                                      &  NA & 92 &  96\\\\\n",
       "\t3 & 28004 & Universidad & Apartment & Entire home/apt & 3 & 1 & 2 & 2 & Real Bed & TV,Internet,Wireless Internet,Air conditioning,Kitchen,Doorman,Heating,Family/kid friendly,Washer,Essentials,Shampoo,Hangers,Hair dryer,Iron,Laptop friendly workspace                                                                                                                                                                                           &  NA & 55 &  91\\\\\n",
       "\t4 & 28004 & Universidad & Loft      & Entire home/apt & 3 & 2 & 1 & 1 & Real Bed & TV,Internet,Wireless Internet,Air conditioning,Kitchen,Pets allowed,Breakfast,Elevator in building,Indoor fireplace,Buzzer/wireless intercom,Heating,Washer,Essentials,Shampoo,Hangers,Hair dryer,Iron,Laptop friendly workspace,translation missing: en.hosting\\_amenity\\_49,translation missing: en.hosting\\_amenity\\_50                                           &  NA & 60 & 100\\\\\n",
       "\t5 & 28015 & Universidad & Apartment & Entire home/apt & 5 & 1 & 1 & 1 & Real Bed & TV,Wireless Internet,Air conditioning,Kitchen,Smoking allowed,Pets allowed,Elevator in building,Heating,Family/kid friendly,Washer,Essentials,Iron                                                                                                                                                                                                               & 538 & 75 &  90\\\\\n",
       "\t6 & 28004 & Universidad & Apartment & Entire home/apt & 2 & 1 & 0 & 1 & Real Bed & TV,Cable TV,Internet,Wireless Internet,Air conditioning,Wheelchair accessible,Kitchen,Doorman,Elevator in building,Buzzer/wireless intercom,Heating,Washer,Smoke detector,Carbon monoxide detector,First aid kit,Safety card,Fire extinguisher,Essentials,Shampoo,24-hour check-in,Hangers,Hair dryer,Iron,Laptop friendly workspace,Self Check-In,Doorman Entry &  NA & 55 &  95\\\\\n",
       "\\end{tabular}\n"
      ],
      "text/markdown": [
       "\n",
       "A data.frame: 6 × 13\n",
       "\n",
       "| <!--/--> | CodigoPostal &lt;fct&gt; | Barrio &lt;fct&gt; | TipoPropiedad &lt;fct&gt; | TipoAlquiler &lt;fct&gt; | MaxOcupantes &lt;int&gt; | NumBanyos &lt;dbl&gt; | NumDormitorios &lt;int&gt; | NumCamas &lt;int&gt; | TipoCama &lt;fct&gt; | Comodidades &lt;fct&gt; | PiesCuadrados &lt;int&gt; | Precio &lt;int&gt; | Puntuacion &lt;int&gt; |\n",
       "|---|---|---|---|---|---|---|---|---|---|---|---|---|---|\n",
       "| 1 | 28004 | Universidad | Apartment | Private room    | 2 | 2 | 1 | 1 | Real Bed | TV,Wireless Internet,Kitchen,Pets allowed,Pets live on this property,Buzzer/wireless intercom,Heating,Suitable for events,Washer,First aid kit,Essentials,Lock on bedroom door,Iron                                                                                                                                                                              |  NA | 35 |  NA |\n",
       "| 2 | 28004 | Universidad | Apartment | Entire home/apt | 6 | 1 | 3 | 5 | Real Bed | TV,Internet,Wireless Internet,Air conditioning,Kitchen,Indoor fireplace,Heating,Family/kid friendly,Washer,Dryer,Smoke detector,Carbon monoxide detector,Essentials,Shampoo                                                                                                                                                                                      |  NA | 92 |  96 |\n",
       "| 3 | 28004 | Universidad | Apartment | Entire home/apt | 3 | 1 | 2 | 2 | Real Bed | TV,Internet,Wireless Internet,Air conditioning,Kitchen,Doorman,Heating,Family/kid friendly,Washer,Essentials,Shampoo,Hangers,Hair dryer,Iron,Laptop friendly workspace                                                                                                                                                                                           |  NA | 55 |  91 |\n",
       "| 4 | 28004 | Universidad | Loft      | Entire home/apt | 3 | 2 | 1 | 1 | Real Bed | TV,Internet,Wireless Internet,Air conditioning,Kitchen,Pets allowed,Breakfast,Elevator in building,Indoor fireplace,Buzzer/wireless intercom,Heating,Washer,Essentials,Shampoo,Hangers,Hair dryer,Iron,Laptop friendly workspace,translation missing: en.hosting_amenity_49,translation missing: en.hosting_amenity_50                                           |  NA | 60 | 100 |\n",
       "| 5 | 28015 | Universidad | Apartment | Entire home/apt | 5 | 1 | 1 | 1 | Real Bed | TV,Wireless Internet,Air conditioning,Kitchen,Smoking allowed,Pets allowed,Elevator in building,Heating,Family/kid friendly,Washer,Essentials,Iron                                                                                                                                                                                                               | 538 | 75 |  90 |\n",
       "| 6 | 28004 | Universidad | Apartment | Entire home/apt | 2 | 1 | 0 | 1 | Real Bed | TV,Cable TV,Internet,Wireless Internet,Air conditioning,Wheelchair accessible,Kitchen,Doorman,Elevator in building,Buzzer/wireless intercom,Heating,Washer,Smoke detector,Carbon monoxide detector,First aid kit,Safety card,Fire extinguisher,Essentials,Shampoo,24-hour check-in,Hangers,Hair dryer,Iron,Laptop friendly workspace,Self Check-In,Doorman Entry |  NA | 55 |  95 |\n",
       "\n"
      ],
      "text/plain": [
       "  CodigoPostal Barrio      TipoPropiedad TipoAlquiler    MaxOcupantes NumBanyos\n",
       "1 28004        Universidad Apartment     Private room    2            2        \n",
       "2 28004        Universidad Apartment     Entire home/apt 6            1        \n",
       "3 28004        Universidad Apartment     Entire home/apt 3            1        \n",
       "4 28004        Universidad Loft          Entire home/apt 3            2        \n",
       "5 28015        Universidad Apartment     Entire home/apt 5            1        \n",
       "6 28004        Universidad Apartment     Entire home/apt 2            1        \n",
       "  NumDormitorios NumCamas TipoCama\n",
       "1 1              1        Real Bed\n",
       "2 3              5        Real Bed\n",
       "3 2              2        Real Bed\n",
       "4 1              1        Real Bed\n",
       "5 1              1        Real Bed\n",
       "6 0              1        Real Bed\n",
       "  Comodidades                                                                                                                                                                                                                                                                                                                                                     \n",
       "1 TV,Wireless Internet,Kitchen,Pets allowed,Pets live on this property,Buzzer/wireless intercom,Heating,Suitable for events,Washer,First aid kit,Essentials,Lock on bedroom door,Iron                                                                                                                                                                             \n",
       "2 TV,Internet,Wireless Internet,Air conditioning,Kitchen,Indoor fireplace,Heating,Family/kid friendly,Washer,Dryer,Smoke detector,Carbon monoxide detector,Essentials,Shampoo                                                                                                                                                                                     \n",
       "3 TV,Internet,Wireless Internet,Air conditioning,Kitchen,Doorman,Heating,Family/kid friendly,Washer,Essentials,Shampoo,Hangers,Hair dryer,Iron,Laptop friendly workspace                                                                                                                                                                                          \n",
       "4 TV,Internet,Wireless Internet,Air conditioning,Kitchen,Pets allowed,Breakfast,Elevator in building,Indoor fireplace,Buzzer/wireless intercom,Heating,Washer,Essentials,Shampoo,Hangers,Hair dryer,Iron,Laptop friendly workspace,translation missing: en.hosting_amenity_49,translation missing: en.hosting_amenity_50                                          \n",
       "5 TV,Wireless Internet,Air conditioning,Kitchen,Smoking allowed,Pets allowed,Elevator in building,Heating,Family/kid friendly,Washer,Essentials,Iron                                                                                                                                                                                                              \n",
       "6 TV,Cable TV,Internet,Wireless Internet,Air conditioning,Wheelchair accessible,Kitchen,Doorman,Elevator in building,Buzzer/wireless intercom,Heating,Washer,Smoke detector,Carbon monoxide detector,First aid kit,Safety card,Fire extinguisher,Essentials,Shampoo,24-hour check-in,Hangers,Hair dryer,Iron,Laptop friendly workspace,Self Check-In,Doorman Entry\n",
       "  PiesCuadrados Precio Puntuacion\n",
       "1  NA           35      NA       \n",
       "2  NA           92      96       \n",
       "3  NA           55      91       \n",
       "4  NA           60     100       \n",
       "5 538           75      90       \n",
       "6  NA           55      95       "
      ]
     },
     "metadata": {},
     "output_type": "display_data"
    }
   ],
   "source": [
    "newnames<-c(\"CodigoPostal\",\"Barrio\",\"TipoPropiedad\",\"TipoAlquiler\",\"MaxOcupantes\",\"NumBanyos\",\n",
    "\"NumDormitorios\",\"NumCamas\",\"TipoCama\",\"Comodidades\",\"PiesCuadrados\",\"Precio\",\"Puntuacion\")\n",
    "colnames(airbnb) <- newnames\n",
    "head(airbnb)"
   ]
  },
  {
   "cell_type": "markdown",
   "metadata": {},
   "source": [
    "Crea una nueva columna llamada MetrosCuadrados a partir de la columna PiesCuadrados.\n",
    "\n",
    "Ayuda: 1 pie cuadrado son 0,092903 metros cuadrdados"
   ]
  },
  {
   "cell_type": "code",
   "execution_count": 62,
   "metadata": {},
   "outputs": [
    {
     "data": {
      "text/html": [
       "<table class=\"dataframe\">\n",
       "<caption>A data.frame: 6 × 14</caption>\n",
       "<thead>\n",
       "\t<tr><th></th><th scope=col>CodigoPostal</th><th scope=col>Barrio</th><th scope=col>TipoPropiedad</th><th scope=col>TipoAlquiler</th><th scope=col>MaxOcupantes</th><th scope=col>NumBanyos</th><th scope=col>NumDormitorios</th><th scope=col>NumCamas</th><th scope=col>TipoCama</th><th scope=col>Comodidades</th><th scope=col>PiesCuadrados</th><th scope=col>Precio</th><th scope=col>Puntuacion</th><th scope=col>MetrosCuadrados</th></tr>\n",
       "\t<tr><th></th><th scope=col>&lt;fct&gt;</th><th scope=col>&lt;fct&gt;</th><th scope=col>&lt;fct&gt;</th><th scope=col>&lt;fct&gt;</th><th scope=col>&lt;int&gt;</th><th scope=col>&lt;dbl&gt;</th><th scope=col>&lt;int&gt;</th><th scope=col>&lt;int&gt;</th><th scope=col>&lt;fct&gt;</th><th scope=col>&lt;fct&gt;</th><th scope=col>&lt;int&gt;</th><th scope=col>&lt;int&gt;</th><th scope=col>&lt;int&gt;</th><th scope=col>&lt;dbl&gt;</th></tr>\n",
       "</thead>\n",
       "<tbody>\n",
       "\t<tr><th scope=row>1</th><td>28004</td><td>Universidad</td><td>Apartment</td><td>Private room   </td><td>2</td><td>2</td><td>1</td><td>1</td><td>Real Bed</td><td>TV,Wireless Internet,Kitchen,Pets allowed,Pets live on this property,Buzzer/wireless intercom,Heating,Suitable for events,Washer,First aid kit,Essentials,Lock on bedroom door,Iron                                                                                                                                                                             </td><td> NA</td><td>35</td><td> NA</td><td>   NA</td></tr>\n",
       "\t<tr><th scope=row>2</th><td>28004</td><td>Universidad</td><td>Apartment</td><td>Entire home/apt</td><td>6</td><td>1</td><td>3</td><td>5</td><td>Real Bed</td><td>TV,Internet,Wireless Internet,Air conditioning,Kitchen,Indoor fireplace,Heating,Family/kid friendly,Washer,Dryer,Smoke detector,Carbon monoxide detector,Essentials,Shampoo                                                                                                                                                                                     </td><td> NA</td><td>92</td><td> 96</td><td>   NA</td></tr>\n",
       "\t<tr><th scope=row>3</th><td>28004</td><td>Universidad</td><td>Apartment</td><td>Entire home/apt</td><td>3</td><td>1</td><td>2</td><td>2</td><td>Real Bed</td><td>TV,Internet,Wireless Internet,Air conditioning,Kitchen,Doorman,Heating,Family/kid friendly,Washer,Essentials,Shampoo,Hangers,Hair dryer,Iron,Laptop friendly workspace                                                                                                                                                                                          </td><td> NA</td><td>55</td><td> 91</td><td>   NA</td></tr>\n",
       "\t<tr><th scope=row>4</th><td>28004</td><td>Universidad</td><td>Loft     </td><td>Entire home/apt</td><td>3</td><td>2</td><td>1</td><td>1</td><td>Real Bed</td><td>TV,Internet,Wireless Internet,Air conditioning,Kitchen,Pets allowed,Breakfast,Elevator in building,Indoor fireplace,Buzzer/wireless intercom,Heating,Washer,Essentials,Shampoo,Hangers,Hair dryer,Iron,Laptop friendly workspace,translation missing: en.hosting_amenity_49,translation missing: en.hosting_amenity_50                                          </td><td> NA</td><td>60</td><td>100</td><td>   NA</td></tr>\n",
       "\t<tr><th scope=row>5</th><td>28015</td><td>Universidad</td><td>Apartment</td><td>Entire home/apt</td><td>5</td><td>1</td><td>1</td><td>1</td><td>Real Bed</td><td>TV,Wireless Internet,Air conditioning,Kitchen,Smoking allowed,Pets allowed,Elevator in building,Heating,Family/kid friendly,Washer,Essentials,Iron                                                                                                                                                                                                              </td><td>538</td><td>75</td><td> 90</td><td>49.98</td></tr>\n",
       "\t<tr><th scope=row>6</th><td>28004</td><td>Universidad</td><td>Apartment</td><td>Entire home/apt</td><td>2</td><td>1</td><td>0</td><td>1</td><td>Real Bed</td><td>TV,Cable TV,Internet,Wireless Internet,Air conditioning,Wheelchair accessible,Kitchen,Doorman,Elevator in building,Buzzer/wireless intercom,Heating,Washer,Smoke detector,Carbon monoxide detector,First aid kit,Safety card,Fire extinguisher,Essentials,Shampoo,24-hour check-in,Hangers,Hair dryer,Iron,Laptop friendly workspace,Self Check-In,Doorman Entry</td><td> NA</td><td>55</td><td> 95</td><td>   NA</td></tr>\n",
       "</tbody>\n",
       "</table>\n"
      ],
      "text/latex": [
       "A data.frame: 6 × 14\n",
       "\\begin{tabular}{r|llllllllllllll}\n",
       "  & CodigoPostal & Barrio & TipoPropiedad & TipoAlquiler & MaxOcupantes & NumBanyos & NumDormitorios & NumCamas & TipoCama & Comodidades & PiesCuadrados & Precio & Puntuacion & MetrosCuadrados\\\\\n",
       "  & <fct> & <fct> & <fct> & <fct> & <int> & <dbl> & <int> & <int> & <fct> & <fct> & <int> & <int> & <int> & <dbl>\\\\\n",
       "\\hline\n",
       "\t1 & 28004 & Universidad & Apartment & Private room    & 2 & 2 & 1 & 1 & Real Bed & TV,Wireless Internet,Kitchen,Pets allowed,Pets live on this property,Buzzer/wireless intercom,Heating,Suitable for events,Washer,First aid kit,Essentials,Lock on bedroom door,Iron                                                                                                                                                                              &  NA & 35 &  NA &    NA\\\\\n",
       "\t2 & 28004 & Universidad & Apartment & Entire home/apt & 6 & 1 & 3 & 5 & Real Bed & TV,Internet,Wireless Internet,Air conditioning,Kitchen,Indoor fireplace,Heating,Family/kid friendly,Washer,Dryer,Smoke detector,Carbon monoxide detector,Essentials,Shampoo                                                                                                                                                                                      &  NA & 92 &  96 &    NA\\\\\n",
       "\t3 & 28004 & Universidad & Apartment & Entire home/apt & 3 & 1 & 2 & 2 & Real Bed & TV,Internet,Wireless Internet,Air conditioning,Kitchen,Doorman,Heating,Family/kid friendly,Washer,Essentials,Shampoo,Hangers,Hair dryer,Iron,Laptop friendly workspace                                                                                                                                                                                           &  NA & 55 &  91 &    NA\\\\\n",
       "\t4 & 28004 & Universidad & Loft      & Entire home/apt & 3 & 2 & 1 & 1 & Real Bed & TV,Internet,Wireless Internet,Air conditioning,Kitchen,Pets allowed,Breakfast,Elevator in building,Indoor fireplace,Buzzer/wireless intercom,Heating,Washer,Essentials,Shampoo,Hangers,Hair dryer,Iron,Laptop friendly workspace,translation missing: en.hosting\\_amenity\\_49,translation missing: en.hosting\\_amenity\\_50                                           &  NA & 60 & 100 &    NA\\\\\n",
       "\t5 & 28015 & Universidad & Apartment & Entire home/apt & 5 & 1 & 1 & 1 & Real Bed & TV,Wireless Internet,Air conditioning,Kitchen,Smoking allowed,Pets allowed,Elevator in building,Heating,Family/kid friendly,Washer,Essentials,Iron                                                                                                                                                                                                               & 538 & 75 &  90 & 49.98\\\\\n",
       "\t6 & 28004 & Universidad & Apartment & Entire home/apt & 2 & 1 & 0 & 1 & Real Bed & TV,Cable TV,Internet,Wireless Internet,Air conditioning,Wheelchair accessible,Kitchen,Doorman,Elevator in building,Buzzer/wireless intercom,Heating,Washer,Smoke detector,Carbon monoxide detector,First aid kit,Safety card,Fire extinguisher,Essentials,Shampoo,24-hour check-in,Hangers,Hair dryer,Iron,Laptop friendly workspace,Self Check-In,Doorman Entry &  NA & 55 &  95 &    NA\\\\\n",
       "\\end{tabular}\n"
      ],
      "text/markdown": [
       "\n",
       "A data.frame: 6 × 14\n",
       "\n",
       "| <!--/--> | CodigoPostal &lt;fct&gt; | Barrio &lt;fct&gt; | TipoPropiedad &lt;fct&gt; | TipoAlquiler &lt;fct&gt; | MaxOcupantes &lt;int&gt; | NumBanyos &lt;dbl&gt; | NumDormitorios &lt;int&gt; | NumCamas &lt;int&gt; | TipoCama &lt;fct&gt; | Comodidades &lt;fct&gt; | PiesCuadrados &lt;int&gt; | Precio &lt;int&gt; | Puntuacion &lt;int&gt; | MetrosCuadrados &lt;dbl&gt; |\n",
       "|---|---|---|---|---|---|---|---|---|---|---|---|---|---|---|\n",
       "| 1 | 28004 | Universidad | Apartment | Private room    | 2 | 2 | 1 | 1 | Real Bed | TV,Wireless Internet,Kitchen,Pets allowed,Pets live on this property,Buzzer/wireless intercom,Heating,Suitable for events,Washer,First aid kit,Essentials,Lock on bedroom door,Iron                                                                                                                                                                              |  NA | 35 |  NA |    NA |\n",
       "| 2 | 28004 | Universidad | Apartment | Entire home/apt | 6 | 1 | 3 | 5 | Real Bed | TV,Internet,Wireless Internet,Air conditioning,Kitchen,Indoor fireplace,Heating,Family/kid friendly,Washer,Dryer,Smoke detector,Carbon monoxide detector,Essentials,Shampoo                                                                                                                                                                                      |  NA | 92 |  96 |    NA |\n",
       "| 3 | 28004 | Universidad | Apartment | Entire home/apt | 3 | 1 | 2 | 2 | Real Bed | TV,Internet,Wireless Internet,Air conditioning,Kitchen,Doorman,Heating,Family/kid friendly,Washer,Essentials,Shampoo,Hangers,Hair dryer,Iron,Laptop friendly workspace                                                                                                                                                                                           |  NA | 55 |  91 |    NA |\n",
       "| 4 | 28004 | Universidad | Loft      | Entire home/apt | 3 | 2 | 1 | 1 | Real Bed | TV,Internet,Wireless Internet,Air conditioning,Kitchen,Pets allowed,Breakfast,Elevator in building,Indoor fireplace,Buzzer/wireless intercom,Heating,Washer,Essentials,Shampoo,Hangers,Hair dryer,Iron,Laptop friendly workspace,translation missing: en.hosting_amenity_49,translation missing: en.hosting_amenity_50                                           |  NA | 60 | 100 |    NA |\n",
       "| 5 | 28015 | Universidad | Apartment | Entire home/apt | 5 | 1 | 1 | 1 | Real Bed | TV,Wireless Internet,Air conditioning,Kitchen,Smoking allowed,Pets allowed,Elevator in building,Heating,Family/kid friendly,Washer,Essentials,Iron                                                                                                                                                                                                               | 538 | 75 |  90 | 49.98 |\n",
       "| 6 | 28004 | Universidad | Apartment | Entire home/apt | 2 | 1 | 0 | 1 | Real Bed | TV,Cable TV,Internet,Wireless Internet,Air conditioning,Wheelchair accessible,Kitchen,Doorman,Elevator in building,Buzzer/wireless intercom,Heating,Washer,Smoke detector,Carbon monoxide detector,First aid kit,Safety card,Fire extinguisher,Essentials,Shampoo,24-hour check-in,Hangers,Hair dryer,Iron,Laptop friendly workspace,Self Check-In,Doorman Entry |  NA | 55 |  95 |    NA |\n",
       "\n"
      ],
      "text/plain": [
       "  CodigoPostal Barrio      TipoPropiedad TipoAlquiler    MaxOcupantes NumBanyos\n",
       "1 28004        Universidad Apartment     Private room    2            2        \n",
       "2 28004        Universidad Apartment     Entire home/apt 6            1        \n",
       "3 28004        Universidad Apartment     Entire home/apt 3            1        \n",
       "4 28004        Universidad Loft          Entire home/apt 3            2        \n",
       "5 28015        Universidad Apartment     Entire home/apt 5            1        \n",
       "6 28004        Universidad Apartment     Entire home/apt 2            1        \n",
       "  NumDormitorios NumCamas TipoCama\n",
       "1 1              1        Real Bed\n",
       "2 3              5        Real Bed\n",
       "3 2              2        Real Bed\n",
       "4 1              1        Real Bed\n",
       "5 1              1        Real Bed\n",
       "6 0              1        Real Bed\n",
       "  Comodidades                                                                                                                                                                                                                                                                                                                                                     \n",
       "1 TV,Wireless Internet,Kitchen,Pets allowed,Pets live on this property,Buzzer/wireless intercom,Heating,Suitable for events,Washer,First aid kit,Essentials,Lock on bedroom door,Iron                                                                                                                                                                             \n",
       "2 TV,Internet,Wireless Internet,Air conditioning,Kitchen,Indoor fireplace,Heating,Family/kid friendly,Washer,Dryer,Smoke detector,Carbon monoxide detector,Essentials,Shampoo                                                                                                                                                                                     \n",
       "3 TV,Internet,Wireless Internet,Air conditioning,Kitchen,Doorman,Heating,Family/kid friendly,Washer,Essentials,Shampoo,Hangers,Hair dryer,Iron,Laptop friendly workspace                                                                                                                                                                                          \n",
       "4 TV,Internet,Wireless Internet,Air conditioning,Kitchen,Pets allowed,Breakfast,Elevator in building,Indoor fireplace,Buzzer/wireless intercom,Heating,Washer,Essentials,Shampoo,Hangers,Hair dryer,Iron,Laptop friendly workspace,translation missing: en.hosting_amenity_49,translation missing: en.hosting_amenity_50                                          \n",
       "5 TV,Wireless Internet,Air conditioning,Kitchen,Smoking allowed,Pets allowed,Elevator in building,Heating,Family/kid friendly,Washer,Essentials,Iron                                                                                                                                                                                                              \n",
       "6 TV,Cable TV,Internet,Wireless Internet,Air conditioning,Wheelchair accessible,Kitchen,Doorman,Elevator in building,Buzzer/wireless intercom,Heating,Washer,Smoke detector,Carbon monoxide detector,First aid kit,Safety card,Fire extinguisher,Essentials,Shampoo,24-hour check-in,Hangers,Hair dryer,Iron,Laptop friendly workspace,Self Check-In,Doorman Entry\n",
       "  PiesCuadrados Precio Puntuacion MetrosCuadrados\n",
       "1  NA           35      NA           NA          \n",
       "2  NA           92      96           NA          \n",
       "3  NA           55      91           NA          \n",
       "4  NA           60     100           NA          \n",
       "5 538           75      90        49.98          \n",
       "6  NA           55      95           NA          "
      ]
     },
     "metadata": {},
     "output_type": "display_data"
    }
   ],
   "source": [
    "airbnb$MetrosCuadrados <- round((airbnb$PiesCuadrados * 0.092903),2)\n",
    "head(airbnb)"
   ]
  },
  {
   "cell_type": "markdown",
   "metadata": {},
   "source": [
    "Miremos el código postal. Es una variable con entradas erroneas.\n",
    "Hay valores como '', '-'  y '28' que deberían ser considerados como NA.\n",
    "Así mismo también debería ser NA todos los que no compiencen por 28, ya que estamos con códigos postales de Madrid\n",
    "\n",
    "El código postal 28002, 28004 y 28051 tienen entradas repetidas. \n",
    "Por ejemplo las entradas 28002\\n20882 deberían ir dnetro de 28002\n",
    "\n",
    "El codigo 2804 debería ser 28004, 2805 deberia ser 28005 y 2815 juncto con 2815 debería ser 28015\n",
    "\n",
    "Limpia los datos de la columna Codigo Postal"
   ]
  },
  {
   "cell_type": "code",
   "execution_count": 63,
   "metadata": {
    "scrolled": false
   },
   "outputs": [
    {
     "data": {
      "text/html": [
       "FALSE"
      ],
      "text/latex": [
       "FALSE"
      ],
      "text/markdown": [
       "FALSE"
      ],
      "text/plain": [
       "[1] FALSE"
      ]
     },
     "metadata": {},
     "output_type": "display_data"
    },
    {
     "data": {
      "text/plain": [
       "\n",
       "                        -        20013        20126         2015        25008 \n",
       "         439            1            1            1            1            1 \n",
       "       27004        27013           28        28001       280013        28002 \n",
       "           1            1            1          231            1          170 \n",
       "28002\\n28002        28003        28004        28005        28006        28007 \n",
       "           1          185         1794         1194          218          206 \n",
       "       28008        28009        28010        28011        28012        28013 \n",
       "         338          216          384          250         2060         1019 \n",
       "       28014        28015        28016        28017        28018        28019 \n",
       "         630          600           76          107           43          200 \n",
       "       28020        28021        28022        28023        28024        28025 \n",
       "         192           58           30           23           44          123 \n",
       "       28026        28027        28028        28029        28030        28031 \n",
       "          93          122          263          110           73           27 \n",
       "       28032        28033        28034        28035        28036        28037 \n",
       "          33           89           45           59           67           65 \n",
       "       28038        28039         2804        28040        28041        28042 \n",
       "          77          160            1           16           63           90 \n",
       "       28043        28044        28045        28046        28047        28048 \n",
       "         103           19          495           32           67            1 \n",
       "       28049         2805        28050        28051 28051\\n28051        28052 \n",
       "           3            1           58           16            1            1 \n",
       "       28053        28054        28055        28056        28058        28060 \n",
       "          85           12           12            1            1            1 \n",
       "       28094        28105         2815        28850 Madrid 28004 \n",
       "           1            1            1            1            1 "
      ]
     },
     "metadata": {},
     "output_type": "display_data"
    },
    {
     "data": {
      "text/html": [
       "<table class=\"dataframe\">\n",
       "<caption>A data.frame: 79 × 14</caption>\n",
       "<thead>\n",
       "\t<tr><th></th><th scope=col>CodigoPostal</th><th scope=col>Barrio</th><th scope=col>TipoPropiedad</th><th scope=col>TipoAlquiler</th><th scope=col>MaxOcupantes</th><th scope=col>NumBanyos</th><th scope=col>NumDormitorios</th><th scope=col>NumCamas</th><th scope=col>TipoCama</th><th scope=col>Comodidades</th><th scope=col>PiesCuadrados</th><th scope=col>Precio</th><th scope=col>Puntuacion</th><th scope=col>MetrosCuadrados</th></tr>\n",
       "\t<tr><th></th><th scope=col>&lt;fct&gt;</th><th scope=col>&lt;fct&gt;</th><th scope=col>&lt;fct&gt;</th><th scope=col>&lt;fct&gt;</th><th scope=col>&lt;int&gt;</th><th scope=col>&lt;dbl&gt;</th><th scope=col>&lt;int&gt;</th><th scope=col>&lt;int&gt;</th><th scope=col>&lt;fct&gt;</th><th scope=col>&lt;fct&gt;</th><th scope=col>&lt;int&gt;</th><th scope=col>&lt;int&gt;</th><th scope=col>&lt;int&gt;</th><th scope=col>&lt;dbl&gt;</th></tr>\n",
       "</thead>\n",
       "<tbody>\n",
       "\t<tr><th scope=row>1337</th><td>28015</td><td>Gaztambide      </td><td>Apartment  </td><td>Private room   </td><td>2</td><td>2.5</td><td>1</td><td>1</td><td>Real Bed</td><td>TV,Internet,Wireless Internet,Kitchen,Elevator in building,Buzzer/wireless intercom,Heating,Family/kid friendly,Essentials,Shampoo,24-hour check-in,Hangers,Hair dryer,Iron,Laptop friendly workspace,translation missing: en.hosting_amenity_50                                                                        </td><td> NA</td><td> 15</td><td> 83</td><td>   NA</td></tr>\n",
       "\t<tr><th scope=row>1987</th><td>28018</td><td>Palomeras Bajas </td><td>Apartment  </td><td>Entire home/apt</td><td>4</td><td>1.0</td><td>2</td><td>3</td><td>Real Bed</td><td>Kitchen,Smoking allowed,Pets allowed,Heating,Family/kid friendly                                                                                                                                                                                                                                                        </td><td> NA</td><td> 32</td><td> 78</td><td>   NA</td></tr>\n",
       "\t<tr><th scope=row>2064</th><td>28008</td><td>Argüelles       </td><td>Apartment  </td><td>Entire home/apt</td><td>2</td><td>1.0</td><td>0</td><td>1</td><td>Real Bed</td><td>TV,Internet,Wireless Internet,Air conditioning,Kitchen,Doorman,Elevator in building,Buzzer/wireless intercom,Heating,Washer,Dryer,First aid kit,Essentials,Shampoo,Hangers,Hair dryer,Iron,Laptop friendly workspace,translation missing: en.hosting_amenity_49,translation missing: en.hosting_amenity_50              </td><td> NA</td><td> 59</td><td>100</td><td>   NA</td></tr>\n",
       "\t<tr><th scope=row>3100</th><td>28012</td><td>Embajadores     </td><td>Apartment  </td><td>Entire home/apt</td><td>3</td><td>1.0</td><td>1</td><td>3</td><td>Real Bed</td><td>TV,Internet,Wireless Internet,Kitchen,Elevator in building,Buzzer/wireless intercom,Heating,Family/kid friendly,Washer,Smoke detector,Carbon monoxide detector,First aid kit,Safety card,Fire extinguisher,Essentials,Shampoo,Hair dryer,Laptop friendly workspace                                                      </td><td> NA</td><td> 65</td><td> 93</td><td>   NA</td></tr>\n",
       "\t<tr><th scope=row>3506</th><td>28038</td><td>Numancia        </td><td>Apartment  </td><td>Entire home/apt</td><td>8</td><td>1.0</td><td>3</td><td>7</td><td>Real Bed</td><td>TV,Internet,Wireless Internet,Air conditioning,Kitchen,Free parking on premises,Smoking allowed,Breakfast,Heating,Family/kid friendly,Washer,Dryer,Smoke detector,Carbon monoxide detector,First aid kit,Safety card,Fire extinguisher,Essentials,Shampoo                                                               </td><td> NA</td><td> 65</td><td> 92</td><td>   NA</td></tr>\n",
       "\t<tr><th scope=row>3552</th><td>28010</td><td>Trafalgar       </td><td>Apartment  </td><td>Entire home/apt</td><td>3</td><td>1.0</td><td>2</td><td>2</td><td>Real Bed</td><td>TV,Internet,Wireless Internet,Kitchen,Doorman,Elevator in building,Buzzer/wireless intercom,Heating,Fire extinguisher,Essentials,Shampoo,Hangers,Hair dryer,Iron,Laptop friendly workspace,translation missing: en.hosting_amenity_49,translation missing: en.hosting_amenity_50                                        </td><td> NA</td><td> 74</td><td> 97</td><td>   NA</td></tr>\n",
       "\t<tr><th scope=row>4481</th><td>28028</td><td>Guindalera      </td><td>Apartment  </td><td>Private room   </td><td>2</td><td>1.0</td><td>1</td><td>2</td><td>Real Bed</td><td>TV,Internet,Kitchen,Heating,Washer,Essentials,translation missing: en.hosting_amenity_49,translation missing: en.hosting_amenity_50                                                                                                                                                                                     </td><td> NA</td><td> 19</td><td> 71</td><td>   NA</td></tr>\n",
       "\t<tr><th scope=row>4814</th><td>28004</td><td>Justicia        </td><td>Apartment  </td><td>Private room   </td><td>2</td><td>1.0</td><td>1</td><td>2</td><td>Real Bed</td><td>Wireless Internet,Smoking allowed,Pets allowed,Elevator in building,Essentials,Shampoo                                                                                                                                                                                                                                  </td><td> NA</td><td> 30</td><td> 90</td><td>   NA</td></tr>\n",
       "\t<tr><th scope=row>4850</th><td>28013</td><td>Palacio         </td><td>Apartment  </td><td>Private room   </td><td>1</td><td>1.0</td><td>1</td><td>1</td><td>Real Bed</td><td>TV,Cable TV,Internet,Wireless Internet,Air conditioning,Kitchen,Doorman,Elevator in building,Buzzer/wireless intercom,Heating,Washer,Essentials,Hangers,Iron,translation missing: en.hosting_amenity_49,translation missing: en.hosting_amenity_50                                                                      </td><td> NA</td><td> 39</td><td>100</td><td>   NA</td></tr>\n",
       "\t<tr><th scope=row>5324</th><td>28011</td><td>Puerta del Angel</td><td>Apartment  </td><td>Private room   </td><td>1</td><td>1.0</td><td>1</td><td>1</td><td>Real Bed</td><td>Wireless Internet,Air conditioning,Kitchen,Free parking on premises,Pets allowed,Elevator in building,Heating,Family/kid friendly,Washer,Dryer,Essentials,Shampoo,Hangers,Hair dryer,Iron,Laptop friendly workspace                                                                                                     </td><td> NA</td><td> 25</td><td> NA</td><td>   NA</td></tr>\n",
       "\t<tr><th scope=row>5531</th><td>28028</td><td>Guindalera      </td><td>Apartment  </td><td>Private room   </td><td>2</td><td>1.0</td><td>1</td><td>2</td><td>Real Bed</td><td>TV,Wireless Internet,Kitchen,Buzzer/wireless intercom,Heating,Family/kid friendly,Washer,First aid kit,Essentials,Iron,Laptop friendly workspace                                                                                                                                                                        </td><td> NA</td><td> 18</td><td> 82</td><td>   NA</td></tr>\n",
       "\t<tr><th scope=row>6139</th><td>28036</td><td>Hispanoamérica  </td><td>Apartment  </td><td>Entire home/apt</td><td>3</td><td>1.0</td><td>1</td><td>1</td><td>Real Bed</td><td>Wireless Internet,Air conditioning,Smoking allowed,Pets allowed,Elevator in building,Heating,Family/kid friendly,Washer,First aid kit,Iron,Laptop friendly workspace                                                                                                                                                    </td><td> NA</td><td> 75</td><td>100</td><td>   NA</td></tr>\n",
       "\t<tr><th scope=row>6210</th><td>28013</td><td>Palacio         </td><td>Apartment  </td><td>Entire home/apt</td><td>4</td><td>1.0</td><td>1</td><td>2</td><td>Real Bed</td><td>TV,Wireless Internet,Kitchen,Elevator in building,Heating,Family/kid friendly,Washer,Smoke detector,Carbon monoxide detector,Essentials,Shampoo,24-hour check-in,Hangers,Hair dryer,Iron,Laptop friendly workspace                                                                                                      </td><td> NA</td><td> 60</td><td> 93</td><td>   NA</td></tr>\n",
       "\t<tr><th scope=row>6701</th><td>28019</td><td>Opañel          </td><td>Apartment  </td><td>Private room   </td><td>2</td><td>1.0</td><td>1</td><td>1</td><td>Real Bed</td><td>TV,Wireless Internet,Kitchen,Heating,Family/kid friendly,Washer,Essentials,Shampoo                                                                                                                                                                                                                                      </td><td> NA</td><td> 16</td><td> 99</td><td>   NA</td></tr>\n",
       "\t<tr><th scope=row>6782</th><td>28006</td><td>Lista           </td><td>Apartment  </td><td>Private room   </td><td>2</td><td>1.0</td><td>1</td><td>2</td><td>Real Bed</td><td>TV,Internet,Wireless Internet,Air conditioning,Elevator in building,Buzzer/wireless intercom,Heating,Essentials,Shampoo                                                                                                                                                                                                 </td><td> NA</td><td> 38</td><td> 90</td><td>   NA</td></tr>\n",
       "\t<tr><th scope=row>6938</th><td>28015</td><td>Universidad     </td><td>Apartment  </td><td>Private room   </td><td>1</td><td>1.0</td><td>1</td><td>1</td><td>Real Bed</td><td>TV,Wireless Internet,Air conditioning,Wheelchair accessible,Kitchen,Doorman,Elevator in building,Buzzer/wireless intercom,Heating,Washer,Essentials,Shampoo,Lock on bedroom door,Iron,translation missing: en.hosting_amenity_49,translation missing: en.hosting_amenity_50                                             </td><td> NA</td><td> 17</td><td> 99</td><td>   NA</td></tr>\n",
       "\t<tr><th scope=row>6974</th><td>28010</td><td>Almagro         </td><td>Apartment  </td><td>Entire home/apt</td><td>3</td><td>1.5</td><td>1</td><td>2</td><td>Real Bed</td><td>TV,Cable TV,Internet,Wireless Internet,Air conditioning,Wheelchair accessible,Kitchen,Doorman,Elevator in building,Buzzer/wireless intercom,Heating,Family/kid friendly,Washer,Safety card,Fire extinguisher,Essentials,24-hour check-in,Hangers,Hair dryer,Iron,Laptop friendly workspace                              </td><td> NA</td><td> 85</td><td> 98</td><td>   NA</td></tr>\n",
       "\t<tr><th scope=row>6986</th><td>28038</td><td>Numancia        </td><td>Apartment  </td><td>Entire home/apt</td><td>6</td><td>2.0</td><td>3</td><td>3</td><td>Real Bed</td><td>TV,Wireless Internet,Air conditioning,Kitchen,Free parking on premises,Elevator in building,Indoor fireplace,Heating,Family/kid friendly,Washer,Dryer,Essentials,Shampoo,Hangers,Hair dryer,Iron,Laptop friendly workspace                                                                                              </td><td> NA</td><td>200</td><td> NA</td><td>   NA</td></tr>\n",
       "\t<tr><th scope=row>7783</th><td>28013</td><td>Sol             </td><td>Apartment  </td><td>Entire home/apt</td><td>3</td><td>1.0</td><td>1</td><td>2</td><td>Real Bed</td><td>TV,Wireless Internet,Air conditioning,Kitchen,Buzzer/wireless intercom,Heating,Family/kid friendly,Washer,Essentials,Shampoo,24-hour check-in,Hangers,Hair dryer,Iron,Laptop friendly workspace,Self Check-In,Doorman Entry                                                                                             </td><td>215</td><td> 56</td><td> 87</td><td>19.97</td></tr>\n",
       "\t<tr><th scope=row>7824</th><td>28012</td><td>Cortes          </td><td>Apartment  </td><td>Private room   </td><td>1</td><td>2.0</td><td>1</td><td>1</td><td>Real Bed</td><td>TV,Wireless Internet,Kitchen,Elevator in building,Washer,Lock on bedroom door,Hangers,Laptop friendly workspace,translation missing: en.hosting_amenity_49,translation missing: en.hosting_amenity_50,Private living room                                                                                               </td><td> NA</td><td> 33</td><td> NA</td><td>   NA</td></tr>\n",
       "\t<tr><th scope=row>7833</th><td>28014</td><td>Cortes          </td><td>Apartment  </td><td>Entire home/apt</td><td>2</td><td>1.0</td><td>1</td><td>1</td><td>Real Bed</td><td>TV,Cable TV,Internet,Wireless Internet,Air conditioning,Kitchen,Smoking allowed,Doorman,Buzzer/wireless intercom,Heating,Family/kid friendly,Suitable for events,Washer,Dryer,Essentials,Hangers,Hair dryer,Iron                                                                                                        </td><td> NA</td><td> 55</td><td> 90</td><td>   NA</td></tr>\n",
       "\t<tr><th scope=row>7840</th><td>28003</td><td>Arapiles        </td><td>Condominium</td><td>Entire home/apt</td><td>2</td><td>1.0</td><td>0</td><td>1</td><td>Real Bed</td><td>TV,Wireless Internet,Air conditioning,Kitchen,Elevator in building,Heating,Washer,Hangers,Hair dryer,translation missing: en.hosting_amenity_49,translation missing: en.hosting_amenity_50                                                                                                                              </td><td> NA</td><td> 50</td><td>100</td><td>   NA</td></tr>\n",
       "\t<tr><th scope=row>8066</th><td>28005</td><td>Palacio         </td><td>Apartment  </td><td>Private room   </td><td>2</td><td>1.0</td><td>1</td><td>1</td><td>Real Bed</td><td>TV,Cable TV,Wireless Internet,Air conditioning,Kitchen,Smoking allowed,Pets allowed,Elevator in building,Buzzer/wireless intercom,Heating,Washer,Dryer,Essentials,Shampoo,Hangers,Laptop friendly workspace,translation missing: en.hosting_amenity_49,translation missing: en.hosting_amenity_50                       </td><td> NA</td><td> 40</td><td> NA</td><td>   NA</td></tr>\n",
       "\t<tr><th scope=row>8091</th><td>28012</td><td>Embajadores     </td><td>Apartment  </td><td>Private room   </td><td>2</td><td>2.0</td><td>1</td><td>1</td><td>Real Bed</td><td>TV,Internet,Wireless Internet,Kitchen,Smoking allowed,Suitable for events,Washer,Essentials,Shampoo,Hangers,Hair dryer,Iron,Laptop friendly workspace,translation missing: en.hosting_amenity_49,translation missing: en.hosting_amenity_50                                                                             </td><td> NA</td><td> 46</td><td> NA</td><td>   NA</td></tr>\n",
       "\t<tr><th scope=row>8097</th><td>28013</td><td>Sol             </td><td>Apartment  </td><td>Entire home/apt</td><td>4</td><td>1.0</td><td>1</td><td>2</td><td>Real Bed</td><td>Wireless Internet,Air conditioning,Kitchen,Heating,Family/kid friendly,Essentials,Lock on bedroom door,Hangers,Laptop friendly workspace,translation missing: en.hosting_amenity_50                                                                                                                                     </td><td> NA</td><td> 70</td><td> 80</td><td>   NA</td></tr>\n",
       "\t<tr><th scope=row>8198</th><td>28014</td><td>Cortes          </td><td>Apartment  </td><td>Private room   </td><td>4</td><td>2.0</td><td>1</td><td>3</td><td>Real Bed</td><td>Internet,Wireless Internet,Pets live on this property,Dog(s),Buzzer/wireless intercom,Heating,Family/kid friendly,Washer,Essentials,Shampoo,Hangers,Hair dryer,Iron,Laptop friendly workspace,translation missing: en.hosting_amenity_50                                                                                </td><td>  0</td><td> 38</td><td> 92</td><td> 0.00</td></tr>\n",
       "\t<tr><th scope=row>8267</th><td>28004</td><td>Universidad     </td><td>Apartment  </td><td>Entire home/apt</td><td>3</td><td>1.0</td><td>2</td><td>2</td><td>Real Bed</td><td>Kitchen,Elevator in building,Buzzer/wireless intercom,Heating,Family/kid friendly,Washer,Essentials,Shampoo,Hangers,Hair dryer,Iron,Laptop friendly workspace                                                                                                                                                           </td><td> NA</td><td> 58</td><td> 85</td><td>   NA</td></tr>\n",
       "\t<tr><th scope=row>8316</th><td>28012</td><td>Embajadores     </td><td>Apartment  </td><td>Private room   </td><td>2</td><td>1.0</td><td>1</td><td>1</td><td>Real Bed</td><td>TV,Internet,Wireless Internet,Air conditioning,Kitchen,Pets live on this property,Cat(s),Buzzer/wireless intercom,Heating,Family/kid friendly,Washer,First aid kit,Essentials,Shampoo,Lock on bedroom door,24-hour check-in,Hangers,Hair dryer,Iron,Laptop friendly workspace,translation missing: en.hosting_amenity_49</td><td> NA</td><td> 29</td><td> 96</td><td>   NA</td></tr>\n",
       "\t<tr><th scope=row>8421</th><td>28005</td><td>Palacio         </td><td>House      </td><td>Entire home/apt</td><td>7</td><td>1.0</td><td>2</td><td>3</td><td>Real Bed</td><td>Internet,Wireless Internet,Kitchen,Elevator in building,Indoor fireplace,Buzzer/wireless intercom,Heating,Family/kid friendly,Washer,Essentials,Shampoo,Hangers,Hair dryer,Iron,Laptop friendly workspace,Private entrance,Bathtub                                                                                      </td><td> NA</td><td> 95</td><td> NA</td><td>   NA</td></tr>\n",
       "\t<tr><th scope=row>8531</th><td>28004</td><td>Universidad     </td><td>Apartment  </td><td>Entire home/apt</td><td>3</td><td>1.0</td><td>1</td><td>2</td><td>Real Bed</td><td>TV,Wireless Internet,Air conditioning,Kitchen,Elevator in building,Buzzer/wireless intercom,Heating,Family/kid friendly,Washer,Essentials                                                                                                                                                                               </td><td> NA</td><td> 65</td><td> 84</td><td>   NA</td></tr>\n",
       "\t<tr><th scope=row>⋮</th><td>⋮</td><td>⋮</td><td>⋮</td><td>⋮</td><td>⋮</td><td>⋮</td><td>⋮</td><td>⋮</td><td>⋮</td><td>⋮</td><td>⋮</td><td>⋮</td><td>⋮</td><td>⋮</td></tr>\n",
       "\t<tr><th scope=row>10667</th><td>28014</td><td>Cortes       </td><td>Apartment      </td><td>Entire home/apt</td><td>4</td><td>1.0</td><td>2</td><td>3</td><td>Real Bed</td><td>TV,Cable TV,Internet,Wireless Internet,Air conditioning,Kitchen,Elevator in building,Buzzer/wireless intercom,Heating,Family/kid friendly,Washer,Essentials,Hair dryer,Iron,Laptop friendly workspace                                                                                                                                                     </td><td> NA</td><td> 77</td><td> 91</td><td>   NA</td></tr>\n",
       "\t<tr><th scope=row>10671</th><td>28012</td><td>Embajadores  </td><td>Apartment      </td><td>Entire home/apt</td><td>2</td><td>1.0</td><td>0</td><td>1</td><td>Real Bed</td><td>TV,Wireless Internet,Air conditioning,Kitchen,Elevator in building,Heating,Family/kid friendly,Washer,Essentials,Shampoo,Hangers,Hair dryer,Iron,Laptop friendly workspace,translation missing: en.hosting_amenity_49                                                                                                                                     </td><td> NA</td><td> 55</td><td> 95</td><td>   NA</td></tr>\n",
       "\t<tr><th scope=row>10691</th><td>28013</td><td>Sol          </td><td>Apartment      </td><td>Entire home/apt</td><td>6</td><td>4.0</td><td>3</td><td>6</td><td>Real Bed</td><td>TV,Wireless Internet,Air conditioning,Kitchen,Pets allowed,Elevator in building,Heating,Family/kid friendly,Washer,Dryer,Safety card,Essentials,Shampoo,Hangers,Hair dryer,Iron,Laptop friendly workspace,Private entrance                                                                                                                                </td><td> NA</td><td>195</td><td> NA</td><td>   NA</td></tr>\n",
       "\t<tr><th scope=row>10711</th><td>28015</td><td>Universidad  </td><td>Apartment      </td><td>Entire home/apt</td><td>6</td><td>1.0</td><td>2</td><td>3</td><td>Real Bed</td><td>TV,Wireless Internet,Kitchen,Smoking allowed,Elevator in building,Buzzer/wireless intercom,Heating,Family/kid friendly,Washer,Essentials                                                                                                                                                                                                                  </td><td> NA</td><td> 71</td><td> 90</td><td>   NA</td></tr>\n",
       "\t<tr><th scope=row>10725</th><td>28013</td><td>Sol          </td><td>Apartment      </td><td>Private room   </td><td>2</td><td>2.0</td><td>1</td><td>1</td><td>Real Bed</td><td>Internet,Wireless Internet,Kitchen,Smoking allowed,Buzzer/wireless intercom,Heating,Washer,Lock on bedroom door,Hangers,Laptop friendly workspace,translation missing: en.hosting_amenity_49,translation missing: en.hosting_amenity_50,Bathtub                                                                                                           </td><td> NA</td><td> 20</td><td> 90</td><td>   NA</td></tr>\n",
       "\t<tr><th scope=row>10840</th><td>28013</td><td>Sol          </td><td>House          </td><td>Private room   </td><td>2</td><td>1.0</td><td>1</td><td>2</td><td>Real Bed</td><td>Wireless Internet,Air conditioning,Doorman,Elevator in building,Buzzer/wireless intercom,Heating,Family/kid friendly,Washer,First aid kit,Fire extinguisher,Essentials,Shampoo,Hangers,Hair dryer,Laptop friendly workspace,translation missing: en.hosting_amenity_50                                                                                    </td><td> NA</td><td> 40</td><td> 97</td><td>   NA</td></tr>\n",
       "\t<tr><th scope=row>10973</th><td>28025</td><td>Puerta Bonita</td><td>House          </td><td>Entire home/apt</td><td>2</td><td>1.0</td><td>1</td><td>1</td><td>Real Bed</td><td>TV,Internet,Wireless Internet,Kitchen,Smoking allowed,Gym,Elevator in building,Buzzer/wireless intercom,Heating,Washer,Dryer,Essentials,Shampoo                                                                                                                                                                                                           </td><td> NA</td><td> 59</td><td> 87</td><td>   NA</td></tr>\n",
       "\t<tr><th scope=row>10975</th><td>28044</td><td>Buenavista   </td><td>Apartment      </td><td>Entire home/apt</td><td>5</td><td>1.0</td><td>3</td><td>3</td><td>Real Bed</td><td>TV,Internet,Wireless Internet,Air conditioning,Kitchen,Free parking on premises,Smoking allowed,Pets allowed,Heating,Family/kid friendly,Washer,Essentials                                                                                                                                                                                                </td><td> NA</td><td> 85</td><td> 92</td><td>   NA</td></tr>\n",
       "\t<tr><th scope=row>10987</th><td>28030</td><td>Marroquina   </td><td>Apartment      </td><td>Entire home/apt</td><td>3</td><td>1.0</td><td>1</td><td>1</td><td>Real Bed</td><td>TV,Wheelchair accessible,Pool,Kitchen,Doorman,Elevator in building,Buzzer/wireless intercom,Heating,Washer,First aid kit,Safety card,Fire extinguisher,Essentials,Shampoo                                                                                                                                                                                 </td><td> NA</td><td> 50</td><td> NA</td><td>   NA</td></tr>\n",
       "\t<tr><th scope=row>11305</th><td>28004</td><td>Justicia     </td><td>Apartment      </td><td>Entire home/apt</td><td>2</td><td>1.0</td><td>1</td><td>1</td><td>Real Bed</td><td>TV,Wireless Internet,Air conditioning,Kitchen,Heating,Washer,Essentials,Hangers,Hair dryer,Iron,Laptop friendly workspace                                                                                                                                                                                                                                 </td><td> NA</td><td> 76</td><td> 87</td><td>   NA</td></tr>\n",
       "\t<tr><th scope=row>11376</th><td>28005</td><td><span style=white-space:pre-wrap>Palacio      </span></td><td>Bed &amp; Breakfast</td><td><span style=white-space:pre-wrap>Private room   </span></td><td>1</td><td>0.5</td><td>1</td><td>1</td><td>Real Bed</td><td><span style=white-space:pre-wrap>Wireless Internet,Kitchen,Smoking allowed,Breakfast,Pets live on this property,Dog(s),Heating,Washer,First aid kit,Essentials,Shampoo,24-hour check-in,Hangers,Iron,translation missing: en.hosting_amenity_49,translation missing: en.hosting_amenity_50                                                                                                 </span></td><td> NA</td><td> 25</td><td> NA</td><td><span style=white-space:pre-wrap>   NA</span></td></tr>\n",
       "\t<tr><th scope=row>11387</th><td>28012</td><td>Embajadores  </td><td>Apartment      </td><td>Entire home/apt</td><td>4</td><td>1.0</td><td>1</td><td>2</td><td>Real Bed</td><td>TV,Wireless Internet,Air conditioning,Kitchen,Heating,Family/kid friendly,Washer,Smoke detector,Carbon monoxide detector,Essentials,Shampoo,24-hour check-in,Hangers,Hair dryer,Iron,Laptop friendly workspace                                                                                                                                            </td><td> NA</td><td> 50</td><td> 84</td><td>   NA</td></tr>\n",
       "\t<tr><th scope=row>11418</th><td>28004</td><td>Justicia     </td><td>Apartment      </td><td>Entire home/apt</td><td>4</td><td>1.0</td><td>0</td><td>2</td><td>Real Bed</td><td>TV,Internet,Wireless Internet,Air conditioning,Kitchen,Buzzer/wireless intercom,Heating,Family/kid friendly,Essentials,Shampoo,Hangers,Hair dryer,Iron,Laptop friendly workspace                                                                                                                                                                          </td><td> NA</td><td> 47</td><td> 92</td><td>   NA</td></tr>\n",
       "\t<tr><th scope=row>11458</th><td>28013</td><td>Justicia     </td><td>Condominium    </td><td>Private room   </td><td>2</td><td>4.5</td><td>1</td><td>1</td><td>Real Bed</td><td>TV,Cable TV,Internet,Wireless Internet,Air conditioning,Kitchen,Pets allowed,Doorman,Elevator in building,Buzzer/wireless intercom,Heating,Family/kid friendly,Washer,Dryer,Essentials,Shampoo,Lock on bedroom door,24-hour check-in,Hangers,Hair dryer,Iron,Laptop friendly workspace                                                                    </td><td> NA</td><td> 25</td><td> NA</td><td>   NA</td></tr>\n",
       "\t<tr><th scope=row>11483</th><td>28015</td><td>Universidad  </td><td>Apartment      </td><td>Entire home/apt</td><td>5</td><td>1.0</td><td>2</td><td>4</td><td>Real Bed</td><td>TV,Wireless Internet,Kitchen,Doorman,Elevator in building,Buzzer/wireless intercom,Heating,Family/kid friendly,Washer,Dryer,Essentials,Hangers,Hair dryer,Iron,Laptop friendly workspace                                                                                                                                                                  </td><td>753</td><td> 73</td><td> 90</td><td>69.96</td></tr>\n",
       "\t<tr><th scope=row>11484</th><td>28015</td><td>Universidad  </td><td>Apartment      </td><td>Entire home/apt</td><td>3</td><td>1.0</td><td>0</td><td>3</td><td>Real Bed</td><td>Internet,Air conditioning,Kitchen,Smoking allowed,Buzzer/wireless intercom,Heating,Family/kid friendly,Washer,Essentials,Shampoo,Hangers,Hair dryer,Iron,Laptop friendly workspace                                                                                                                                                                        </td><td> NA</td><td> 61</td><td> 96</td><td>   NA</td></tr>\n",
       "\t<tr><th scope=row>11629</th><td>28053</td><td><span style=white-space:pre-wrap>San Diego    </span></td><td>Bed &amp; Breakfast</td><td><span style=white-space:pre-wrap>Private room   </span></td><td>2</td><td>1.0</td><td>1</td><td>1</td><td>Real Bed</td><td><span style=white-space:pre-wrap>TV,Internet,Wireless Internet,Air conditioning,Kitchen,Smoking allowed,Breakfast,Elevator in building,Heating,Washer,First aid kit,Essentials,Shampoo,Hangers,Iron,Laptop friendly workspace,translation missing: en.hosting_amenity_49,translation missing: en.hosting_amenity_50                                                                        </span></td><td> NA</td><td> 25</td><td> 92</td><td><span style=white-space:pre-wrap>   NA</span></td></tr>\n",
       "\t<tr><th scope=row>11636</th><td>28030</td><td>Fontarrón    </td><td>Apartment      </td><td>Private room   </td><td>1</td><td>2.0</td><td>1</td><td>1</td><td>Real Bed</td><td>Internet,Wireless Internet,Kitchen,Smoking allowed,Pets allowed,Pets live on this property,Dog(s),Other pet(s),Buzzer/wireless intercom,Heating,Family/kid friendly,Washer,First aid kit,Safety card,Essentials,Shampoo,Lock on bedroom door,24-hour check-in,Hangers,Hair dryer,Iron,Laptop friendly workspace,translation missing: en.hosting_amenity_50</td><td> NA</td><td> 17</td><td> 97</td><td>   NA</td></tr>\n",
       "\t<tr><th scope=row>11731</th><td>28004</td><td>Universidad  </td><td>Apartment      </td><td>Entire home/apt</td><td>2</td><td>1.0</td><td>1</td><td>1</td><td>Real Bed</td><td>TV,Wireless Internet,Kitchen,Heating,Washer,Essentials,Shampoo,Hangers,Hair dryer,translation missing: en.hosting_amenity_49,translation missing: en.hosting_amenity_50                                                                                                                                                                                   </td><td> NA</td><td> 40</td><td> 83</td><td>   NA</td></tr>\n",
       "\t<tr><th scope=row>11899</th><td>28004</td><td>Universidad  </td><td>Apartment      </td><td>Entire home/apt</td><td>3</td><td>1.0</td><td>1</td><td>3</td><td>Real Bed</td><td>TV,Internet,Wireless Internet,Kitchen,Heating,Essentials,Shampoo                                                                                                                                                                                                                                                                                          </td><td> NA</td><td> 55</td><td> 90</td><td>   NA</td></tr>\n",
       "\t<tr><th scope=row>12130</th><td>28002</td><td>Prosperidad  </td><td>Apartment      </td><td>Entire home/apt</td><td>5</td><td>1.0</td><td>1</td><td>4</td><td>Real Bed</td><td>TV,Internet,Wireless Internet,Air conditioning,Wheelchair accessible,Kitchen,Pets allowed,Doorman,Breakfast,Elevator in building,Heating,Family/kid friendly,Washer,Essentials,Shampoo,Hangers,Iron,Laptop friendly workspace                                                                                                                             </td><td> NA</td><td> 65</td><td>100</td><td>   NA</td></tr>\n",
       "\t<tr><th scope=row>12225</th><td>     </td><td>Palacio      </td><td>Apartment      </td><td>Entire home/apt</td><td>8</td><td>2.0</td><td>3</td><td>4</td><td>Real Bed</td><td>TV,Wireless Internet,Kitchen,Smoking allowed,Pets allowed,Breakfast,Hot tub,Buzzer/wireless intercom,Heating,Family/kid friendly,Suitable for events,Essentials,Shampoo,Lock on bedroom door,Hangers,Hair dryer,Iron,Laptop friendly workspace                                                                                                            </td><td> NA</td><td>160</td><td>100</td><td>   NA</td></tr>\n",
       "\t<tr><th scope=row>12274</th><td>28013</td><td>Palacio      </td><td>Apartment      </td><td>Private room   </td><td>2</td><td>2.0</td><td>1</td><td>1</td><td>Real Bed</td><td>Internet,Wireless Internet,Kitchen,Elevator in building,Buzzer/wireless intercom,Family/kid friendly,Washer,Essentials                                                                                                                                                                                                                                    </td><td> NA</td><td> 17</td><td> 81</td><td>   NA</td></tr>\n",
       "\t<tr><th scope=row>12284</th><td>28012</td><td>Embajadores  </td><td>Apartment      </td><td>Entire home/apt</td><td>2</td><td>1.0</td><td>1</td><td>1</td><td>Real Bed</td><td>TV,Cable TV,Internet,Wireless Internet,Air conditioning,Kitchen,Smoking allowed,Buzzer/wireless intercom,Heating,Washer,Essentials,Shampoo,24-hour check-in,Hangers,Hair dryer,Iron,Laptop friendly workspace,translation missing: en.hosting_amenity_49,translation missing: en.hosting_amenity_50                                                       </td><td> NA</td><td> 52</td><td> 90</td><td>   NA</td></tr>\n",
       "\t<tr><th scope=row>12391</th><td>28045</td><td>Chopera      </td><td>Apartment      </td><td>Private room   </td><td>4</td><td>1.0</td><td>1</td><td>3</td><td>Real Bed</td><td>TV,Internet,Wireless Internet,Wheelchair accessible,Kitchen,Smoking allowed,Pets allowed,Elevator in building,Heating,Family/kid friendly,Washer,Dryer,Essentials,Shampoo                                                                                                                                                                                 </td><td> NA</td><td> 18</td><td> 94</td><td>   NA</td></tr>\n",
       "\t<tr><th scope=row>12410</th><td>28028</td><td>Guindalera   </td><td>Apartment      </td><td>Private room   </td><td>2</td><td>1.0</td><td>1</td><td>2</td><td>Real Bed</td><td>TV,Cable TV,Wireless Internet,Air conditioning,Kitchen,Buzzer/wireless intercom,First aid kit,Fire extinguisher,Essentials,Shampoo,Hair dryer,Iron                                                                                                                                                                                                        </td><td> NA</td><td> 48</td><td>100</td><td>   NA</td></tr>\n",
       "\t<tr><th scope=row>12442</th><td>28002</td><td>Ciudad Jardín</td><td>Apartment      </td><td>Entire home/apt</td><td>4</td><td>1.5</td><td>2</td><td>4</td><td>Real Bed</td><td>TV,Wireless Internet,Air conditioning,Wheelchair accessible,Kitchen,Smoking allowed,Pets allowed,Elevator in building,Buzzer/wireless intercom,Heating,Family/kid friendly,Washer,Essentials,24-hour check-in,Hangers,Hair dryer,Iron,Laptop friendly workspace                                                                                           </td><td> NA</td><td> 99</td><td> 87</td><td>   NA</td></tr>\n",
       "\t<tr><th scope=row>12512</th><td>28025</td><td>Puerta Bonita</td><td>Apartment      </td><td>Entire home/apt</td><td>2</td><td>2.0</td><td>1</td><td>1</td><td>Real Bed</td><td>TV,Internet,Wireless Internet,Air conditioning,Kitchen,Smoking allowed,Pets allowed,Elevator in building,Heating,Family/kid friendly,Washer,Essentials                                                                                                                                                                                                    </td><td> NA</td><td> 60</td><td> 96</td><td>   NA</td></tr>\n",
       "\t<tr><th scope=row>12647</th><td>28014</td><td>Cortes       </td><td>Apartment      </td><td>Entire home/apt</td><td>6</td><td>1.0</td><td>2</td><td>3</td><td>Real Bed</td><td>TV,Internet,Wireless Internet,Air conditioning,Kitchen,Elevator in building,Buzzer/wireless intercom,Heating,Family/kid friendly,Washer,Essentials,Hangers,Hair dryer,Iron                                                                                                                                                                                </td><td> NA</td><td>120</td><td> NA</td><td>   NA</td></tr>\n",
       "\t<tr><th scope=row>12744</th><td>28012</td><td>Sol          </td><td>Apartment      </td><td>Entire home/apt</td><td>6</td><td>2.0</td><td>3</td><td>4</td><td>Real Bed</td><td>TV,Cable TV,Internet,Wireless Internet,Air conditioning,Kitchen,Elevator in building,Buzzer/wireless intercom,Heating,Family/kid friendly,Washer,Essentials,Hangers,Hair dryer,Iron,Laptop friendly workspace                                                                                                                                             </td><td> NA</td><td>190</td><td> 93</td><td>   NA</td></tr>\n",
       "</tbody>\n",
       "</table>\n"
      ],
      "text/latex": [
       "A data.frame: 79 × 14\n",
       "\\begin{tabular}{r|llllllllllllll}\n",
       "  & CodigoPostal & Barrio & TipoPropiedad & TipoAlquiler & MaxOcupantes & NumBanyos & NumDormitorios & NumCamas & TipoCama & Comodidades & PiesCuadrados & Precio & Puntuacion & MetrosCuadrados\\\\\n",
       "  & <fct> & <fct> & <fct> & <fct> & <int> & <dbl> & <int> & <int> & <fct> & <fct> & <int> & <int> & <int> & <dbl>\\\\\n",
       "\\hline\n",
       "\t1337 & 28015 & Gaztambide       & Apartment   & Private room    & 2 & 2.5 & 1 & 1 & Real Bed & TV,Internet,Wireless Internet,Kitchen,Elevator in building,Buzzer/wireless intercom,Heating,Family/kid friendly,Essentials,Shampoo,24-hour check-in,Hangers,Hair dryer,Iron,Laptop friendly workspace,translation missing: en.hosting\\_amenity\\_50                                                                         &  NA &  15 &  83 &    NA\\\\\n",
       "\t1987 & 28018 & Palomeras Bajas  & Apartment   & Entire home/apt & 4 & 1.0 & 2 & 3 & Real Bed & Kitchen,Smoking allowed,Pets allowed,Heating,Family/kid friendly                                                                                                                                                                                                                                                         &  NA &  32 &  78 &    NA\\\\\n",
       "\t2064 & 28008 & Argüelles        & Apartment   & Entire home/apt & 2 & 1.0 & 0 & 1 & Real Bed & TV,Internet,Wireless Internet,Air conditioning,Kitchen,Doorman,Elevator in building,Buzzer/wireless intercom,Heating,Washer,Dryer,First aid kit,Essentials,Shampoo,Hangers,Hair dryer,Iron,Laptop friendly workspace,translation missing: en.hosting\\_amenity\\_49,translation missing: en.hosting\\_amenity\\_50               &  NA &  59 & 100 &    NA\\\\\n",
       "\t3100 & 28012 & Embajadores      & Apartment   & Entire home/apt & 3 & 1.0 & 1 & 3 & Real Bed & TV,Internet,Wireless Internet,Kitchen,Elevator in building,Buzzer/wireless intercom,Heating,Family/kid friendly,Washer,Smoke detector,Carbon monoxide detector,First aid kit,Safety card,Fire extinguisher,Essentials,Shampoo,Hair dryer,Laptop friendly workspace                                                       &  NA &  65 &  93 &    NA\\\\\n",
       "\t3506 & 28038 & Numancia         & Apartment   & Entire home/apt & 8 & 1.0 & 3 & 7 & Real Bed & TV,Internet,Wireless Internet,Air conditioning,Kitchen,Free parking on premises,Smoking allowed,Breakfast,Heating,Family/kid friendly,Washer,Dryer,Smoke detector,Carbon monoxide detector,First aid kit,Safety card,Fire extinguisher,Essentials,Shampoo                                                                &  NA &  65 &  92 &    NA\\\\\n",
       "\t3552 & 28010 & Trafalgar        & Apartment   & Entire home/apt & 3 & 1.0 & 2 & 2 & Real Bed & TV,Internet,Wireless Internet,Kitchen,Doorman,Elevator in building,Buzzer/wireless intercom,Heating,Fire extinguisher,Essentials,Shampoo,Hangers,Hair dryer,Iron,Laptop friendly workspace,translation missing: en.hosting\\_amenity\\_49,translation missing: en.hosting\\_amenity\\_50                                         &  NA &  74 &  97 &    NA\\\\\n",
       "\t4481 & 28028 & Guindalera       & Apartment   & Private room    & 2 & 1.0 & 1 & 2 & Real Bed & TV,Internet,Kitchen,Heating,Washer,Essentials,translation missing: en.hosting\\_amenity\\_49,translation missing: en.hosting\\_amenity\\_50                                                                                                                                                                                      &  NA &  19 &  71 &    NA\\\\\n",
       "\t4814 & 28004 & Justicia         & Apartment   & Private room    & 2 & 1.0 & 1 & 2 & Real Bed & Wireless Internet,Smoking allowed,Pets allowed,Elevator in building,Essentials,Shampoo                                                                                                                                                                                                                                   &  NA &  30 &  90 &    NA\\\\\n",
       "\t4850 & 28013 & Palacio          & Apartment   & Private room    & 1 & 1.0 & 1 & 1 & Real Bed & TV,Cable TV,Internet,Wireless Internet,Air conditioning,Kitchen,Doorman,Elevator in building,Buzzer/wireless intercom,Heating,Washer,Essentials,Hangers,Iron,translation missing: en.hosting\\_amenity\\_49,translation missing: en.hosting\\_amenity\\_50                                                                       &  NA &  39 & 100 &    NA\\\\\n",
       "\t5324 & 28011 & Puerta del Angel & Apartment   & Private room    & 1 & 1.0 & 1 & 1 & Real Bed & Wireless Internet,Air conditioning,Kitchen,Free parking on premises,Pets allowed,Elevator in building,Heating,Family/kid friendly,Washer,Dryer,Essentials,Shampoo,Hangers,Hair dryer,Iron,Laptop friendly workspace                                                                                                      &  NA &  25 &  NA &    NA\\\\\n",
       "\t5531 & 28028 & Guindalera       & Apartment   & Private room    & 2 & 1.0 & 1 & 2 & Real Bed & TV,Wireless Internet,Kitchen,Buzzer/wireless intercom,Heating,Family/kid friendly,Washer,First aid kit,Essentials,Iron,Laptop friendly workspace                                                                                                                                                                         &  NA &  18 &  82 &    NA\\\\\n",
       "\t6139 & 28036 & Hispanoamérica   & Apartment   & Entire home/apt & 3 & 1.0 & 1 & 1 & Real Bed & Wireless Internet,Air conditioning,Smoking allowed,Pets allowed,Elevator in building,Heating,Family/kid friendly,Washer,First aid kit,Iron,Laptop friendly workspace                                                                                                                                                     &  NA &  75 & 100 &    NA\\\\\n",
       "\t6210 & 28013 & Palacio          & Apartment   & Entire home/apt & 4 & 1.0 & 1 & 2 & Real Bed & TV,Wireless Internet,Kitchen,Elevator in building,Heating,Family/kid friendly,Washer,Smoke detector,Carbon monoxide detector,Essentials,Shampoo,24-hour check-in,Hangers,Hair dryer,Iron,Laptop friendly workspace                                                                                                       &  NA &  60 &  93 &    NA\\\\\n",
       "\t6701 & 28019 & Opañel           & Apartment   & Private room    & 2 & 1.0 & 1 & 1 & Real Bed & TV,Wireless Internet,Kitchen,Heating,Family/kid friendly,Washer,Essentials,Shampoo                                                                                                                                                                                                                                       &  NA &  16 &  99 &    NA\\\\\n",
       "\t6782 & 28006 & Lista            & Apartment   & Private room    & 2 & 1.0 & 1 & 2 & Real Bed & TV,Internet,Wireless Internet,Air conditioning,Elevator in building,Buzzer/wireless intercom,Heating,Essentials,Shampoo                                                                                                                                                                                                  &  NA &  38 &  90 &    NA\\\\\n",
       "\t6938 & 28015 & Universidad      & Apartment   & Private room    & 1 & 1.0 & 1 & 1 & Real Bed & TV,Wireless Internet,Air conditioning,Wheelchair accessible,Kitchen,Doorman,Elevator in building,Buzzer/wireless intercom,Heating,Washer,Essentials,Shampoo,Lock on bedroom door,Iron,translation missing: en.hosting\\_amenity\\_49,translation missing: en.hosting\\_amenity\\_50                                              &  NA &  17 &  99 &    NA\\\\\n",
       "\t6974 & 28010 & Almagro          & Apartment   & Entire home/apt & 3 & 1.5 & 1 & 2 & Real Bed & TV,Cable TV,Internet,Wireless Internet,Air conditioning,Wheelchair accessible,Kitchen,Doorman,Elevator in building,Buzzer/wireless intercom,Heating,Family/kid friendly,Washer,Safety card,Fire extinguisher,Essentials,24-hour check-in,Hangers,Hair dryer,Iron,Laptop friendly workspace                               &  NA &  85 &  98 &    NA\\\\\n",
       "\t6986 & 28038 & Numancia         & Apartment   & Entire home/apt & 6 & 2.0 & 3 & 3 & Real Bed & TV,Wireless Internet,Air conditioning,Kitchen,Free parking on premises,Elevator in building,Indoor fireplace,Heating,Family/kid friendly,Washer,Dryer,Essentials,Shampoo,Hangers,Hair dryer,Iron,Laptop friendly workspace                                                                                               &  NA & 200 &  NA &    NA\\\\\n",
       "\t7783 & 28013 & Sol              & Apartment   & Entire home/apt & 3 & 1.0 & 1 & 2 & Real Bed & TV,Wireless Internet,Air conditioning,Kitchen,Buzzer/wireless intercom,Heating,Family/kid friendly,Washer,Essentials,Shampoo,24-hour check-in,Hangers,Hair dryer,Iron,Laptop friendly workspace,Self Check-In,Doorman Entry                                                                                              & 215 &  56 &  87 & 19.97\\\\\n",
       "\t7824 & 28012 & Cortes           & Apartment   & Private room    & 1 & 2.0 & 1 & 1 & Real Bed & TV,Wireless Internet,Kitchen,Elevator in building,Washer,Lock on bedroom door,Hangers,Laptop friendly workspace,translation missing: en.hosting\\_amenity\\_49,translation missing: en.hosting\\_amenity\\_50,Private living room                                                                                                &  NA &  33 &  NA &    NA\\\\\n",
       "\t7833 & 28014 & Cortes           & Apartment   & Entire home/apt & 2 & 1.0 & 1 & 1 & Real Bed & TV,Cable TV,Internet,Wireless Internet,Air conditioning,Kitchen,Smoking allowed,Doorman,Buzzer/wireless intercom,Heating,Family/kid friendly,Suitable for events,Washer,Dryer,Essentials,Hangers,Hair dryer,Iron                                                                                                         &  NA &  55 &  90 &    NA\\\\\n",
       "\t7840 & 28003 & Arapiles         & Condominium & Entire home/apt & 2 & 1.0 & 0 & 1 & Real Bed & TV,Wireless Internet,Air conditioning,Kitchen,Elevator in building,Heating,Washer,Hangers,Hair dryer,translation missing: en.hosting\\_amenity\\_49,translation missing: en.hosting\\_amenity\\_50                                                                                                                               &  NA &  50 & 100 &    NA\\\\\n",
       "\t8066 & 28005 & Palacio          & Apartment   & Private room    & 2 & 1.0 & 1 & 1 & Real Bed & TV,Cable TV,Wireless Internet,Air conditioning,Kitchen,Smoking allowed,Pets allowed,Elevator in building,Buzzer/wireless intercom,Heating,Washer,Dryer,Essentials,Shampoo,Hangers,Laptop friendly workspace,translation missing: en.hosting\\_amenity\\_49,translation missing: en.hosting\\_amenity\\_50                        &  NA &  40 &  NA &    NA\\\\\n",
       "\t8091 & 28012 & Embajadores      & Apartment   & Private room    & 2 & 2.0 & 1 & 1 & Real Bed & TV,Internet,Wireless Internet,Kitchen,Smoking allowed,Suitable for events,Washer,Essentials,Shampoo,Hangers,Hair dryer,Iron,Laptop friendly workspace,translation missing: en.hosting\\_amenity\\_49,translation missing: en.hosting\\_amenity\\_50                                                                              &  NA &  46 &  NA &    NA\\\\\n",
       "\t8097 & 28013 & Sol              & Apartment   & Entire home/apt & 4 & 1.0 & 1 & 2 & Real Bed & Wireless Internet,Air conditioning,Kitchen,Heating,Family/kid friendly,Essentials,Lock on bedroom door,Hangers,Laptop friendly workspace,translation missing: en.hosting\\_amenity\\_50                                                                                                                                      &  NA &  70 &  80 &    NA\\\\\n",
       "\t8198 & 28014 & Cortes           & Apartment   & Private room    & 4 & 2.0 & 1 & 3 & Real Bed & Internet,Wireless Internet,Pets live on this property,Dog(s),Buzzer/wireless intercom,Heating,Family/kid friendly,Washer,Essentials,Shampoo,Hangers,Hair dryer,Iron,Laptop friendly workspace,translation missing: en.hosting\\_amenity\\_50                                                                                 &   0 &  38 &  92 &  0.00\\\\\n",
       "\t8267 & 28004 & Universidad      & Apartment   & Entire home/apt & 3 & 1.0 & 2 & 2 & Real Bed & Kitchen,Elevator in building,Buzzer/wireless intercom,Heating,Family/kid friendly,Washer,Essentials,Shampoo,Hangers,Hair dryer,Iron,Laptop friendly workspace                                                                                                                                                            &  NA &  58 &  85 &    NA\\\\\n",
       "\t8316 & 28012 & Embajadores      & Apartment   & Private room    & 2 & 1.0 & 1 & 1 & Real Bed & TV,Internet,Wireless Internet,Air conditioning,Kitchen,Pets live on this property,Cat(s),Buzzer/wireless intercom,Heating,Family/kid friendly,Washer,First aid kit,Essentials,Shampoo,Lock on bedroom door,24-hour check-in,Hangers,Hair dryer,Iron,Laptop friendly workspace,translation missing: en.hosting\\_amenity\\_49 &  NA &  29 &  96 &    NA\\\\\n",
       "\t8421 & 28005 & Palacio          & House       & Entire home/apt & 7 & 1.0 & 2 & 3 & Real Bed & Internet,Wireless Internet,Kitchen,Elevator in building,Indoor fireplace,Buzzer/wireless intercom,Heating,Family/kid friendly,Washer,Essentials,Shampoo,Hangers,Hair dryer,Iron,Laptop friendly workspace,Private entrance,Bathtub                                                                                       &  NA &  95 &  NA &    NA\\\\\n",
       "\t8531 & 28004 & Universidad      & Apartment   & Entire home/apt & 3 & 1.0 & 1 & 2 & Real Bed & TV,Wireless Internet,Air conditioning,Kitchen,Elevator in building,Buzzer/wireless intercom,Heating,Family/kid friendly,Washer,Essentials                                                                                                                                                                                &  NA &  65 &  84 &    NA\\\\\n",
       "\t⋮ & ⋮ & ⋮ & ⋮ & ⋮ & ⋮ & ⋮ & ⋮ & ⋮ & ⋮ & ⋮ & ⋮ & ⋮ & ⋮ & ⋮\\\\\n",
       "\t10667 & 28014 & Cortes        & Apartment       & Entire home/apt & 4 & 1.0 & 2 & 3 & Real Bed & TV,Cable TV,Internet,Wireless Internet,Air conditioning,Kitchen,Elevator in building,Buzzer/wireless intercom,Heating,Family/kid friendly,Washer,Essentials,Hair dryer,Iron,Laptop friendly workspace                                                                                                                                                      &  NA &  77 &  91 &    NA\\\\\n",
       "\t10671 & 28012 & Embajadores   & Apartment       & Entire home/apt & 2 & 1.0 & 0 & 1 & Real Bed & TV,Wireless Internet,Air conditioning,Kitchen,Elevator in building,Heating,Family/kid friendly,Washer,Essentials,Shampoo,Hangers,Hair dryer,Iron,Laptop friendly workspace,translation missing: en.hosting\\_amenity\\_49                                                                                                                                      &  NA &  55 &  95 &    NA\\\\\n",
       "\t10691 & 28013 & Sol           & Apartment       & Entire home/apt & 6 & 4.0 & 3 & 6 & Real Bed & TV,Wireless Internet,Air conditioning,Kitchen,Pets allowed,Elevator in building,Heating,Family/kid friendly,Washer,Dryer,Safety card,Essentials,Shampoo,Hangers,Hair dryer,Iron,Laptop friendly workspace,Private entrance                                                                                                                                 &  NA & 195 &  NA &    NA\\\\\n",
       "\t10711 & 28015 & Universidad   & Apartment       & Entire home/apt & 6 & 1.0 & 2 & 3 & Real Bed & TV,Wireless Internet,Kitchen,Smoking allowed,Elevator in building,Buzzer/wireless intercom,Heating,Family/kid friendly,Washer,Essentials                                                                                                                                                                                                                   &  NA &  71 &  90 &    NA\\\\\n",
       "\t10725 & 28013 & Sol           & Apartment       & Private room    & 2 & 2.0 & 1 & 1 & Real Bed & Internet,Wireless Internet,Kitchen,Smoking allowed,Buzzer/wireless intercom,Heating,Washer,Lock on bedroom door,Hangers,Laptop friendly workspace,translation missing: en.hosting\\_amenity\\_49,translation missing: en.hosting\\_amenity\\_50,Bathtub                                                                                                            &  NA &  20 &  90 &    NA\\\\\n",
       "\t10840 & 28013 & Sol           & House           & Private room    & 2 & 1.0 & 1 & 2 & Real Bed & Wireless Internet,Air conditioning,Doorman,Elevator in building,Buzzer/wireless intercom,Heating,Family/kid friendly,Washer,First aid kit,Fire extinguisher,Essentials,Shampoo,Hangers,Hair dryer,Laptop friendly workspace,translation missing: en.hosting\\_amenity\\_50                                                                                     &  NA &  40 &  97 &    NA\\\\\n",
       "\t10973 & 28025 & Puerta Bonita & House           & Entire home/apt & 2 & 1.0 & 1 & 1 & Real Bed & TV,Internet,Wireless Internet,Kitchen,Smoking allowed,Gym,Elevator in building,Buzzer/wireless intercom,Heating,Washer,Dryer,Essentials,Shampoo                                                                                                                                                                                                            &  NA &  59 &  87 &    NA\\\\\n",
       "\t10975 & 28044 & Buenavista    & Apartment       & Entire home/apt & 5 & 1.0 & 3 & 3 & Real Bed & TV,Internet,Wireless Internet,Air conditioning,Kitchen,Free parking on premises,Smoking allowed,Pets allowed,Heating,Family/kid friendly,Washer,Essentials                                                                                                                                                                                                 &  NA &  85 &  92 &    NA\\\\\n",
       "\t10987 & 28030 & Marroquina    & Apartment       & Entire home/apt & 3 & 1.0 & 1 & 1 & Real Bed & TV,Wheelchair accessible,Pool,Kitchen,Doorman,Elevator in building,Buzzer/wireless intercom,Heating,Washer,First aid kit,Safety card,Fire extinguisher,Essentials,Shampoo                                                                                                                                                                                  &  NA &  50 &  NA &    NA\\\\\n",
       "\t11305 & 28004 & Justicia      & Apartment       & Entire home/apt & 2 & 1.0 & 1 & 1 & Real Bed & TV,Wireless Internet,Air conditioning,Kitchen,Heating,Washer,Essentials,Hangers,Hair dryer,Iron,Laptop friendly workspace                                                                                                                                                                                                                                  &  NA &  76 &  87 &    NA\\\\\n",
       "\t11376 & 28005 & Palacio       & Bed \\& Breakfast & Private room    & 1 & 0.5 & 1 & 1 & Real Bed & Wireless Internet,Kitchen,Smoking allowed,Breakfast,Pets live on this property,Dog(s),Heating,Washer,First aid kit,Essentials,Shampoo,24-hour check-in,Hangers,Iron,translation missing: en.hosting\\_amenity\\_49,translation missing: en.hosting\\_amenity\\_50                                                                                                  &  NA &  25 &  NA &    NA\\\\\n",
       "\t11387 & 28012 & Embajadores   & Apartment       & Entire home/apt & 4 & 1.0 & 1 & 2 & Real Bed & TV,Wireless Internet,Air conditioning,Kitchen,Heating,Family/kid friendly,Washer,Smoke detector,Carbon monoxide detector,Essentials,Shampoo,24-hour check-in,Hangers,Hair dryer,Iron,Laptop friendly workspace                                                                                                                                             &  NA &  50 &  84 &    NA\\\\\n",
       "\t11418 & 28004 & Justicia      & Apartment       & Entire home/apt & 4 & 1.0 & 0 & 2 & Real Bed & TV,Internet,Wireless Internet,Air conditioning,Kitchen,Buzzer/wireless intercom,Heating,Family/kid friendly,Essentials,Shampoo,Hangers,Hair dryer,Iron,Laptop friendly workspace                                                                                                                                                                           &  NA &  47 &  92 &    NA\\\\\n",
       "\t11458 & 28013 & Justicia      & Condominium     & Private room    & 2 & 4.5 & 1 & 1 & Real Bed & TV,Cable TV,Internet,Wireless Internet,Air conditioning,Kitchen,Pets allowed,Doorman,Elevator in building,Buzzer/wireless intercom,Heating,Family/kid friendly,Washer,Dryer,Essentials,Shampoo,Lock on bedroom door,24-hour check-in,Hangers,Hair dryer,Iron,Laptop friendly workspace                                                                     &  NA &  25 &  NA &    NA\\\\\n",
       "\t11483 & 28015 & Universidad   & Apartment       & Entire home/apt & 5 & 1.0 & 2 & 4 & Real Bed & TV,Wireless Internet,Kitchen,Doorman,Elevator in building,Buzzer/wireless intercom,Heating,Family/kid friendly,Washer,Dryer,Essentials,Hangers,Hair dryer,Iron,Laptop friendly workspace                                                                                                                                                                   & 753 &  73 &  90 & 69.96\\\\\n",
       "\t11484 & 28015 & Universidad   & Apartment       & Entire home/apt & 3 & 1.0 & 0 & 3 & Real Bed & Internet,Air conditioning,Kitchen,Smoking allowed,Buzzer/wireless intercom,Heating,Family/kid friendly,Washer,Essentials,Shampoo,Hangers,Hair dryer,Iron,Laptop friendly workspace                                                                                                                                                                         &  NA &  61 &  96 &    NA\\\\\n",
       "\t11629 & 28053 & San Diego     & Bed \\& Breakfast & Private room    & 2 & 1.0 & 1 & 1 & Real Bed & TV,Internet,Wireless Internet,Air conditioning,Kitchen,Smoking allowed,Breakfast,Elevator in building,Heating,Washer,First aid kit,Essentials,Shampoo,Hangers,Iron,Laptop friendly workspace,translation missing: en.hosting\\_amenity\\_49,translation missing: en.hosting\\_amenity\\_50                                                                         &  NA &  25 &  92 &    NA\\\\\n",
       "\t11636 & 28030 & Fontarrón     & Apartment       & Private room    & 1 & 2.0 & 1 & 1 & Real Bed & Internet,Wireless Internet,Kitchen,Smoking allowed,Pets allowed,Pets live on this property,Dog(s),Other pet(s),Buzzer/wireless intercom,Heating,Family/kid friendly,Washer,First aid kit,Safety card,Essentials,Shampoo,Lock on bedroom door,24-hour check-in,Hangers,Hair dryer,Iron,Laptop friendly workspace,translation missing: en.hosting\\_amenity\\_50 &  NA &  17 &  97 &    NA\\\\\n",
       "\t11731 & 28004 & Universidad   & Apartment       & Entire home/apt & 2 & 1.0 & 1 & 1 & Real Bed & TV,Wireless Internet,Kitchen,Heating,Washer,Essentials,Shampoo,Hangers,Hair dryer,translation missing: en.hosting\\_amenity\\_49,translation missing: en.hosting\\_amenity\\_50                                                                                                                                                                                    &  NA &  40 &  83 &    NA\\\\\n",
       "\t11899 & 28004 & Universidad   & Apartment       & Entire home/apt & 3 & 1.0 & 1 & 3 & Real Bed & TV,Internet,Wireless Internet,Kitchen,Heating,Essentials,Shampoo                                                                                                                                                                                                                                                                                           &  NA &  55 &  90 &    NA\\\\\n",
       "\t12130 & 28002 & Prosperidad   & Apartment       & Entire home/apt & 5 & 1.0 & 1 & 4 & Real Bed & TV,Internet,Wireless Internet,Air conditioning,Wheelchair accessible,Kitchen,Pets allowed,Doorman,Breakfast,Elevator in building,Heating,Family/kid friendly,Washer,Essentials,Shampoo,Hangers,Iron,Laptop friendly workspace                                                                                                                              &  NA &  65 & 100 &    NA\\\\\n",
       "\t12225 &       & Palacio       & Apartment       & Entire home/apt & 8 & 2.0 & 3 & 4 & Real Bed & TV,Wireless Internet,Kitchen,Smoking allowed,Pets allowed,Breakfast,Hot tub,Buzzer/wireless intercom,Heating,Family/kid friendly,Suitable for events,Essentials,Shampoo,Lock on bedroom door,Hangers,Hair dryer,Iron,Laptop friendly workspace                                                                                                             &  NA & 160 & 100 &    NA\\\\\n",
       "\t12274 & 28013 & Palacio       & Apartment       & Private room    & 2 & 2.0 & 1 & 1 & Real Bed & Internet,Wireless Internet,Kitchen,Elevator in building,Buzzer/wireless intercom,Family/kid friendly,Washer,Essentials                                                                                                                                                                                                                                     &  NA &  17 &  81 &    NA\\\\\n",
       "\t12284 & 28012 & Embajadores   & Apartment       & Entire home/apt & 2 & 1.0 & 1 & 1 & Real Bed & TV,Cable TV,Internet,Wireless Internet,Air conditioning,Kitchen,Smoking allowed,Buzzer/wireless intercom,Heating,Washer,Essentials,Shampoo,24-hour check-in,Hangers,Hair dryer,Iron,Laptop friendly workspace,translation missing: en.hosting\\_amenity\\_49,translation missing: en.hosting\\_amenity\\_50                                                        &  NA &  52 &  90 &    NA\\\\\n",
       "\t12391 & 28045 & Chopera       & Apartment       & Private room    & 4 & 1.0 & 1 & 3 & Real Bed & TV,Internet,Wireless Internet,Wheelchair accessible,Kitchen,Smoking allowed,Pets allowed,Elevator in building,Heating,Family/kid friendly,Washer,Dryer,Essentials,Shampoo                                                                                                                                                                                  &  NA &  18 &  94 &    NA\\\\\n",
       "\t12410 & 28028 & Guindalera    & Apartment       & Private room    & 2 & 1.0 & 1 & 2 & Real Bed & TV,Cable TV,Wireless Internet,Air conditioning,Kitchen,Buzzer/wireless intercom,First aid kit,Fire extinguisher,Essentials,Shampoo,Hair dryer,Iron                                                                                                                                                                                                         &  NA &  48 & 100 &    NA\\\\\n",
       "\t12442 & 28002 & Ciudad Jardín & Apartment       & Entire home/apt & 4 & 1.5 & 2 & 4 & Real Bed & TV,Wireless Internet,Air conditioning,Wheelchair accessible,Kitchen,Smoking allowed,Pets allowed,Elevator in building,Buzzer/wireless intercom,Heating,Family/kid friendly,Washer,Essentials,24-hour check-in,Hangers,Hair dryer,Iron,Laptop friendly workspace                                                                                            &  NA &  99 &  87 &    NA\\\\\n",
       "\t12512 & 28025 & Puerta Bonita & Apartment       & Entire home/apt & 2 & 2.0 & 1 & 1 & Real Bed & TV,Internet,Wireless Internet,Air conditioning,Kitchen,Smoking allowed,Pets allowed,Elevator in building,Heating,Family/kid friendly,Washer,Essentials                                                                                                                                                                                                     &  NA &  60 &  96 &    NA\\\\\n",
       "\t12647 & 28014 & Cortes        & Apartment       & Entire home/apt & 6 & 1.0 & 2 & 3 & Real Bed & TV,Internet,Wireless Internet,Air conditioning,Kitchen,Elevator in building,Buzzer/wireless intercom,Heating,Family/kid friendly,Washer,Essentials,Hangers,Hair dryer,Iron                                                                                                                                                                                 &  NA & 120 &  NA &    NA\\\\\n",
       "\t12744 & 28012 & Sol           & Apartment       & Entire home/apt & 6 & 2.0 & 3 & 4 & Real Bed & TV,Cable TV,Internet,Wireless Internet,Air conditioning,Kitchen,Elevator in building,Buzzer/wireless intercom,Heating,Family/kid friendly,Washer,Essentials,Hangers,Hair dryer,Iron,Laptop friendly workspace                                                                                                                                              &  NA & 190 &  93 &    NA\\\\\n",
       "\\end{tabular}\n"
      ],
      "text/markdown": [
       "\n",
       "A data.frame: 79 × 14\n",
       "\n",
       "| <!--/--> | CodigoPostal &lt;fct&gt; | Barrio &lt;fct&gt; | TipoPropiedad &lt;fct&gt; | TipoAlquiler &lt;fct&gt; | MaxOcupantes &lt;int&gt; | NumBanyos &lt;dbl&gt; | NumDormitorios &lt;int&gt; | NumCamas &lt;int&gt; | TipoCama &lt;fct&gt; | Comodidades &lt;fct&gt; | PiesCuadrados &lt;int&gt; | Precio &lt;int&gt; | Puntuacion &lt;int&gt; | MetrosCuadrados &lt;dbl&gt; |\n",
       "|---|---|---|---|---|---|---|---|---|---|---|---|---|---|---|\n",
       "| 1337 | 28015 | Gaztambide       | Apartment   | Private room    | 2 | 2.5 | 1 | 1 | Real Bed | TV,Internet,Wireless Internet,Kitchen,Elevator in building,Buzzer/wireless intercom,Heating,Family/kid friendly,Essentials,Shampoo,24-hour check-in,Hangers,Hair dryer,Iron,Laptop friendly workspace,translation missing: en.hosting_amenity_50                                                                         |  NA |  15 |  83 |    NA |\n",
       "| 1987 | 28018 | Palomeras Bajas  | Apartment   | Entire home/apt | 4 | 1.0 | 2 | 3 | Real Bed | Kitchen,Smoking allowed,Pets allowed,Heating,Family/kid friendly                                                                                                                                                                                                                                                         |  NA |  32 |  78 |    NA |\n",
       "| 2064 | 28008 | Argüelles        | Apartment   | Entire home/apt | 2 | 1.0 | 0 | 1 | Real Bed | TV,Internet,Wireless Internet,Air conditioning,Kitchen,Doorman,Elevator in building,Buzzer/wireless intercom,Heating,Washer,Dryer,First aid kit,Essentials,Shampoo,Hangers,Hair dryer,Iron,Laptop friendly workspace,translation missing: en.hosting_amenity_49,translation missing: en.hosting_amenity_50               |  NA |  59 | 100 |    NA |\n",
       "| 3100 | 28012 | Embajadores      | Apartment   | Entire home/apt | 3 | 1.0 | 1 | 3 | Real Bed | TV,Internet,Wireless Internet,Kitchen,Elevator in building,Buzzer/wireless intercom,Heating,Family/kid friendly,Washer,Smoke detector,Carbon monoxide detector,First aid kit,Safety card,Fire extinguisher,Essentials,Shampoo,Hair dryer,Laptop friendly workspace                                                       |  NA |  65 |  93 |    NA |\n",
       "| 3506 | 28038 | Numancia         | Apartment   | Entire home/apt | 8 | 1.0 | 3 | 7 | Real Bed | TV,Internet,Wireless Internet,Air conditioning,Kitchen,Free parking on premises,Smoking allowed,Breakfast,Heating,Family/kid friendly,Washer,Dryer,Smoke detector,Carbon monoxide detector,First aid kit,Safety card,Fire extinguisher,Essentials,Shampoo                                                                |  NA |  65 |  92 |    NA |\n",
       "| 3552 | 28010 | Trafalgar        | Apartment   | Entire home/apt | 3 | 1.0 | 2 | 2 | Real Bed | TV,Internet,Wireless Internet,Kitchen,Doorman,Elevator in building,Buzzer/wireless intercom,Heating,Fire extinguisher,Essentials,Shampoo,Hangers,Hair dryer,Iron,Laptop friendly workspace,translation missing: en.hosting_amenity_49,translation missing: en.hosting_amenity_50                                         |  NA |  74 |  97 |    NA |\n",
       "| 4481 | 28028 | Guindalera       | Apartment   | Private room    | 2 | 1.0 | 1 | 2 | Real Bed | TV,Internet,Kitchen,Heating,Washer,Essentials,translation missing: en.hosting_amenity_49,translation missing: en.hosting_amenity_50                                                                                                                                                                                      |  NA |  19 |  71 |    NA |\n",
       "| 4814 | 28004 | Justicia         | Apartment   | Private room    | 2 | 1.0 | 1 | 2 | Real Bed | Wireless Internet,Smoking allowed,Pets allowed,Elevator in building,Essentials,Shampoo                                                                                                                                                                                                                                   |  NA |  30 |  90 |    NA |\n",
       "| 4850 | 28013 | Palacio          | Apartment   | Private room    | 1 | 1.0 | 1 | 1 | Real Bed | TV,Cable TV,Internet,Wireless Internet,Air conditioning,Kitchen,Doorman,Elevator in building,Buzzer/wireless intercom,Heating,Washer,Essentials,Hangers,Iron,translation missing: en.hosting_amenity_49,translation missing: en.hosting_amenity_50                                                                       |  NA |  39 | 100 |    NA |\n",
       "| 5324 | 28011 | Puerta del Angel | Apartment   | Private room    | 1 | 1.0 | 1 | 1 | Real Bed | Wireless Internet,Air conditioning,Kitchen,Free parking on premises,Pets allowed,Elevator in building,Heating,Family/kid friendly,Washer,Dryer,Essentials,Shampoo,Hangers,Hair dryer,Iron,Laptop friendly workspace                                                                                                      |  NA |  25 |  NA |    NA |\n",
       "| 5531 | 28028 | Guindalera       | Apartment   | Private room    | 2 | 1.0 | 1 | 2 | Real Bed | TV,Wireless Internet,Kitchen,Buzzer/wireless intercom,Heating,Family/kid friendly,Washer,First aid kit,Essentials,Iron,Laptop friendly workspace                                                                                                                                                                         |  NA |  18 |  82 |    NA |\n",
       "| 6139 | 28036 | Hispanoamérica   | Apartment   | Entire home/apt | 3 | 1.0 | 1 | 1 | Real Bed | Wireless Internet,Air conditioning,Smoking allowed,Pets allowed,Elevator in building,Heating,Family/kid friendly,Washer,First aid kit,Iron,Laptop friendly workspace                                                                                                                                                     |  NA |  75 | 100 |    NA |\n",
       "| 6210 | 28013 | Palacio          | Apartment   | Entire home/apt | 4 | 1.0 | 1 | 2 | Real Bed | TV,Wireless Internet,Kitchen,Elevator in building,Heating,Family/kid friendly,Washer,Smoke detector,Carbon monoxide detector,Essentials,Shampoo,24-hour check-in,Hangers,Hair dryer,Iron,Laptop friendly workspace                                                                                                       |  NA |  60 |  93 |    NA |\n",
       "| 6701 | 28019 | Opañel           | Apartment   | Private room    | 2 | 1.0 | 1 | 1 | Real Bed | TV,Wireless Internet,Kitchen,Heating,Family/kid friendly,Washer,Essentials,Shampoo                                                                                                                                                                                                                                       |  NA |  16 |  99 |    NA |\n",
       "| 6782 | 28006 | Lista            | Apartment   | Private room    | 2 | 1.0 | 1 | 2 | Real Bed | TV,Internet,Wireless Internet,Air conditioning,Elevator in building,Buzzer/wireless intercom,Heating,Essentials,Shampoo                                                                                                                                                                                                  |  NA |  38 |  90 |    NA |\n",
       "| 6938 | 28015 | Universidad      | Apartment   | Private room    | 1 | 1.0 | 1 | 1 | Real Bed | TV,Wireless Internet,Air conditioning,Wheelchair accessible,Kitchen,Doorman,Elevator in building,Buzzer/wireless intercom,Heating,Washer,Essentials,Shampoo,Lock on bedroom door,Iron,translation missing: en.hosting_amenity_49,translation missing: en.hosting_amenity_50                                              |  NA |  17 |  99 |    NA |\n",
       "| 6974 | 28010 | Almagro          | Apartment   | Entire home/apt | 3 | 1.5 | 1 | 2 | Real Bed | TV,Cable TV,Internet,Wireless Internet,Air conditioning,Wheelchair accessible,Kitchen,Doorman,Elevator in building,Buzzer/wireless intercom,Heating,Family/kid friendly,Washer,Safety card,Fire extinguisher,Essentials,24-hour check-in,Hangers,Hair dryer,Iron,Laptop friendly workspace                               |  NA |  85 |  98 |    NA |\n",
       "| 6986 | 28038 | Numancia         | Apartment   | Entire home/apt | 6 | 2.0 | 3 | 3 | Real Bed | TV,Wireless Internet,Air conditioning,Kitchen,Free parking on premises,Elevator in building,Indoor fireplace,Heating,Family/kid friendly,Washer,Dryer,Essentials,Shampoo,Hangers,Hair dryer,Iron,Laptop friendly workspace                                                                                               |  NA | 200 |  NA |    NA |\n",
       "| 7783 | 28013 | Sol              | Apartment   | Entire home/apt | 3 | 1.0 | 1 | 2 | Real Bed | TV,Wireless Internet,Air conditioning,Kitchen,Buzzer/wireless intercom,Heating,Family/kid friendly,Washer,Essentials,Shampoo,24-hour check-in,Hangers,Hair dryer,Iron,Laptop friendly workspace,Self Check-In,Doorman Entry                                                                                              | 215 |  56 |  87 | 19.97 |\n",
       "| 7824 | 28012 | Cortes           | Apartment   | Private room    | 1 | 2.0 | 1 | 1 | Real Bed | TV,Wireless Internet,Kitchen,Elevator in building,Washer,Lock on bedroom door,Hangers,Laptop friendly workspace,translation missing: en.hosting_amenity_49,translation missing: en.hosting_amenity_50,Private living room                                                                                                |  NA |  33 |  NA |    NA |\n",
       "| 7833 | 28014 | Cortes           | Apartment   | Entire home/apt | 2 | 1.0 | 1 | 1 | Real Bed | TV,Cable TV,Internet,Wireless Internet,Air conditioning,Kitchen,Smoking allowed,Doorman,Buzzer/wireless intercom,Heating,Family/kid friendly,Suitable for events,Washer,Dryer,Essentials,Hangers,Hair dryer,Iron                                                                                                         |  NA |  55 |  90 |    NA |\n",
       "| 7840 | 28003 | Arapiles         | Condominium | Entire home/apt | 2 | 1.0 | 0 | 1 | Real Bed | TV,Wireless Internet,Air conditioning,Kitchen,Elevator in building,Heating,Washer,Hangers,Hair dryer,translation missing: en.hosting_amenity_49,translation missing: en.hosting_amenity_50                                                                                                                               |  NA |  50 | 100 |    NA |\n",
       "| 8066 | 28005 | Palacio          | Apartment   | Private room    | 2 | 1.0 | 1 | 1 | Real Bed | TV,Cable TV,Wireless Internet,Air conditioning,Kitchen,Smoking allowed,Pets allowed,Elevator in building,Buzzer/wireless intercom,Heating,Washer,Dryer,Essentials,Shampoo,Hangers,Laptop friendly workspace,translation missing: en.hosting_amenity_49,translation missing: en.hosting_amenity_50                        |  NA |  40 |  NA |    NA |\n",
       "| 8091 | 28012 | Embajadores      | Apartment   | Private room    | 2 | 2.0 | 1 | 1 | Real Bed | TV,Internet,Wireless Internet,Kitchen,Smoking allowed,Suitable for events,Washer,Essentials,Shampoo,Hangers,Hair dryer,Iron,Laptop friendly workspace,translation missing: en.hosting_amenity_49,translation missing: en.hosting_amenity_50                                                                              |  NA |  46 |  NA |    NA |\n",
       "| 8097 | 28013 | Sol              | Apartment   | Entire home/apt | 4 | 1.0 | 1 | 2 | Real Bed | Wireless Internet,Air conditioning,Kitchen,Heating,Family/kid friendly,Essentials,Lock on bedroom door,Hangers,Laptop friendly workspace,translation missing: en.hosting_amenity_50                                                                                                                                      |  NA |  70 |  80 |    NA |\n",
       "| 8198 | 28014 | Cortes           | Apartment   | Private room    | 4 | 2.0 | 1 | 3 | Real Bed | Internet,Wireless Internet,Pets live on this property,Dog(s),Buzzer/wireless intercom,Heating,Family/kid friendly,Washer,Essentials,Shampoo,Hangers,Hair dryer,Iron,Laptop friendly workspace,translation missing: en.hosting_amenity_50                                                                                 |   0 |  38 |  92 |  0.00 |\n",
       "| 8267 | 28004 | Universidad      | Apartment   | Entire home/apt | 3 | 1.0 | 2 | 2 | Real Bed | Kitchen,Elevator in building,Buzzer/wireless intercom,Heating,Family/kid friendly,Washer,Essentials,Shampoo,Hangers,Hair dryer,Iron,Laptop friendly workspace                                                                                                                                                            |  NA |  58 |  85 |    NA |\n",
       "| 8316 | 28012 | Embajadores      | Apartment   | Private room    | 2 | 1.0 | 1 | 1 | Real Bed | TV,Internet,Wireless Internet,Air conditioning,Kitchen,Pets live on this property,Cat(s),Buzzer/wireless intercom,Heating,Family/kid friendly,Washer,First aid kit,Essentials,Shampoo,Lock on bedroom door,24-hour check-in,Hangers,Hair dryer,Iron,Laptop friendly workspace,translation missing: en.hosting_amenity_49 |  NA |  29 |  96 |    NA |\n",
       "| 8421 | 28005 | Palacio          | House       | Entire home/apt | 7 | 1.0 | 2 | 3 | Real Bed | Internet,Wireless Internet,Kitchen,Elevator in building,Indoor fireplace,Buzzer/wireless intercom,Heating,Family/kid friendly,Washer,Essentials,Shampoo,Hangers,Hair dryer,Iron,Laptop friendly workspace,Private entrance,Bathtub                                                                                       |  NA |  95 |  NA |    NA |\n",
       "| 8531 | 28004 | Universidad      | Apartment   | Entire home/apt | 3 | 1.0 | 1 | 2 | Real Bed | TV,Wireless Internet,Air conditioning,Kitchen,Elevator in building,Buzzer/wireless intercom,Heating,Family/kid friendly,Washer,Essentials                                                                                                                                                                                |  NA |  65 |  84 |    NA |\n",
       "| ⋮ | ⋮ | ⋮ | ⋮ | ⋮ | ⋮ | ⋮ | ⋮ | ⋮ | ⋮ | ⋮ | ⋮ | ⋮ | ⋮ | ⋮ |\n",
       "| 10667 | 28014 | Cortes        | Apartment       | Entire home/apt | 4 | 1.0 | 2 | 3 | Real Bed | TV,Cable TV,Internet,Wireless Internet,Air conditioning,Kitchen,Elevator in building,Buzzer/wireless intercom,Heating,Family/kid friendly,Washer,Essentials,Hair dryer,Iron,Laptop friendly workspace                                                                                                                                                      |  NA |  77 |  91 |    NA |\n",
       "| 10671 | 28012 | Embajadores   | Apartment       | Entire home/apt | 2 | 1.0 | 0 | 1 | Real Bed | TV,Wireless Internet,Air conditioning,Kitchen,Elevator in building,Heating,Family/kid friendly,Washer,Essentials,Shampoo,Hangers,Hair dryer,Iron,Laptop friendly workspace,translation missing: en.hosting_amenity_49                                                                                                                                      |  NA |  55 |  95 |    NA |\n",
       "| 10691 | 28013 | Sol           | Apartment       | Entire home/apt | 6 | 4.0 | 3 | 6 | Real Bed | TV,Wireless Internet,Air conditioning,Kitchen,Pets allowed,Elevator in building,Heating,Family/kid friendly,Washer,Dryer,Safety card,Essentials,Shampoo,Hangers,Hair dryer,Iron,Laptop friendly workspace,Private entrance                                                                                                                                 |  NA | 195 |  NA |    NA |\n",
       "| 10711 | 28015 | Universidad   | Apartment       | Entire home/apt | 6 | 1.0 | 2 | 3 | Real Bed | TV,Wireless Internet,Kitchen,Smoking allowed,Elevator in building,Buzzer/wireless intercom,Heating,Family/kid friendly,Washer,Essentials                                                                                                                                                                                                                   |  NA |  71 |  90 |    NA |\n",
       "| 10725 | 28013 | Sol           | Apartment       | Private room    | 2 | 2.0 | 1 | 1 | Real Bed | Internet,Wireless Internet,Kitchen,Smoking allowed,Buzzer/wireless intercom,Heating,Washer,Lock on bedroom door,Hangers,Laptop friendly workspace,translation missing: en.hosting_amenity_49,translation missing: en.hosting_amenity_50,Bathtub                                                                                                            |  NA |  20 |  90 |    NA |\n",
       "| 10840 | 28013 | Sol           | House           | Private room    | 2 | 1.0 | 1 | 2 | Real Bed | Wireless Internet,Air conditioning,Doorman,Elevator in building,Buzzer/wireless intercom,Heating,Family/kid friendly,Washer,First aid kit,Fire extinguisher,Essentials,Shampoo,Hangers,Hair dryer,Laptop friendly workspace,translation missing: en.hosting_amenity_50                                                                                     |  NA |  40 |  97 |    NA |\n",
       "| 10973 | 28025 | Puerta Bonita | House           | Entire home/apt | 2 | 1.0 | 1 | 1 | Real Bed | TV,Internet,Wireless Internet,Kitchen,Smoking allowed,Gym,Elevator in building,Buzzer/wireless intercom,Heating,Washer,Dryer,Essentials,Shampoo                                                                                                                                                                                                            |  NA |  59 |  87 |    NA |\n",
       "| 10975 | 28044 | Buenavista    | Apartment       | Entire home/apt | 5 | 1.0 | 3 | 3 | Real Bed | TV,Internet,Wireless Internet,Air conditioning,Kitchen,Free parking on premises,Smoking allowed,Pets allowed,Heating,Family/kid friendly,Washer,Essentials                                                                                                                                                                                                 |  NA |  85 |  92 |    NA |\n",
       "| 10987 | 28030 | Marroquina    | Apartment       | Entire home/apt | 3 | 1.0 | 1 | 1 | Real Bed | TV,Wheelchair accessible,Pool,Kitchen,Doorman,Elevator in building,Buzzer/wireless intercom,Heating,Washer,First aid kit,Safety card,Fire extinguisher,Essentials,Shampoo                                                                                                                                                                                  |  NA |  50 |  NA |    NA |\n",
       "| 11305 | 28004 | Justicia      | Apartment       | Entire home/apt | 2 | 1.0 | 1 | 1 | Real Bed | TV,Wireless Internet,Air conditioning,Kitchen,Heating,Washer,Essentials,Hangers,Hair dryer,Iron,Laptop friendly workspace                                                                                                                                                                                                                                  |  NA |  76 |  87 |    NA |\n",
       "| 11376 | 28005 | Palacio       | Bed &amp; Breakfast | Private room    | 1 | 0.5 | 1 | 1 | Real Bed | Wireless Internet,Kitchen,Smoking allowed,Breakfast,Pets live on this property,Dog(s),Heating,Washer,First aid kit,Essentials,Shampoo,24-hour check-in,Hangers,Iron,translation missing: en.hosting_amenity_49,translation missing: en.hosting_amenity_50                                                                                                  |  NA |  25 |  NA |    NA |\n",
       "| 11387 | 28012 | Embajadores   | Apartment       | Entire home/apt | 4 | 1.0 | 1 | 2 | Real Bed | TV,Wireless Internet,Air conditioning,Kitchen,Heating,Family/kid friendly,Washer,Smoke detector,Carbon monoxide detector,Essentials,Shampoo,24-hour check-in,Hangers,Hair dryer,Iron,Laptop friendly workspace                                                                                                                                             |  NA |  50 |  84 |    NA |\n",
       "| 11418 | 28004 | Justicia      | Apartment       | Entire home/apt | 4 | 1.0 | 0 | 2 | Real Bed | TV,Internet,Wireless Internet,Air conditioning,Kitchen,Buzzer/wireless intercom,Heating,Family/kid friendly,Essentials,Shampoo,Hangers,Hair dryer,Iron,Laptop friendly workspace                                                                                                                                                                           |  NA |  47 |  92 |    NA |\n",
       "| 11458 | 28013 | Justicia      | Condominium     | Private room    | 2 | 4.5 | 1 | 1 | Real Bed | TV,Cable TV,Internet,Wireless Internet,Air conditioning,Kitchen,Pets allowed,Doorman,Elevator in building,Buzzer/wireless intercom,Heating,Family/kid friendly,Washer,Dryer,Essentials,Shampoo,Lock on bedroom door,24-hour check-in,Hangers,Hair dryer,Iron,Laptop friendly workspace                                                                     |  NA |  25 |  NA |    NA |\n",
       "| 11483 | 28015 | Universidad   | Apartment       | Entire home/apt | 5 | 1.0 | 2 | 4 | Real Bed | TV,Wireless Internet,Kitchen,Doorman,Elevator in building,Buzzer/wireless intercom,Heating,Family/kid friendly,Washer,Dryer,Essentials,Hangers,Hair dryer,Iron,Laptop friendly workspace                                                                                                                                                                   | 753 |  73 |  90 | 69.96 |\n",
       "| 11484 | 28015 | Universidad   | Apartment       | Entire home/apt | 3 | 1.0 | 0 | 3 | Real Bed | Internet,Air conditioning,Kitchen,Smoking allowed,Buzzer/wireless intercom,Heating,Family/kid friendly,Washer,Essentials,Shampoo,Hangers,Hair dryer,Iron,Laptop friendly workspace                                                                                                                                                                         |  NA |  61 |  96 |    NA |\n",
       "| 11629 | 28053 | San Diego     | Bed &amp; Breakfast | Private room    | 2 | 1.0 | 1 | 1 | Real Bed | TV,Internet,Wireless Internet,Air conditioning,Kitchen,Smoking allowed,Breakfast,Elevator in building,Heating,Washer,First aid kit,Essentials,Shampoo,Hangers,Iron,Laptop friendly workspace,translation missing: en.hosting_amenity_49,translation missing: en.hosting_amenity_50                                                                         |  NA |  25 |  92 |    NA |\n",
       "| 11636 | 28030 | Fontarrón     | Apartment       | Private room    | 1 | 2.0 | 1 | 1 | Real Bed | Internet,Wireless Internet,Kitchen,Smoking allowed,Pets allowed,Pets live on this property,Dog(s),Other pet(s),Buzzer/wireless intercom,Heating,Family/kid friendly,Washer,First aid kit,Safety card,Essentials,Shampoo,Lock on bedroom door,24-hour check-in,Hangers,Hair dryer,Iron,Laptop friendly workspace,translation missing: en.hosting_amenity_50 |  NA |  17 |  97 |    NA |\n",
       "| 11731 | 28004 | Universidad   | Apartment       | Entire home/apt | 2 | 1.0 | 1 | 1 | Real Bed | TV,Wireless Internet,Kitchen,Heating,Washer,Essentials,Shampoo,Hangers,Hair dryer,translation missing: en.hosting_amenity_49,translation missing: en.hosting_amenity_50                                                                                                                                                                                    |  NA |  40 |  83 |    NA |\n",
       "| 11899 | 28004 | Universidad   | Apartment       | Entire home/apt | 3 | 1.0 | 1 | 3 | Real Bed | TV,Internet,Wireless Internet,Kitchen,Heating,Essentials,Shampoo                                                                                                                                                                                                                                                                                           |  NA |  55 |  90 |    NA |\n",
       "| 12130 | 28002 | Prosperidad   | Apartment       | Entire home/apt | 5 | 1.0 | 1 | 4 | Real Bed | TV,Internet,Wireless Internet,Air conditioning,Wheelchair accessible,Kitchen,Pets allowed,Doorman,Breakfast,Elevator in building,Heating,Family/kid friendly,Washer,Essentials,Shampoo,Hangers,Iron,Laptop friendly workspace                                                                                                                              |  NA |  65 | 100 |    NA |\n",
       "| 12225 | <!----> | Palacio       | Apartment       | Entire home/apt | 8 | 2.0 | 3 | 4 | Real Bed | TV,Wireless Internet,Kitchen,Smoking allowed,Pets allowed,Breakfast,Hot tub,Buzzer/wireless intercom,Heating,Family/kid friendly,Suitable for events,Essentials,Shampoo,Lock on bedroom door,Hangers,Hair dryer,Iron,Laptop friendly workspace                                                                                                             |  NA | 160 | 100 |    NA |\n",
       "| 12274 | 28013 | Palacio       | Apartment       | Private room    | 2 | 2.0 | 1 | 1 | Real Bed | Internet,Wireless Internet,Kitchen,Elevator in building,Buzzer/wireless intercom,Family/kid friendly,Washer,Essentials                                                                                                                                                                                                                                     |  NA |  17 |  81 |    NA |\n",
       "| 12284 | 28012 | Embajadores   | Apartment       | Entire home/apt | 2 | 1.0 | 1 | 1 | Real Bed | TV,Cable TV,Internet,Wireless Internet,Air conditioning,Kitchen,Smoking allowed,Buzzer/wireless intercom,Heating,Washer,Essentials,Shampoo,24-hour check-in,Hangers,Hair dryer,Iron,Laptop friendly workspace,translation missing: en.hosting_amenity_49,translation missing: en.hosting_amenity_50                                                        |  NA |  52 |  90 |    NA |\n",
       "| 12391 | 28045 | Chopera       | Apartment       | Private room    | 4 | 1.0 | 1 | 3 | Real Bed | TV,Internet,Wireless Internet,Wheelchair accessible,Kitchen,Smoking allowed,Pets allowed,Elevator in building,Heating,Family/kid friendly,Washer,Dryer,Essentials,Shampoo                                                                                                                                                                                  |  NA |  18 |  94 |    NA |\n",
       "| 12410 | 28028 | Guindalera    | Apartment       | Private room    | 2 | 1.0 | 1 | 2 | Real Bed | TV,Cable TV,Wireless Internet,Air conditioning,Kitchen,Buzzer/wireless intercom,First aid kit,Fire extinguisher,Essentials,Shampoo,Hair dryer,Iron                                                                                                                                                                                                         |  NA |  48 | 100 |    NA |\n",
       "| 12442 | 28002 | Ciudad Jardín | Apartment       | Entire home/apt | 4 | 1.5 | 2 | 4 | Real Bed | TV,Wireless Internet,Air conditioning,Wheelchair accessible,Kitchen,Smoking allowed,Pets allowed,Elevator in building,Buzzer/wireless intercom,Heating,Family/kid friendly,Washer,Essentials,24-hour check-in,Hangers,Hair dryer,Iron,Laptop friendly workspace                                                                                            |  NA |  99 |  87 |    NA |\n",
       "| 12512 | 28025 | Puerta Bonita | Apartment       | Entire home/apt | 2 | 2.0 | 1 | 1 | Real Bed | TV,Internet,Wireless Internet,Air conditioning,Kitchen,Smoking allowed,Pets allowed,Elevator in building,Heating,Family/kid friendly,Washer,Essentials                                                                                                                                                                                                     |  NA |  60 |  96 |    NA |\n",
       "| 12647 | 28014 | Cortes        | Apartment       | Entire home/apt | 6 | 1.0 | 2 | 3 | Real Bed | TV,Internet,Wireless Internet,Air conditioning,Kitchen,Elevator in building,Buzzer/wireless intercom,Heating,Family/kid friendly,Washer,Essentials,Hangers,Hair dryer,Iron                                                                                                                                                                                 |  NA | 120 |  NA |    NA |\n",
       "| 12744 | 28012 | Sol           | Apartment       | Entire home/apt | 6 | 2.0 | 3 | 4 | Real Bed | TV,Cable TV,Internet,Wireless Internet,Air conditioning,Kitchen,Elevator in building,Buzzer/wireless intercom,Heating,Family/kid friendly,Washer,Essentials,Hangers,Hair dryer,Iron,Laptop friendly workspace                                                                                                                                              |  NA | 190 |  93 |    NA |\n",
       "\n"
      ],
      "text/plain": [
       "      CodigoPostal Barrio           TipoPropiedad   TipoAlquiler   \n",
       "1337  28015        Gaztambide       Apartment       Private room   \n",
       "1987  28018        Palomeras Bajas  Apartment       Entire home/apt\n",
       "2064  28008        Argüelles        Apartment       Entire home/apt\n",
       "3100  28012        Embajadores      Apartment       Entire home/apt\n",
       "3506  28038        Numancia         Apartment       Entire home/apt\n",
       "3552  28010        Trafalgar        Apartment       Entire home/apt\n",
       "4481  28028        Guindalera       Apartment       Private room   \n",
       "4814  28004        Justicia         Apartment       Private room   \n",
       "4850  28013        Palacio          Apartment       Private room   \n",
       "5324  28011        Puerta del Angel Apartment       Private room   \n",
       "5531  28028        Guindalera       Apartment       Private room   \n",
       "6139  28036        Hispanoamérica   Apartment       Entire home/apt\n",
       "6210  28013        Palacio          Apartment       Entire home/apt\n",
       "6701  28019        Opañel           Apartment       Private room   \n",
       "6782  28006        Lista            Apartment       Private room   \n",
       "6938  28015        Universidad      Apartment       Private room   \n",
       "6974  28010        Almagro          Apartment       Entire home/apt\n",
       "6986  28038        Numancia         Apartment       Entire home/apt\n",
       "7783  28013        Sol              Apartment       Entire home/apt\n",
       "7824  28012        Cortes           Apartment       Private room   \n",
       "7833  28014        Cortes           Apartment       Entire home/apt\n",
       "7840  28003        Arapiles         Condominium     Entire home/apt\n",
       "8066  28005        Palacio          Apartment       Private room   \n",
       "8091  28012        Embajadores      Apartment       Private room   \n",
       "8097  28013        Sol              Apartment       Entire home/apt\n",
       "8198  28014        Cortes           Apartment       Private room   \n",
       "8267  28004        Universidad      Apartment       Entire home/apt\n",
       "8316  28012        Embajadores      Apartment       Private room   \n",
       "8421  28005        Palacio          House           Entire home/apt\n",
       "8531  28004        Universidad      Apartment       Entire home/apt\n",
       "⋮     ⋮            ⋮                ⋮               ⋮              \n",
       "10667 28014        Cortes           Apartment       Entire home/apt\n",
       "10671 28012        Embajadores      Apartment       Entire home/apt\n",
       "10691 28013        Sol              Apartment       Entire home/apt\n",
       "10711 28015        Universidad      Apartment       Entire home/apt\n",
       "10725 28013        Sol              Apartment       Private room   \n",
       "10840 28013        Sol              House           Private room   \n",
       "10973 28025        Puerta Bonita    House           Entire home/apt\n",
       "10975 28044        Buenavista       Apartment       Entire home/apt\n",
       "10987 28030        Marroquina       Apartment       Entire home/apt\n",
       "11305 28004        Justicia         Apartment       Entire home/apt\n",
       "11376 28005        Palacio          Bed & Breakfast Private room   \n",
       "11387 28012        Embajadores      Apartment       Entire home/apt\n",
       "11418 28004        Justicia         Apartment       Entire home/apt\n",
       "11458 28013        Justicia         Condominium     Private room   \n",
       "11483 28015        Universidad      Apartment       Entire home/apt\n",
       "11484 28015        Universidad      Apartment       Entire home/apt\n",
       "11629 28053        San Diego        Bed & Breakfast Private room   \n",
       "11636 28030        Fontarrón        Apartment       Private room   \n",
       "11731 28004        Universidad      Apartment       Entire home/apt\n",
       "11899 28004        Universidad      Apartment       Entire home/apt\n",
       "12130 28002        Prosperidad      Apartment       Entire home/apt\n",
       "12225              Palacio          Apartment       Entire home/apt\n",
       "12274 28013        Palacio          Apartment       Private room   \n",
       "12284 28012        Embajadores      Apartment       Entire home/apt\n",
       "12391 28045        Chopera          Apartment       Private room   \n",
       "12410 28028        Guindalera       Apartment       Private room   \n",
       "12442 28002        Ciudad Jardín    Apartment       Entire home/apt\n",
       "12512 28025        Puerta Bonita    Apartment       Entire home/apt\n",
       "12647 28014        Cortes           Apartment       Entire home/apt\n",
       "12744 28012        Sol              Apartment       Entire home/apt\n",
       "      MaxOcupantes NumBanyos NumDormitorios NumCamas TipoCama\n",
       "1337  2            2.5       1              1        Real Bed\n",
       "1987  4            1.0       2              3        Real Bed\n",
       "2064  2            1.0       0              1        Real Bed\n",
       "3100  3            1.0       1              3        Real Bed\n",
       "3506  8            1.0       3              7        Real Bed\n",
       "3552  3            1.0       2              2        Real Bed\n",
       "4481  2            1.0       1              2        Real Bed\n",
       "4814  2            1.0       1              2        Real Bed\n",
       "4850  1            1.0       1              1        Real Bed\n",
       "5324  1            1.0       1              1        Real Bed\n",
       "5531  2            1.0       1              2        Real Bed\n",
       "6139  3            1.0       1              1        Real Bed\n",
       "6210  4            1.0       1              2        Real Bed\n",
       "6701  2            1.0       1              1        Real Bed\n",
       "6782  2            1.0       1              2        Real Bed\n",
       "6938  1            1.0       1              1        Real Bed\n",
       "6974  3            1.5       1              2        Real Bed\n",
       "6986  6            2.0       3              3        Real Bed\n",
       "7783  3            1.0       1              2        Real Bed\n",
       "7824  1            2.0       1              1        Real Bed\n",
       "7833  2            1.0       1              1        Real Bed\n",
       "7840  2            1.0       0              1        Real Bed\n",
       "8066  2            1.0       1              1        Real Bed\n",
       "8091  2            2.0       1              1        Real Bed\n",
       "8097  4            1.0       1              2        Real Bed\n",
       "8198  4            2.0       1              3        Real Bed\n",
       "8267  3            1.0       2              2        Real Bed\n",
       "8316  2            1.0       1              1        Real Bed\n",
       "8421  7            1.0       2              3        Real Bed\n",
       "8531  3            1.0       1              2        Real Bed\n",
       "⋮     ⋮            ⋮         ⋮              ⋮        ⋮       \n",
       "10667 4            1.0       2              3        Real Bed\n",
       "10671 2            1.0       0              1        Real Bed\n",
       "10691 6            4.0       3              6        Real Bed\n",
       "10711 6            1.0       2              3        Real Bed\n",
       "10725 2            2.0       1              1        Real Bed\n",
       "10840 2            1.0       1              2        Real Bed\n",
       "10973 2            1.0       1              1        Real Bed\n",
       "10975 5            1.0       3              3        Real Bed\n",
       "10987 3            1.0       1              1        Real Bed\n",
       "11305 2            1.0       1              1        Real Bed\n",
       "11376 1            0.5       1              1        Real Bed\n",
       "11387 4            1.0       1              2        Real Bed\n",
       "11418 4            1.0       0              2        Real Bed\n",
       "11458 2            4.5       1              1        Real Bed\n",
       "11483 5            1.0       2              4        Real Bed\n",
       "11484 3            1.0       0              3        Real Bed\n",
       "11629 2            1.0       1              1        Real Bed\n",
       "11636 1            2.0       1              1        Real Bed\n",
       "11731 2            1.0       1              1        Real Bed\n",
       "11899 3            1.0       1              3        Real Bed\n",
       "12130 5            1.0       1              4        Real Bed\n",
       "12225 8            2.0       3              4        Real Bed\n",
       "12274 2            2.0       1              1        Real Bed\n",
       "12284 2            1.0       1              1        Real Bed\n",
       "12391 4            1.0       1              3        Real Bed\n",
       "12410 2            1.0       1              2        Real Bed\n",
       "12442 4            1.5       2              4        Real Bed\n",
       "12512 2            2.0       1              1        Real Bed\n",
       "12647 6            1.0       2              3        Real Bed\n",
       "12744 6            2.0       3              4        Real Bed\n",
       "      Comodidades                                                                                                                                                                                                                                                                                                                                               \n",
       "1337  TV,Internet,Wireless Internet,Kitchen,Elevator in building,Buzzer/wireless intercom,Heating,Family/kid friendly,Essentials,Shampoo,24-hour check-in,Hangers,Hair dryer,Iron,Laptop friendly workspace,translation missing: en.hosting_amenity_50                                                                                                          \n",
       "1987  Kitchen,Smoking allowed,Pets allowed,Heating,Family/kid friendly                                                                                                                                                                                                                                                                                          \n",
       "2064  TV,Internet,Wireless Internet,Air conditioning,Kitchen,Doorman,Elevator in building,Buzzer/wireless intercom,Heating,Washer,Dryer,First aid kit,Essentials,Shampoo,Hangers,Hair dryer,Iron,Laptop friendly workspace,translation missing: en.hosting_amenity_49,translation missing: en.hosting_amenity_50                                                \n",
       "3100  TV,Internet,Wireless Internet,Kitchen,Elevator in building,Buzzer/wireless intercom,Heating,Family/kid friendly,Washer,Smoke detector,Carbon monoxide detector,First aid kit,Safety card,Fire extinguisher,Essentials,Shampoo,Hair dryer,Laptop friendly workspace                                                                                        \n",
       "3506  TV,Internet,Wireless Internet,Air conditioning,Kitchen,Free parking on premises,Smoking allowed,Breakfast,Heating,Family/kid friendly,Washer,Dryer,Smoke detector,Carbon monoxide detector,First aid kit,Safety card,Fire extinguisher,Essentials,Shampoo                                                                                                 \n",
       "3552  TV,Internet,Wireless Internet,Kitchen,Doorman,Elevator in building,Buzzer/wireless intercom,Heating,Fire extinguisher,Essentials,Shampoo,Hangers,Hair dryer,Iron,Laptop friendly workspace,translation missing: en.hosting_amenity_49,translation missing: en.hosting_amenity_50                                                                          \n",
       "4481  TV,Internet,Kitchen,Heating,Washer,Essentials,translation missing: en.hosting_amenity_49,translation missing: en.hosting_amenity_50                                                                                                                                                                                                                       \n",
       "4814  Wireless Internet,Smoking allowed,Pets allowed,Elevator in building,Essentials,Shampoo                                                                                                                                                                                                                                                                    \n",
       "4850  TV,Cable TV,Internet,Wireless Internet,Air conditioning,Kitchen,Doorman,Elevator in building,Buzzer/wireless intercom,Heating,Washer,Essentials,Hangers,Iron,translation missing: en.hosting_amenity_49,translation missing: en.hosting_amenity_50                                                                                                        \n",
       "5324  Wireless Internet,Air conditioning,Kitchen,Free parking on premises,Pets allowed,Elevator in building,Heating,Family/kid friendly,Washer,Dryer,Essentials,Shampoo,Hangers,Hair dryer,Iron,Laptop friendly workspace                                                                                                                                       \n",
       "5531  TV,Wireless Internet,Kitchen,Buzzer/wireless intercom,Heating,Family/kid friendly,Washer,First aid kit,Essentials,Iron,Laptop friendly workspace                                                                                                                                                                                                          \n",
       "6139  Wireless Internet,Air conditioning,Smoking allowed,Pets allowed,Elevator in building,Heating,Family/kid friendly,Washer,First aid kit,Iron,Laptop friendly workspace                                                                                                                                                                                      \n",
       "6210  TV,Wireless Internet,Kitchen,Elevator in building,Heating,Family/kid friendly,Washer,Smoke detector,Carbon monoxide detector,Essentials,Shampoo,24-hour check-in,Hangers,Hair dryer,Iron,Laptop friendly workspace                                                                                                                                        \n",
       "6701  TV,Wireless Internet,Kitchen,Heating,Family/kid friendly,Washer,Essentials,Shampoo                                                                                                                                                                                                                                                                        \n",
       "6782  TV,Internet,Wireless Internet,Air conditioning,Elevator in building,Buzzer/wireless intercom,Heating,Essentials,Shampoo                                                                                                                                                                                                                                   \n",
       "6938  TV,Wireless Internet,Air conditioning,Wheelchair accessible,Kitchen,Doorman,Elevator in building,Buzzer/wireless intercom,Heating,Washer,Essentials,Shampoo,Lock on bedroom door,Iron,translation missing: en.hosting_amenity_49,translation missing: en.hosting_amenity_50                                                                               \n",
       "6974  TV,Cable TV,Internet,Wireless Internet,Air conditioning,Wheelchair accessible,Kitchen,Doorman,Elevator in building,Buzzer/wireless intercom,Heating,Family/kid friendly,Washer,Safety card,Fire extinguisher,Essentials,24-hour check-in,Hangers,Hair dryer,Iron,Laptop friendly workspace                                                                \n",
       "6986  TV,Wireless Internet,Air conditioning,Kitchen,Free parking on premises,Elevator in building,Indoor fireplace,Heating,Family/kid friendly,Washer,Dryer,Essentials,Shampoo,Hangers,Hair dryer,Iron,Laptop friendly workspace                                                                                                                                \n",
       "7783  TV,Wireless Internet,Air conditioning,Kitchen,Buzzer/wireless intercom,Heating,Family/kid friendly,Washer,Essentials,Shampoo,24-hour check-in,Hangers,Hair dryer,Iron,Laptop friendly workspace,Self Check-In,Doorman Entry                                                                                                                               \n",
       "7824  TV,Wireless Internet,Kitchen,Elevator in building,Washer,Lock on bedroom door,Hangers,Laptop friendly workspace,translation missing: en.hosting_amenity_49,translation missing: en.hosting_amenity_50,Private living room                                                                                                                                 \n",
       "7833  TV,Cable TV,Internet,Wireless Internet,Air conditioning,Kitchen,Smoking allowed,Doorman,Buzzer/wireless intercom,Heating,Family/kid friendly,Suitable for events,Washer,Dryer,Essentials,Hangers,Hair dryer,Iron                                                                                                                                          \n",
       "7840  TV,Wireless Internet,Air conditioning,Kitchen,Elevator in building,Heating,Washer,Hangers,Hair dryer,translation missing: en.hosting_amenity_49,translation missing: en.hosting_amenity_50                                                                                                                                                                \n",
       "8066  TV,Cable TV,Wireless Internet,Air conditioning,Kitchen,Smoking allowed,Pets allowed,Elevator in building,Buzzer/wireless intercom,Heating,Washer,Dryer,Essentials,Shampoo,Hangers,Laptop friendly workspace,translation missing: en.hosting_amenity_49,translation missing: en.hosting_amenity_50                                                         \n",
       "8091  TV,Internet,Wireless Internet,Kitchen,Smoking allowed,Suitable for events,Washer,Essentials,Shampoo,Hangers,Hair dryer,Iron,Laptop friendly workspace,translation missing: en.hosting_amenity_49,translation missing: en.hosting_amenity_50                                                                                                               \n",
       "8097  Wireless Internet,Air conditioning,Kitchen,Heating,Family/kid friendly,Essentials,Lock on bedroom door,Hangers,Laptop friendly workspace,translation missing: en.hosting_amenity_50                                                                                                                                                                       \n",
       "8198  Internet,Wireless Internet,Pets live on this property,Dog(s),Buzzer/wireless intercom,Heating,Family/kid friendly,Washer,Essentials,Shampoo,Hangers,Hair dryer,Iron,Laptop friendly workspace,translation missing: en.hosting_amenity_50                                                                                                                  \n",
       "8267  Kitchen,Elevator in building,Buzzer/wireless intercom,Heating,Family/kid friendly,Washer,Essentials,Shampoo,Hangers,Hair dryer,Iron,Laptop friendly workspace                                                                                                                                                                                             \n",
       "8316  TV,Internet,Wireless Internet,Air conditioning,Kitchen,Pets live on this property,Cat(s),Buzzer/wireless intercom,Heating,Family/kid friendly,Washer,First aid kit,Essentials,Shampoo,Lock on bedroom door,24-hour check-in,Hangers,Hair dryer,Iron,Laptop friendly workspace,translation missing: en.hosting_amenity_49                                  \n",
       "8421  Internet,Wireless Internet,Kitchen,Elevator in building,Indoor fireplace,Buzzer/wireless intercom,Heating,Family/kid friendly,Washer,Essentials,Shampoo,Hangers,Hair dryer,Iron,Laptop friendly workspace,Private entrance,Bathtub                                                                                                                        \n",
       "8531  TV,Wireless Internet,Air conditioning,Kitchen,Elevator in building,Buzzer/wireless intercom,Heating,Family/kid friendly,Washer,Essentials                                                                                                                                                                                                                 \n",
       "⋮     ⋮                                                                                                                                                                                                                                                                                                                                                         \n",
       "10667 TV,Cable TV,Internet,Wireless Internet,Air conditioning,Kitchen,Elevator in building,Buzzer/wireless intercom,Heating,Family/kid friendly,Washer,Essentials,Hair dryer,Iron,Laptop friendly workspace                                                                                                                                                     \n",
       "10671 TV,Wireless Internet,Air conditioning,Kitchen,Elevator in building,Heating,Family/kid friendly,Washer,Essentials,Shampoo,Hangers,Hair dryer,Iron,Laptop friendly workspace,translation missing: en.hosting_amenity_49                                                                                                                                     \n",
       "10691 TV,Wireless Internet,Air conditioning,Kitchen,Pets allowed,Elevator in building,Heating,Family/kid friendly,Washer,Dryer,Safety card,Essentials,Shampoo,Hangers,Hair dryer,Iron,Laptop friendly workspace,Private entrance                                                                                                                                \n",
       "10711 TV,Wireless Internet,Kitchen,Smoking allowed,Elevator in building,Buzzer/wireless intercom,Heating,Family/kid friendly,Washer,Essentials                                                                                                                                                                                                                  \n",
       "10725 Internet,Wireless Internet,Kitchen,Smoking allowed,Buzzer/wireless intercom,Heating,Washer,Lock on bedroom door,Hangers,Laptop friendly workspace,translation missing: en.hosting_amenity_49,translation missing: en.hosting_amenity_50,Bathtub                                                                                                           \n",
       "10840 Wireless Internet,Air conditioning,Doorman,Elevator in building,Buzzer/wireless intercom,Heating,Family/kid friendly,Washer,First aid kit,Fire extinguisher,Essentials,Shampoo,Hangers,Hair dryer,Laptop friendly workspace,translation missing: en.hosting_amenity_50                                                                                    \n",
       "10973 TV,Internet,Wireless Internet,Kitchen,Smoking allowed,Gym,Elevator in building,Buzzer/wireless intercom,Heating,Washer,Dryer,Essentials,Shampoo                                                                                                                                                                                                           \n",
       "10975 TV,Internet,Wireless Internet,Air conditioning,Kitchen,Free parking on premises,Smoking allowed,Pets allowed,Heating,Family/kid friendly,Washer,Essentials                                                                                                                                                                                                \n",
       "10987 TV,Wheelchair accessible,Pool,Kitchen,Doorman,Elevator in building,Buzzer/wireless intercom,Heating,Washer,First aid kit,Safety card,Fire extinguisher,Essentials,Shampoo                                                                                                                                                                                 \n",
       "11305 TV,Wireless Internet,Air conditioning,Kitchen,Heating,Washer,Essentials,Hangers,Hair dryer,Iron,Laptop friendly workspace                                                                                                                                                                                                                                 \n",
       "11376 Wireless Internet,Kitchen,Smoking allowed,Breakfast,Pets live on this property,Dog(s),Heating,Washer,First aid kit,Essentials,Shampoo,24-hour check-in,Hangers,Iron,translation missing: en.hosting_amenity_49,translation missing: en.hosting_amenity_50                                                                                                 \n",
       "11387 TV,Wireless Internet,Air conditioning,Kitchen,Heating,Family/kid friendly,Washer,Smoke detector,Carbon monoxide detector,Essentials,Shampoo,24-hour check-in,Hangers,Hair dryer,Iron,Laptop friendly workspace                                                                                                                                            \n",
       "11418 TV,Internet,Wireless Internet,Air conditioning,Kitchen,Buzzer/wireless intercom,Heating,Family/kid friendly,Essentials,Shampoo,Hangers,Hair dryer,Iron,Laptop friendly workspace                                                                                                                                                                          \n",
       "11458 TV,Cable TV,Internet,Wireless Internet,Air conditioning,Kitchen,Pets allowed,Doorman,Elevator in building,Buzzer/wireless intercom,Heating,Family/kid friendly,Washer,Dryer,Essentials,Shampoo,Lock on bedroom door,24-hour check-in,Hangers,Hair dryer,Iron,Laptop friendly workspace                                                                    \n",
       "11483 TV,Wireless Internet,Kitchen,Doorman,Elevator in building,Buzzer/wireless intercom,Heating,Family/kid friendly,Washer,Dryer,Essentials,Hangers,Hair dryer,Iron,Laptop friendly workspace                                                                                                                                                                  \n",
       "11484 Internet,Air conditioning,Kitchen,Smoking allowed,Buzzer/wireless intercom,Heating,Family/kid friendly,Washer,Essentials,Shampoo,Hangers,Hair dryer,Iron,Laptop friendly workspace                                                                                                                                                                        \n",
       "11629 TV,Internet,Wireless Internet,Air conditioning,Kitchen,Smoking allowed,Breakfast,Elevator in building,Heating,Washer,First aid kit,Essentials,Shampoo,Hangers,Iron,Laptop friendly workspace,translation missing: en.hosting_amenity_49,translation missing: en.hosting_amenity_50                                                                        \n",
       "11636 Internet,Wireless Internet,Kitchen,Smoking allowed,Pets allowed,Pets live on this property,Dog(s),Other pet(s),Buzzer/wireless intercom,Heating,Family/kid friendly,Washer,First aid kit,Safety card,Essentials,Shampoo,Lock on bedroom door,24-hour check-in,Hangers,Hair dryer,Iron,Laptop friendly workspace,translation missing: en.hosting_amenity_50\n",
       "11731 TV,Wireless Internet,Kitchen,Heating,Washer,Essentials,Shampoo,Hangers,Hair dryer,translation missing: en.hosting_amenity_49,translation missing: en.hosting_amenity_50                                                                                                                                                                                   \n",
       "11899 TV,Internet,Wireless Internet,Kitchen,Heating,Essentials,Shampoo                                                                                                                                                                                                                                                                                          \n",
       "12130 TV,Internet,Wireless Internet,Air conditioning,Wheelchair accessible,Kitchen,Pets allowed,Doorman,Breakfast,Elevator in building,Heating,Family/kid friendly,Washer,Essentials,Shampoo,Hangers,Iron,Laptop friendly workspace                                                                                                                             \n",
       "12225 TV,Wireless Internet,Kitchen,Smoking allowed,Pets allowed,Breakfast,Hot tub,Buzzer/wireless intercom,Heating,Family/kid friendly,Suitable for events,Essentials,Shampoo,Lock on bedroom door,Hangers,Hair dryer,Iron,Laptop friendly workspace                                                                                                            \n",
       "12274 Internet,Wireless Internet,Kitchen,Elevator in building,Buzzer/wireless intercom,Family/kid friendly,Washer,Essentials                                                                                                                                                                                                                                    \n",
       "12284 TV,Cable TV,Internet,Wireless Internet,Air conditioning,Kitchen,Smoking allowed,Buzzer/wireless intercom,Heating,Washer,Essentials,Shampoo,24-hour check-in,Hangers,Hair dryer,Iron,Laptop friendly workspace,translation missing: en.hosting_amenity_49,translation missing: en.hosting_amenity_50                                                       \n",
       "12391 TV,Internet,Wireless Internet,Wheelchair accessible,Kitchen,Smoking allowed,Pets allowed,Elevator in building,Heating,Family/kid friendly,Washer,Dryer,Essentials,Shampoo                                                                                                                                                                                 \n",
       "12410 TV,Cable TV,Wireless Internet,Air conditioning,Kitchen,Buzzer/wireless intercom,First aid kit,Fire extinguisher,Essentials,Shampoo,Hair dryer,Iron                                                                                                                                                                                                        \n",
       "12442 TV,Wireless Internet,Air conditioning,Wheelchair accessible,Kitchen,Smoking allowed,Pets allowed,Elevator in building,Buzzer/wireless intercom,Heating,Family/kid friendly,Washer,Essentials,24-hour check-in,Hangers,Hair dryer,Iron,Laptop friendly workspace                                                                                           \n",
       "12512 TV,Internet,Wireless Internet,Air conditioning,Kitchen,Smoking allowed,Pets allowed,Elevator in building,Heating,Family/kid friendly,Washer,Essentials                                                                                                                                                                                                    \n",
       "12647 TV,Internet,Wireless Internet,Air conditioning,Kitchen,Elevator in building,Buzzer/wireless intercom,Heating,Family/kid friendly,Washer,Essentials,Hangers,Hair dryer,Iron                                                                                                                                                                                \n",
       "12744 TV,Cable TV,Internet,Wireless Internet,Air conditioning,Kitchen,Elevator in building,Buzzer/wireless intercom,Heating,Family/kid friendly,Washer,Essentials,Hangers,Hair dryer,Iron,Laptop friendly workspace                                                                                                                                             \n",
       "      PiesCuadrados Precio Puntuacion MetrosCuadrados\n",
       "1337   NA            15     83           NA          \n",
       "1987   NA            32     78           NA          \n",
       "2064   NA            59    100           NA          \n",
       "3100   NA            65     93           NA          \n",
       "3506   NA            65     92           NA          \n",
       "3552   NA            74     97           NA          \n",
       "4481   NA            19     71           NA          \n",
       "4814   NA            30     90           NA          \n",
       "4850   NA            39    100           NA          \n",
       "5324   NA            25     NA           NA          \n",
       "5531   NA            18     82           NA          \n",
       "6139   NA            75    100           NA          \n",
       "6210   NA            60     93           NA          \n",
       "6701   NA            16     99           NA          \n",
       "6782   NA            38     90           NA          \n",
       "6938   NA            17     99           NA          \n",
       "6974   NA            85     98           NA          \n",
       "6986   NA           200     NA           NA          \n",
       "7783  215            56     87        19.97          \n",
       "7824   NA            33     NA           NA          \n",
       "7833   NA            55     90           NA          \n",
       "7840   NA            50    100           NA          \n",
       "8066   NA            40     NA           NA          \n",
       "8091   NA            46     NA           NA          \n",
       "8097   NA            70     80           NA          \n",
       "8198    0            38     92         0.00          \n",
       "8267   NA            58     85           NA          \n",
       "8316   NA            29     96           NA          \n",
       "8421   NA            95     NA           NA          \n",
       "8531   NA            65     84           NA          \n",
       "⋮     ⋮             ⋮      ⋮          ⋮              \n",
       "10667  NA            77     91           NA          \n",
       "10671  NA            55     95           NA          \n",
       "10691  NA           195     NA           NA          \n",
       "10711  NA            71     90           NA          \n",
       "10725  NA            20     90           NA          \n",
       "10840  NA            40     97           NA          \n",
       "10973  NA            59     87           NA          \n",
       "10975  NA            85     92           NA          \n",
       "10987  NA            50     NA           NA          \n",
       "11305  NA            76     87           NA          \n",
       "11376  NA            25     NA           NA          \n",
       "11387  NA            50     84           NA          \n",
       "11418  NA            47     92           NA          \n",
       "11458  NA            25     NA           NA          \n",
       "11483 753            73     90        69.96          \n",
       "11484  NA            61     96           NA          \n",
       "11629  NA            25     92           NA          \n",
       "11636  NA            17     97           NA          \n",
       "11731  NA            40     83           NA          \n",
       "11899  NA            55     90           NA          \n",
       "12130  NA            65    100           NA          \n",
       "12225  NA           160    100           NA          \n",
       "12274  NA            17     81           NA          \n",
       "12284  NA            52     90           NA          \n",
       "12391  NA            18     94           NA          \n",
       "12410  NA            48    100           NA          \n",
       "12442  NA            99     87           NA          \n",
       "12512  NA            60     96           NA          \n",
       "12647  NA           120     NA           NA          \n",
       "12744  NA           190     93           NA          "
      ]
     },
     "metadata": {},
     "output_type": "display_data"
    }
   ],
   "source": [
    "anyNA(airbnb$CodigoPostal) #compruebo que no tengo \"Missing Values\"\n",
    "\n",
    "Codigos <- table(airbnb$CodigoPostal)\n",
    "Codigos #Asi veo los codigos que son erróneos\n",
    "\n",
    "\n",
    "airbnb$CodigoPostal[airbnb$CodigoPostal == \"28002\\n28002\"] <- \"28002\" # corrijo el CP 28002\\n28002\n",
    "airbnb$CodigoPostal[airbnb$CodigoPostal == \"28051\\n28051\"] <- \"28051\" # corrijo el CP 28051\\n28051\n",
    "airbnb$CodigoPostal[airbnb$CodigoPostal == \"Madrid 28004\"] <- \"28004\" # corrijo el CP Madrid 28004\n",
    "airbnb$CodigoPostal[airbnb$CodigoPostal == \"280013\"] <- \"28013\"       # corrijo el CP 280013\n",
    "airbnb$CodigoPostal[airbnb$CodigoPostal == \"2804\"] <- \"28004\"         # corrijo el CP 2804\n",
    "airbnb$CodigoPostal[airbnb$CodigoPostal == \"2805\"] <- \"28005\"         # corrijo el CP 2805\n",
    "airbnb$CodigoPostal[airbnb$CodigoPostal == \"2815\"] <- \"28015\"         # corrijo el CP 2815\n",
    "\n",
    "\n",
    "#en la siguiente linea creo un subconjunto llamado airbnb2 que excluye los 439 codigos postales vacíos, \n",
    "# el que es igual a \"-\" y el que es igual a \"28\"\n",
    "airbnb2 <- airbnb[airbnb$CodigoPostal != \"\" & airbnb$CodigoPostal != \"-\" & airbnb$CodigoPostal != \"28\" , ]  \n",
    "\n",
    "#en la siguiente linea creo un subconjunto que excluye los 5 codigos postales que no empiezan por 28  \n",
    "airbnb3 <- airbnb2[substr(airbnb2$CodigoPostal, start = 1, stop = 2) == \"28\", ]\n",
    "\n",
    "airbnb[duplicated(airbnb3), ] #compruebo si hay duplicados\n",
    "airbnbLimpio <- unique(airbnb3)  #y como me devuelve un listado, me quedo solo con los no duplicados"
   ]
  },
  {
   "cell_type": "markdown",
   "metadata": {},
   "source": [
    "Una vez limpios los datos ¿Cuales son los códigos postales que tenemos? "
   ]
  },
  {
   "cell_type": "code",
   "execution_count": 134,
   "metadata": {},
   "outputs": [
    {
     "data": {
      "text/html": [
       "'28001, 28002, 28003, 28004, 28005, 28006, 28007, 28008, 28009, 28010, 28011, 28012, 28013, 28014, 28015, 28016, 28017, 28018, 28019, 28020, 28021, 28022, 28023, 28024, 28025, 28026, 28027, 28028, 28029, 28030, 28031, 28032, 28033, 28034, 28035, 28036, 28037, 28038, 28039, 28040, 28041, 28042, 28043, 28044, 28045, 28046, 28047, 28048, 28049, 28050, 28051, 28052, 28053, 28054, 28055, 28056, 28058, 28060, 28094, 28105, 28850'"
      ],
      "text/latex": [
       "'28001, 28002, 28003, 28004, 28005, 28006, 28007, 28008, 28009, 28010, 28011, 28012, 28013, 28014, 28015, 28016, 28017, 28018, 28019, 28020, 28021, 28022, 28023, 28024, 28025, 28026, 28027, 28028, 28029, 28030, 28031, 28032, 28033, 28034, 28035, 28036, 28037, 28038, 28039, 28040, 28041, 28042, 28043, 28044, 28045, 28046, 28047, 28048, 28049, 28050, 28051, 28052, 28053, 28054, 28055, 28056, 28058, 28060, 28094, 28105, 28850'"
      ],
      "text/markdown": [
       "'28001, 28002, 28003, 28004, 28005, 28006, 28007, 28008, 28009, 28010, 28011, 28012, 28013, 28014, 28015, 28016, 28017, 28018, 28019, 28020, 28021, 28022, 28023, 28024, 28025, 28026, 28027, 28028, 28029, 28030, 28031, 28032, 28033, 28034, 28035, 28036, 28037, 28038, 28039, 28040, 28041, 28042, 28043, 28044, 28045, 28046, 28047, 28048, 28049, 28050, 28051, 28052, 28053, 28054, 28055, 28056, 28058, 28060, 28094, 28105, 28850'"
      ],
      "text/plain": [
       "[1] \"28001, 28002, 28003, 28004, 28005, 28006, 28007, 28008, 28009, 28010, 28011, 28012, 28013, 28014, 28015, 28016, 28017, 28018, 28019, 28020, 28021, 28022, 28023, 28024, 28025, 28026, 28027, 28028, 28029, 28030, 28031, 28032, 28033, 28034, 28035, 28036, 28037, 28038, 28039, 28040, 28041, 28042, 28043, 28044, 28045, 28046, 28047, 28048, 28049, 28050, 28051, 28052, 28053, 28054, 28055, 28056, 28058, 28060, 28094, 28105, 28850\""
      ]
     },
     "metadata": {},
     "output_type": "display_data"
    },
    {
     "data": {
      "text/html": [
       "<style>\n",
       ".dl-inline {width: auto; margin:0; padding: 0}\n",
       ".dl-inline>dt, .dl-inline>dd {float: none; width: auto; display: inline-block}\n",
       ".dl-inline>dt::after {content: \":\\0020\"; padding-right: .5ex}\n",
       ".dl-inline>dt:not(:first-of-type) {padding-left: .5ex}\n",
       "</style><dl class=dl-inline><dt>28001</dt><dd>231</dd><dt>28002</dt><dd>171</dd><dt>28003</dt><dd>183</dd><dt>28004</dt><dd>1792</dd><dt>28005</dt><dd>1188</dd><dt>28006</dt><dd>217</dd><dt>28007</dt><dd>204</dd><dt>28008</dt><dd>324</dd><dt>28009</dt><dd>216</dd><dt>28010</dt><dd>384</dd><dt>28011</dt><dd>247</dd><dt>28012</dt><dd>2043</dd><dt>28013</dt><dd>998</dd><dt>28014</dt><dd>621</dd><dt>28015</dt><dd>598</dd><dt>28016</dt><dd>76</dd><dt>28017</dt><dd>107</dd><dt>28018</dt><dd>43</dd><dt>28019</dt><dd>199</dd><dt>28020</dt><dd>192</dd><dt>28021</dt><dd>58</dd><dt>28022</dt><dd>30</dd><dt>28023</dt><dd>23</dd><dt>28024</dt><dd>44</dd><dt>28025</dt><dd>122</dd><dt>28026</dt><dd>93</dd><dt>28027</dt><dd>122</dd><dt>28028</dt><dd>263</dd><dt>28029</dt><dd>110</dd><dt>28030</dt><dd>73</dd><dt>28031</dt><dd>27</dd><dt>28032</dt><dd>33</dd><dt>28033</dt><dd>89</dd><dt>28034</dt><dd>45</dd><dt>28035</dt><dd>59</dd><dt>28036</dt><dd>67</dd><dt>28037</dt><dd>65</dd><dt>28038</dt><dd>77</dd><dt>28039</dt><dd>160</dd><dt>28040</dt><dd>16</dd><dt>28041</dt><dd>63</dd><dt>28042</dt><dd>90</dd><dt>28043</dt><dd>103</dd><dt>28044</dt><dd>19</dd><dt>28045</dt><dd>494</dd><dt>28046</dt><dd>32</dd><dt>28047</dt><dd>67</dd><dt>28048</dt><dd>1</dd><dt>28049</dt><dd>3</dd><dt>28050</dt><dd>58</dd><dt>28051</dt><dd>17</dd><dt>28052</dt><dd>1</dd><dt>28053</dt><dd>85</dd><dt>28054</dt><dd>12</dd><dt>28055</dt><dd>12</dd><dt>28056</dt><dd>1</dd><dt>28058</dt><dd>1</dd><dt>28060</dt><dd>1</dd><dt>28094</dt><dd>1</dd><dt>28105</dt><dd>1</dd><dt>28850</dt><dd>1</dd></dl>\n"
      ],
      "text/latex": [
       "\\begin{description*}\n",
       "\\item[28001] 231\n",
       "\\item[28002] 171\n",
       "\\item[28003] 183\n",
       "\\item[28004] 1792\n",
       "\\item[28005] 1188\n",
       "\\item[28006] 217\n",
       "\\item[28007] 204\n",
       "\\item[28008] 324\n",
       "\\item[28009] 216\n",
       "\\item[28010] 384\n",
       "\\item[28011] 247\n",
       "\\item[28012] 2043\n",
       "\\item[28013] 998\n",
       "\\item[28014] 621\n",
       "\\item[28015] 598\n",
       "\\item[28016] 76\n",
       "\\item[28017] 107\n",
       "\\item[28018] 43\n",
       "\\item[28019] 199\n",
       "\\item[28020] 192\n",
       "\\item[28021] 58\n",
       "\\item[28022] 30\n",
       "\\item[28023] 23\n",
       "\\item[28024] 44\n",
       "\\item[28025] 122\n",
       "\\item[28026] 93\n",
       "\\item[28027] 122\n",
       "\\item[28028] 263\n",
       "\\item[28029] 110\n",
       "\\item[28030] 73\n",
       "\\item[28031] 27\n",
       "\\item[28032] 33\n",
       "\\item[28033] 89\n",
       "\\item[28034] 45\n",
       "\\item[28035] 59\n",
       "\\item[28036] 67\n",
       "\\item[28037] 65\n",
       "\\item[28038] 77\n",
       "\\item[28039] 160\n",
       "\\item[28040] 16\n",
       "\\item[28041] 63\n",
       "\\item[28042] 90\n",
       "\\item[28043] 103\n",
       "\\item[28044] 19\n",
       "\\item[28045] 494\n",
       "\\item[28046] 32\n",
       "\\item[28047] 67\n",
       "\\item[28048] 1\n",
       "\\item[28049] 3\n",
       "\\item[28050] 58\n",
       "\\item[28051] 17\n",
       "\\item[28052] 1\n",
       "\\item[28053] 85\n",
       "\\item[28054] 12\n",
       "\\item[28055] 12\n",
       "\\item[28056] 1\n",
       "\\item[28058] 1\n",
       "\\item[28060] 1\n",
       "\\item[28094] 1\n",
       "\\item[28105] 1\n",
       "\\item[28850] 1\n",
       "\\end{description*}\n"
      ],
      "text/markdown": [
       "28001\n",
       ":   23128002\n",
       ":   17128003\n",
       ":   18328004\n",
       ":   179228005\n",
       ":   118828006\n",
       ":   21728007\n",
       ":   20428008\n",
       ":   32428009\n",
       ":   21628010\n",
       ":   38428011\n",
       ":   24728012\n",
       ":   204328013\n",
       ":   99828014\n",
       ":   62128015\n",
       ":   59828016\n",
       ":   7628017\n",
       ":   10728018\n",
       ":   4328019\n",
       ":   19928020\n",
       ":   19228021\n",
       ":   5828022\n",
       ":   3028023\n",
       ":   2328024\n",
       ":   4428025\n",
       ":   12228026\n",
       ":   9328027\n",
       ":   12228028\n",
       ":   26328029\n",
       ":   11028030\n",
       ":   7328031\n",
       ":   2728032\n",
       ":   3328033\n",
       ":   8928034\n",
       ":   4528035\n",
       ":   5928036\n",
       ":   6728037\n",
       ":   6528038\n",
       ":   7728039\n",
       ":   16028040\n",
       ":   1628041\n",
       ":   6328042\n",
       ":   9028043\n",
       ":   10328044\n",
       ":   1928045\n",
       ":   49428046\n",
       ":   3228047\n",
       ":   6728048\n",
       ":   128049\n",
       ":   328050\n",
       ":   5828051\n",
       ":   1728052\n",
       ":   128053\n",
       ":   8528054\n",
       ":   1228055\n",
       ":   1228056\n",
       ":   128058\n",
       ":   128060\n",
       ":   128094\n",
       ":   128105\n",
       ":   128850\n",
       ":   1\n",
       "\n"
      ],
      "text/plain": [
       "28001 28002 28003 28004 28005 28006 28007 28008 28009 28010 28011 28012 28013 \n",
       "  231   171   183  1792  1188   217   204   324   216   384   247  2043   998 \n",
       "28014 28015 28016 28017 28018 28019 28020 28021 28022 28023 28024 28025 28026 \n",
       "  621   598    76   107    43   199   192    58    30    23    44   122    93 \n",
       "28027 28028 28029 28030 28031 28032 28033 28034 28035 28036 28037 28038 28039 \n",
       "  122   263   110    73    27    33    89    45    59    67    65    77   160 \n",
       "28040 28041 28042 28043 28044 28045 28046 28047 28048 28049 28050 28051 28052 \n",
       "   16    63    90   103    19   494    32    67     1     3    58    17     1 \n",
       "28053 28054 28055 28056 28058 28060 28094 28105 28850 \n",
       "   85    12    12     1     1     1     1     1     1 "
      ]
     },
     "metadata": {},
     "output_type": "display_data"
    }
   ],
   "source": [
    "airbnbLCPF<-factor(airbnbLimpio$CodigoPostal) #airbnbLCPF = airbnb Limpio Codigo Postal Factor\n",
    "\n",
    "paste(levels(airbnbLCPF), collapse=\", \")  #Asi veo los codigos ordenados de menor a mayor\n",
    "summary (airbnbLCPF) #Asi veo los codigos ordenados y el numero de ocurrencias de cada uno"
   ]
  },
  {
   "cell_type": "markdown",
   "metadata": {},
   "source": [
    "¿Cuales son los 5 códigos postales con más entradas? ¿Y con menos? ¿Cuantas entradas tienen?"
   ]
  },
  {
   "cell_type": "code",
   "execution_count": 135,
   "metadata": {},
   "outputs": [
    {
     "data": {
      "text/html": [
       "'Los 5 CP con más entradas son: '"
      ],
      "text/latex": [
       "'Los 5 CP con más entradas son: '"
      ],
      "text/markdown": [
       "'Los 5 CP con más entradas son: '"
      ],
      "text/plain": [
       "[1] \"Los 5 CP con más entradas son: \""
      ]
     },
     "metadata": {},
     "output_type": "display_data"
    },
    {
     "name": "stdout",
     "output_type": "stream",
     "text": [
      "airbnbLCPF\n",
      "28012 28004 28005 28013 28014 \n",
      " 2043  1792  1188   998   621 \n"
     ]
    },
    {
     "data": {
      "text/html": [
       "'Y los 5 CP con menos son: '"
      ],
      "text/latex": [
       "'Y los 5 CP con menos son: '"
      ],
      "text/markdown": [
       "'Y los 5 CP con menos son: '"
      ],
      "text/plain": [
       "[1] \"Y los 5 CP con menos son: \""
      ]
     },
     "metadata": {},
     "output_type": "display_data"
    },
    {
     "name": "stdout",
     "output_type": "stream",
     "text": [
      "airbnbLCPF\n",
      "28048 28052 28056 28058 28060 \n",
      "    1     1     1     1     1 \n"
     ]
    }
   ],
   "source": [
    "\"Los 5 CP con más entradas son: \"\n",
    "print(sort(table(airbnbLCPF), decreasing=T)[1:5])\n",
    "\n",
    "\"Y los 5 CP con menos son: \"\n",
    "print(sort(table(airbnbLCPF), decreasing=F)[1:5])\n"
   ]
  },
  {
   "cell_type": "markdown",
   "metadata": {},
   "source": [
    "¿Cuales son los barrios que hay en el código postal 28012?"
   ]
  },
  {
   "cell_type": "code",
   "execution_count": 136,
   "metadata": {},
   "outputs": [
    {
     "data": {
      "text/html": [
       "'Los barrios que hay en CP 28012 son: '"
      ],
      "text/latex": [
       "'Los barrios que hay en CP 28012 son: '"
      ],
      "text/markdown": [
       "'Los barrios que hay en CP 28012 son: '"
      ],
      "text/plain": [
       "[1] \"Los barrios que hay en CP 28012 son: \""
      ]
     },
     "metadata": {},
     "output_type": "display_data"
    },
    {
     "data": {
      "text/html": [
       "<style>\n",
       ".list-inline {list-style: none; margin:0; padding: 0}\n",
       ".list-inline>li {display: inline-block}\n",
       ".list-inline>li:not(:last-child)::after {content: \"\\00b7\"; padding: 0 .5ex}\n",
       "</style>\n",
       "<ol class=list-inline><li>Sol</li><li>Acacias</li><li>Palos de Moguer</li><li>Embajadores</li><li>Cortes</li><li>Palacio</li><li>Universidad</li><li>Delicias</li><li>Arapiles</li><li>Atocha</li><li>Goya</li></ol>\n",
       "\n",
       "<details>\n",
       "\t<summary style=display:list-item;cursor:pointer>\n",
       "\t\t<strong>Levels</strong>:\n",
       "\t</summary>\n",
       "\t<style>\n",
       "\t.list-inline {list-style: none; margin:0; padding: 0}\n",
       "\t.list-inline>li {display: inline-block}\n",
       "\t.list-inline>li:not(:last-child)::after {content: \"\\00b7\"; padding: 0 .5ex}\n",
       "\t</style>\n",
       "\t<ol class=list-inline><li>'Acacias'</li><li>'Arapiles'</li><li>'Atocha'</li><li>'Cortes'</li><li>'Delicias'</li><li>'Embajadores'</li><li>'Goya'</li><li>'Palacio'</li><li>'Palos de Moguer'</li><li>'Sol'</li><li>'Universidad'</li></ol>\n",
       "</details>"
      ],
      "text/latex": [
       "\\begin{enumerate*}\n",
       "\\item Sol\n",
       "\\item Acacias\n",
       "\\item Palos de Moguer\n",
       "\\item Embajadores\n",
       "\\item Cortes\n",
       "\\item Palacio\n",
       "\\item Universidad\n",
       "\\item Delicias\n",
       "\\item Arapiles\n",
       "\\item Atocha\n",
       "\\item Goya\n",
       "\\end{enumerate*}\n",
       "\n",
       "\\emph{Levels}: \\begin{enumerate*}\n",
       "\\item 'Acacias'\n",
       "\\item 'Arapiles'\n",
       "\\item 'Atocha'\n",
       "\\item 'Cortes'\n",
       "\\item 'Delicias'\n",
       "\\item 'Embajadores'\n",
       "\\item 'Goya'\n",
       "\\item 'Palacio'\n",
       "\\item 'Palos de Moguer'\n",
       "\\item 'Sol'\n",
       "\\item 'Universidad'\n",
       "\\end{enumerate*}\n"
      ],
      "text/markdown": [
       "1. Sol\n",
       "2. Acacias\n",
       "3. Palos de Moguer\n",
       "4. Embajadores\n",
       "5. Cortes\n",
       "6. Palacio\n",
       "7. Universidad\n",
       "8. Delicias\n",
       "9. Arapiles\n",
       "10. Atocha\n",
       "11. Goya\n",
       "\n",
       "\n",
       "\n",
       "**Levels**: 1. 'Acacias'\n",
       "2. 'Arapiles'\n",
       "3. 'Atocha'\n",
       "4. 'Cortes'\n",
       "5. 'Delicias'\n",
       "6. 'Embajadores'\n",
       "7. 'Goya'\n",
       "8. 'Palacio'\n",
       "9. 'Palos de Moguer'\n",
       "10. 'Sol'\n",
       "11. 'Universidad'\n",
       "\n",
       "\n"
      ],
      "text/plain": [
       " [1] Sol             Acacias         Palos de Moguer Embajadores    \n",
       " [5] Cortes          Palacio         Universidad     Delicias       \n",
       " [9] Arapiles        Atocha          Goya           \n",
       "11 Levels: Acacias Arapiles Atocha Cortes Delicias Embajadores Goya ... Universidad"
      ]
     },
     "metadata": {},
     "output_type": "display_data"
    }
   ],
   "source": [
    "CP28012 <- filter(airbnbLimpio, CodigoPostal == \"28012\")\n",
    "\n",
    "CP28012Factor <- factor(CP28012$Barrio)\n",
    "\"Los barrios que hay en CP 28012 son: \"\n",
    "unique(CP28012Factor)\n"
   ]
  },
  {
   "cell_type": "markdown",
   "metadata": {},
   "source": [
    "¿Cuantas entradas hay en cada uno de esos barrios para el codigo postal 28012?"
   ]
  },
  {
   "cell_type": "code",
   "execution_count": 137,
   "metadata": {},
   "outputs": [
    {
     "data": {
      "text/html": [
       "<style>\n",
       ".dl-inline {width: auto; margin:0; padding: 0}\n",
       ".dl-inline>dt, .dl-inline>dd {float: none; width: auto; display: inline-block}\n",
       ".dl-inline>dt::after {content: \":\\0020\"; padding-right: .5ex}\n",
       ".dl-inline>dt:not(:first-of-type) {padding-left: .5ex}\n",
       "</style><dl class=dl-inline><dt>Acacias</dt><dd>13</dd><dt>Arapiles</dt><dd>1</dd><dt>Atocha</dt><dd>1</dd><dt>Cortes</dt><dd>212</dd><dt>Delicias</dt><dd>1</dd><dt>Embajadores</dt><dd>1436</dd><dt>Goya</dt><dd>1</dd><dt>Palacio</dt><dd>27</dd><dt>Palos de Moguer</dt><dd>46</dd><dt>Sol</dt><dd>301</dd><dt>Universidad</dt><dd>4</dd></dl>\n"
      ],
      "text/latex": [
       "\\begin{description*}\n",
       "\\item[Acacias] 13\n",
       "\\item[Arapiles] 1\n",
       "\\item[Atocha] 1\n",
       "\\item[Cortes] 212\n",
       "\\item[Delicias] 1\n",
       "\\item[Embajadores] 1436\n",
       "\\item[Goya] 1\n",
       "\\item[Palacio] 27\n",
       "\\item[Palos de Moguer] 46\n",
       "\\item[Sol] 301\n",
       "\\item[Universidad] 4\n",
       "\\end{description*}\n"
      ],
      "text/markdown": [
       "Acacias\n",
       ":   13Arapiles\n",
       ":   1Atocha\n",
       ":   1Cortes\n",
       ":   212Delicias\n",
       ":   1Embajadores\n",
       ":   1436Goya\n",
       ":   1Palacio\n",
       ":   27Palos de Moguer\n",
       ":   46Sol\n",
       ":   301Universidad\n",
       ":   4\n",
       "\n"
      ],
      "text/plain": [
       "        Acacias        Arapiles          Atocha          Cortes        Delicias \n",
       "             13               1               1             212               1 \n",
       "    Embajadores            Goya         Palacio Palos de Moguer             Sol \n",
       "           1436               1              27              46             301 \n",
       "    Universidad \n",
       "              4 "
      ]
     },
     "metadata": {},
     "output_type": "display_data"
    }
   ],
   "source": [
    "summary (CP28012Factor)\n"
   ]
  },
  {
   "cell_type": "markdown",
   "metadata": {},
   "source": [
    "¿Cuantos barrios hay en todo el dataset airbnb? ¿Cuales son?"
   ]
  },
  {
   "cell_type": "code",
   "execution_count": 138,
   "metadata": {},
   "outputs": [
    {
     "name": "stdout",
     "output_type": "stream",
     "text": [
      "[1] \"En todo el dataset de airbnb hay 125 barrios, y son estos:\"\n"
     ]
    },
    {
     "data": {
      "text/html": [
       "<style>\n",
       ".list-inline {list-style: none; margin:0; padding: 0}\n",
       ".list-inline>li {display: inline-block}\n",
       ".list-inline>li:not(:last-child)::after {content: \"\\00b7\"; padding: 0 .5ex}\n",
       "</style>\n",
       "<ol class=list-inline><li>Universidad</li><li>Sol</li><li>Imperial</li><li>Acacias</li><li>Chopera</li><li>Delicias</li><li>Palos de Moguer</li><li>Embajadores</li><li>Cortes</li><li>Atocha</li><li>Pacífico</li><li>Adelfas</li><li>Estrella</li><li>Ibiza</li><li>Jerónimos</li><li>Niño Jesús</li><li>Palacio</li><li>Justicia</li><li>Recoletos</li><li>Goya</li><li>Fuente del Berro</li><li>Arapiles</li><li>Trafalgar</li><li>Almagro</li><li>Guindalera</li><li>Lista</li><li>Castellana</li><li>El Viso</li><li>Prosperidad</li><li>Valverde</li><li>Casa de Campo</li><li>El Goloso</li><li>Numancia</li><li>Cármenes</li><li>Puerta del Angel</li><li>Lucero</li><li>San Isidro</li><li>Campamento</li><li>Comillas</li><li>Opañel</li><li>Vista Alegre</li><li>Ciudad Jardín</li><li>Hispanoamérica</li><li>Nueva España</li><li>Castilla</li><li>Bellas Vistas</li><li>Cuatro Caminos</li><li>Castillejos</li><li>Vallehermoso</li><li>Almenara</li><li>Valdeacederas</li><li>Berruguete</li><li>Gaztambide</li><li>Rios Rosas</li><li>Peñagrande</li><li>Argüelles</li><li>Puerta Bonita</li><li>Buenavista</li><li>Abrantes</li><li>Orcasur</li><li>San Fermín</li><li>Almendrales</li><li>Pradolongo</li><li>Portazgo</li><li>Entrevías</li><li>San Diego</li><li>Palomeras Bajas</li><li>Fontarrón</li><li>Vinateros</li><li>Ventas</li><li>Pueblo Nuevo</li><li>Quintana</li><li>Concepción</li><li>San Juan Bautista</li><li>Costillares</li><li>Piovera</li><li>Canillas</li><li>Pinar del Rey</li><li>Apostol Santiago</li><li>San Andrés</li><li>Valdefuentes</li><li>Butarque</li><li>Los Angeles</li><li>Casco Histórico de Vicálvaro</li><li>Simancas</li><li>Rejas</li><li>Salvador</li><li>Casco Histórico de Barajas</li><li>Pilar</li><li>La Paz</li><li>Mirasierra</li><li>Ciudad Universitaria</li><li>Moscardó</li><li>Palomeras Sureste</li><li>Marroquina</li><li>Media Legua</li><li>Los Rosales</li><li>Casco Histórico de Vallecas</li><li>Timón</li><li>Corralejos</li><li>Aluche</li><li>Cuatro Vientos</li><li>Colina</li><li>San Cristobal</li><li>Alameda de Osuna</li><li>Palomas</li><li>Zofío</li><li>Aguilas</li><li>Legazpi</li><li>Fuentelareina</li><li>Aravaca</li><li>Ambroz</li><li>Canillejas</li><li>Valdezarza</li><li>Amposta</li><li>San Pascual</li><li>Santa Eugenia</li><li>Arcos</li><li>Rosas</li><li>Valdemarín</li><li>Aeropuerto</li><li>El Plantío</li><li>Hellín</li><li>Pavones</li><li>Orcasitas</li></ol>\n",
       "\n",
       "<details>\n",
       "\t<summary style=display:list-item;cursor:pointer>\n",
       "\t\t<strong>Levels</strong>:\n",
       "\t</summary>\n",
       "\t<style>\n",
       "\t.list-inline {list-style: none; margin:0; padding: 0}\n",
       "\t.list-inline>li {display: inline-block}\n",
       "\t.list-inline>li:not(:last-child)::after {content: \"\\00b7\"; padding: 0 .5ex}\n",
       "\t</style>\n",
       "\t<ol class=list-inline><li>'Abrantes'</li><li>'Acacias'</li><li>'Adelfas'</li><li>'Aeropuerto'</li><li>'Aguilas'</li><li>'Alameda de Osuna'</li><li>'Almagro'</li><li>'Almenara'</li><li>'Almendrales'</li><li>'Aluche'</li><li>'Ambroz'</li><li>'Amposta'</li><li>'Apostol Santiago'</li><li>'Arapiles'</li><li>'Aravaca'</li><li>'Arcos'</li><li>'Argüelles'</li><li>'Atocha'</li><li>'Bellas Vistas'</li><li>'Berruguete'</li><li>'Buenavista'</li><li>'Butarque'</li><li>'Campamento'</li><li>'Canillas'</li><li>'Canillejas'</li><li>'Cármenes'</li><li>'Casa de Campo'</li><li>'Casco Histórico de Barajas'</li><li>'Casco Histórico de Vallecas'</li><li>'Casco Histórico de Vicálvaro'</li><li>'Castellana'</li><li>'Castilla'</li><li>'Castillejos'</li><li>'Chopera'</li><li>'Ciudad Jardín'</li><li>'Ciudad Universitaria'</li><li>'Colina'</li><li>'Comillas'</li><li>'Concepción'</li><li>'Corralejos'</li><li>'Cortes'</li><li>'Costillares'</li><li>'Cuatro Caminos'</li><li>'Cuatro Vientos'</li><li>'Delicias'</li><li>'El Goloso'</li><li>'El Plantío'</li><li>'El Viso'</li><li>'Embajadores'</li><li>'Entrevías'</li><li>'Estrella'</li><li>'Fontarrón'</li><li>'Fuente del Berro'</li><li>'Fuentelareina'</li><li>'Gaztambide'</li><li>'Goya'</li><li>'Guindalera'</li><li>'Hellín'</li><li>'Hispanoamérica'</li><li>'Ibiza'</li><li>'Imperial'</li><li>'Jerónimos'</li><li>'Justicia'</li><li>'La Paz'</li><li>'Legazpi'</li><li>'Lista'</li><li>'Los Angeles'</li><li>'Los Rosales'</li><li>'Lucero'</li><li>'Marroquina'</li><li>'Media Legua'</li><li>'Mirasierra'</li><li>'Moscardó'</li><li>'Niño Jesús'</li><li>'Nueva España'</li><li>'Numancia'</li><li>'Opañel'</li><li>'Orcasitas'</li><li>'Orcasur'</li><li>'Pacífico'</li><li>'Palacio'</li><li>'Palomas'</li><li>'Palomeras Bajas'</li><li>'Palomeras Sureste'</li><li>'Palos de Moguer'</li><li>'Pavones'</li><li>'Peñagrande'</li><li>'Pilar'</li><li>'Pinar del Rey'</li><li>'Piovera'</li><li>'Portazgo'</li><li>'Pradolongo'</li><li>'Prosperidad'</li><li>'Pueblo Nuevo'</li><li>'Puerta Bonita'</li><li>'Puerta del Angel'</li><li>'Quintana'</li><li>'Recoletos'</li><li>'Rejas'</li><li>'Rios Rosas'</li><li>'Rosas'</li><li>'Salvador'</li><li>'San Andrés'</li><li>'San Cristobal'</li><li>'San Diego'</li><li>'San Fermín'</li><li>'San Isidro'</li><li>'San Juan Bautista'</li><li>'San Pascual'</li><li>'Santa Eugenia'</li><li>'Simancas'</li><li>'Sol'</li><li>'Timón'</li><li>'Trafalgar'</li><li>'Universidad'</li><li>'Valdeacederas'</li><li>'Valdefuentes'</li><li>'Valdemarín'</li><li>'Valdezarza'</li><li>'Vallehermoso'</li><li>'Valverde'</li><li>'Ventas'</li><li>'Vinateros'</li><li>'Vista Alegre'</li><li>'Zofío'</li></ol>\n",
       "</details>"
      ],
      "text/latex": [
       "\\begin{enumerate*}\n",
       "\\item Universidad\n",
       "\\item Sol\n",
       "\\item Imperial\n",
       "\\item Acacias\n",
       "\\item Chopera\n",
       "\\item Delicias\n",
       "\\item Palos de Moguer\n",
       "\\item Embajadores\n",
       "\\item Cortes\n",
       "\\item Atocha\n",
       "\\item Pacífico\n",
       "\\item Adelfas\n",
       "\\item Estrella\n",
       "\\item Ibiza\n",
       "\\item Jerónimos\n",
       "\\item Niño Jesús\n",
       "\\item Palacio\n",
       "\\item Justicia\n",
       "\\item Recoletos\n",
       "\\item Goya\n",
       "\\item Fuente del Berro\n",
       "\\item Arapiles\n",
       "\\item Trafalgar\n",
       "\\item Almagro\n",
       "\\item Guindalera\n",
       "\\item Lista\n",
       "\\item Castellana\n",
       "\\item El Viso\n",
       "\\item Prosperidad\n",
       "\\item Valverde\n",
       "\\item Casa de Campo\n",
       "\\item El Goloso\n",
       "\\item Numancia\n",
       "\\item Cármenes\n",
       "\\item Puerta del Angel\n",
       "\\item Lucero\n",
       "\\item San Isidro\n",
       "\\item Campamento\n",
       "\\item Comillas\n",
       "\\item Opañel\n",
       "\\item Vista Alegre\n",
       "\\item Ciudad Jardín\n",
       "\\item Hispanoamérica\n",
       "\\item Nueva España\n",
       "\\item Castilla\n",
       "\\item Bellas Vistas\n",
       "\\item Cuatro Caminos\n",
       "\\item Castillejos\n",
       "\\item Vallehermoso\n",
       "\\item Almenara\n",
       "\\item Valdeacederas\n",
       "\\item Berruguete\n",
       "\\item Gaztambide\n",
       "\\item Rios Rosas\n",
       "\\item Peñagrande\n",
       "\\item Argüelles\n",
       "\\item Puerta Bonita\n",
       "\\item Buenavista\n",
       "\\item Abrantes\n",
       "\\item Orcasur\n",
       "\\item San Fermín\n",
       "\\item Almendrales\n",
       "\\item Pradolongo\n",
       "\\item Portazgo\n",
       "\\item Entrevías\n",
       "\\item San Diego\n",
       "\\item Palomeras Bajas\n",
       "\\item Fontarrón\n",
       "\\item Vinateros\n",
       "\\item Ventas\n",
       "\\item Pueblo Nuevo\n",
       "\\item Quintana\n",
       "\\item Concepción\n",
       "\\item San Juan Bautista\n",
       "\\item Costillares\n",
       "\\item Piovera\n",
       "\\item Canillas\n",
       "\\item Pinar del Rey\n",
       "\\item Apostol Santiago\n",
       "\\item San Andrés\n",
       "\\item Valdefuentes\n",
       "\\item Butarque\n",
       "\\item Los Angeles\n",
       "\\item Casco Histórico de Vicálvaro\n",
       "\\item Simancas\n",
       "\\item Rejas\n",
       "\\item Salvador\n",
       "\\item Casco Histórico de Barajas\n",
       "\\item Pilar\n",
       "\\item La Paz\n",
       "\\item Mirasierra\n",
       "\\item Ciudad Universitaria\n",
       "\\item Moscardó\n",
       "\\item Palomeras Sureste\n",
       "\\item Marroquina\n",
       "\\item Media Legua\n",
       "\\item Los Rosales\n",
       "\\item Casco Histórico de Vallecas\n",
       "\\item Timón\n",
       "\\item Corralejos\n",
       "\\item Aluche\n",
       "\\item Cuatro Vientos\n",
       "\\item Colina\n",
       "\\item San Cristobal\n",
       "\\item Alameda de Osuna\n",
       "\\item Palomas\n",
       "\\item Zofío\n",
       "\\item Aguilas\n",
       "\\item Legazpi\n",
       "\\item Fuentelareina\n",
       "\\item Aravaca\n",
       "\\item Ambroz\n",
       "\\item Canillejas\n",
       "\\item Valdezarza\n",
       "\\item Amposta\n",
       "\\item San Pascual\n",
       "\\item Santa Eugenia\n",
       "\\item Arcos\n",
       "\\item Rosas\n",
       "\\item Valdemarín\n",
       "\\item Aeropuerto\n",
       "\\item El Plantío\n",
       "\\item Hellín\n",
       "\\item Pavones\n",
       "\\item Orcasitas\n",
       "\\end{enumerate*}\n",
       "\n",
       "\\emph{Levels}: \\begin{enumerate*}\n",
       "\\item 'Abrantes'\n",
       "\\item 'Acacias'\n",
       "\\item 'Adelfas'\n",
       "\\item 'Aeropuerto'\n",
       "\\item 'Aguilas'\n",
       "\\item 'Alameda de Osuna'\n",
       "\\item 'Almagro'\n",
       "\\item 'Almenara'\n",
       "\\item 'Almendrales'\n",
       "\\item 'Aluche'\n",
       "\\item 'Ambroz'\n",
       "\\item 'Amposta'\n",
       "\\item 'Apostol Santiago'\n",
       "\\item 'Arapiles'\n",
       "\\item 'Aravaca'\n",
       "\\item 'Arcos'\n",
       "\\item 'Argüelles'\n",
       "\\item 'Atocha'\n",
       "\\item 'Bellas Vistas'\n",
       "\\item 'Berruguete'\n",
       "\\item 'Buenavista'\n",
       "\\item 'Butarque'\n",
       "\\item 'Campamento'\n",
       "\\item 'Canillas'\n",
       "\\item 'Canillejas'\n",
       "\\item 'Cármenes'\n",
       "\\item 'Casa de Campo'\n",
       "\\item 'Casco Histórico de Barajas'\n",
       "\\item 'Casco Histórico de Vallecas'\n",
       "\\item 'Casco Histórico de Vicálvaro'\n",
       "\\item 'Castellana'\n",
       "\\item 'Castilla'\n",
       "\\item 'Castillejos'\n",
       "\\item 'Chopera'\n",
       "\\item 'Ciudad Jardín'\n",
       "\\item 'Ciudad Universitaria'\n",
       "\\item 'Colina'\n",
       "\\item 'Comillas'\n",
       "\\item 'Concepción'\n",
       "\\item 'Corralejos'\n",
       "\\item 'Cortes'\n",
       "\\item 'Costillares'\n",
       "\\item 'Cuatro Caminos'\n",
       "\\item 'Cuatro Vientos'\n",
       "\\item 'Delicias'\n",
       "\\item 'El Goloso'\n",
       "\\item 'El Plantío'\n",
       "\\item 'El Viso'\n",
       "\\item 'Embajadores'\n",
       "\\item 'Entrevías'\n",
       "\\item 'Estrella'\n",
       "\\item 'Fontarrón'\n",
       "\\item 'Fuente del Berro'\n",
       "\\item 'Fuentelareina'\n",
       "\\item 'Gaztambide'\n",
       "\\item 'Goya'\n",
       "\\item 'Guindalera'\n",
       "\\item 'Hellín'\n",
       "\\item 'Hispanoamérica'\n",
       "\\item 'Ibiza'\n",
       "\\item 'Imperial'\n",
       "\\item 'Jerónimos'\n",
       "\\item 'Justicia'\n",
       "\\item 'La Paz'\n",
       "\\item 'Legazpi'\n",
       "\\item 'Lista'\n",
       "\\item 'Los Angeles'\n",
       "\\item 'Los Rosales'\n",
       "\\item 'Lucero'\n",
       "\\item 'Marroquina'\n",
       "\\item 'Media Legua'\n",
       "\\item 'Mirasierra'\n",
       "\\item 'Moscardó'\n",
       "\\item 'Niño Jesús'\n",
       "\\item 'Nueva España'\n",
       "\\item 'Numancia'\n",
       "\\item 'Opañel'\n",
       "\\item 'Orcasitas'\n",
       "\\item 'Orcasur'\n",
       "\\item 'Pacífico'\n",
       "\\item 'Palacio'\n",
       "\\item 'Palomas'\n",
       "\\item 'Palomeras Bajas'\n",
       "\\item 'Palomeras Sureste'\n",
       "\\item 'Palos de Moguer'\n",
       "\\item 'Pavones'\n",
       "\\item 'Peñagrande'\n",
       "\\item 'Pilar'\n",
       "\\item 'Pinar del Rey'\n",
       "\\item 'Piovera'\n",
       "\\item 'Portazgo'\n",
       "\\item 'Pradolongo'\n",
       "\\item 'Prosperidad'\n",
       "\\item 'Pueblo Nuevo'\n",
       "\\item 'Puerta Bonita'\n",
       "\\item 'Puerta del Angel'\n",
       "\\item 'Quintana'\n",
       "\\item 'Recoletos'\n",
       "\\item 'Rejas'\n",
       "\\item 'Rios Rosas'\n",
       "\\item 'Rosas'\n",
       "\\item 'Salvador'\n",
       "\\item 'San Andrés'\n",
       "\\item 'San Cristobal'\n",
       "\\item 'San Diego'\n",
       "\\item 'San Fermín'\n",
       "\\item 'San Isidro'\n",
       "\\item 'San Juan Bautista'\n",
       "\\item 'San Pascual'\n",
       "\\item 'Santa Eugenia'\n",
       "\\item 'Simancas'\n",
       "\\item 'Sol'\n",
       "\\item 'Timón'\n",
       "\\item 'Trafalgar'\n",
       "\\item 'Universidad'\n",
       "\\item 'Valdeacederas'\n",
       "\\item 'Valdefuentes'\n",
       "\\item 'Valdemarín'\n",
       "\\item 'Valdezarza'\n",
       "\\item 'Vallehermoso'\n",
       "\\item 'Valverde'\n",
       "\\item 'Ventas'\n",
       "\\item 'Vinateros'\n",
       "\\item 'Vista Alegre'\n",
       "\\item 'Zofío'\n",
       "\\end{enumerate*}\n"
      ],
      "text/markdown": [
       "1. Universidad\n",
       "2. Sol\n",
       "3. Imperial\n",
       "4. Acacias\n",
       "5. Chopera\n",
       "6. Delicias\n",
       "7. Palos de Moguer\n",
       "8. Embajadores\n",
       "9. Cortes\n",
       "10. Atocha\n",
       "11. Pacífico\n",
       "12. Adelfas\n",
       "13. Estrella\n",
       "14. Ibiza\n",
       "15. Jerónimos\n",
       "16. Niño Jesús\n",
       "17. Palacio\n",
       "18. Justicia\n",
       "19. Recoletos\n",
       "20. Goya\n",
       "21. Fuente del Berro\n",
       "22. Arapiles\n",
       "23. Trafalgar\n",
       "24. Almagro\n",
       "25. Guindalera\n",
       "26. Lista\n",
       "27. Castellana\n",
       "28. El Viso\n",
       "29. Prosperidad\n",
       "30. Valverde\n",
       "31. Casa de Campo\n",
       "32. El Goloso\n",
       "33. Numancia\n",
       "34. Cármenes\n",
       "35. Puerta del Angel\n",
       "36. Lucero\n",
       "37. San Isidro\n",
       "38. Campamento\n",
       "39. Comillas\n",
       "40. Opañel\n",
       "41. Vista Alegre\n",
       "42. Ciudad Jardín\n",
       "43. Hispanoamérica\n",
       "44. Nueva España\n",
       "45. Castilla\n",
       "46. Bellas Vistas\n",
       "47. Cuatro Caminos\n",
       "48. Castillejos\n",
       "49. Vallehermoso\n",
       "50. Almenara\n",
       "51. Valdeacederas\n",
       "52. Berruguete\n",
       "53. Gaztambide\n",
       "54. Rios Rosas\n",
       "55. Peñagrande\n",
       "56. Argüelles\n",
       "57. Puerta Bonita\n",
       "58. Buenavista\n",
       "59. Abrantes\n",
       "60. Orcasur\n",
       "61. San Fermín\n",
       "62. Almendrales\n",
       "63. Pradolongo\n",
       "64. Portazgo\n",
       "65. Entrevías\n",
       "66. San Diego\n",
       "67. Palomeras Bajas\n",
       "68. Fontarrón\n",
       "69. Vinateros\n",
       "70. Ventas\n",
       "71. Pueblo Nuevo\n",
       "72. Quintana\n",
       "73. Concepción\n",
       "74. San Juan Bautista\n",
       "75. Costillares\n",
       "76. Piovera\n",
       "77. Canillas\n",
       "78. Pinar del Rey\n",
       "79. Apostol Santiago\n",
       "80. San Andrés\n",
       "81. Valdefuentes\n",
       "82. Butarque\n",
       "83. Los Angeles\n",
       "84. Casco Histórico de Vicálvaro\n",
       "85. Simancas\n",
       "86. Rejas\n",
       "87. Salvador\n",
       "88. Casco Histórico de Barajas\n",
       "89. Pilar\n",
       "90. La Paz\n",
       "91. Mirasierra\n",
       "92. Ciudad Universitaria\n",
       "93. Moscardó\n",
       "94. Palomeras Sureste\n",
       "95. Marroquina\n",
       "96. Media Legua\n",
       "97. Los Rosales\n",
       "98. Casco Histórico de Vallecas\n",
       "99. Timón\n",
       "100. Corralejos\n",
       "101. Aluche\n",
       "102. Cuatro Vientos\n",
       "103. Colina\n",
       "104. San Cristobal\n",
       "105. Alameda de Osuna\n",
       "106. Palomas\n",
       "107. Zofío\n",
       "108. Aguilas\n",
       "109. Legazpi\n",
       "110. Fuentelareina\n",
       "111. Aravaca\n",
       "112. Ambroz\n",
       "113. Canillejas\n",
       "114. Valdezarza\n",
       "115. Amposta\n",
       "116. San Pascual\n",
       "117. Santa Eugenia\n",
       "118. Arcos\n",
       "119. Rosas\n",
       "120. Valdemarín\n",
       "121. Aeropuerto\n",
       "122. El Plantío\n",
       "123. Hellín\n",
       "124. Pavones\n",
       "125. Orcasitas\n",
       "\n",
       "\n",
       "\n",
       "**Levels**: 1. 'Abrantes'\n",
       "2. 'Acacias'\n",
       "3. 'Adelfas'\n",
       "4. 'Aeropuerto'\n",
       "5. 'Aguilas'\n",
       "6. 'Alameda de Osuna'\n",
       "7. 'Almagro'\n",
       "8. 'Almenara'\n",
       "9. 'Almendrales'\n",
       "10. 'Aluche'\n",
       "11. 'Ambroz'\n",
       "12. 'Amposta'\n",
       "13. 'Apostol Santiago'\n",
       "14. 'Arapiles'\n",
       "15. 'Aravaca'\n",
       "16. 'Arcos'\n",
       "17. 'Argüelles'\n",
       "18. 'Atocha'\n",
       "19. 'Bellas Vistas'\n",
       "20. 'Berruguete'\n",
       "21. 'Buenavista'\n",
       "22. 'Butarque'\n",
       "23. 'Campamento'\n",
       "24. 'Canillas'\n",
       "25. 'Canillejas'\n",
       "26. 'Cármenes'\n",
       "27. 'Casa de Campo'\n",
       "28. 'Casco Histórico de Barajas'\n",
       "29. 'Casco Histórico de Vallecas'\n",
       "30. 'Casco Histórico de Vicálvaro'\n",
       "31. 'Castellana'\n",
       "32. 'Castilla'\n",
       "33. 'Castillejos'\n",
       "34. 'Chopera'\n",
       "35. 'Ciudad Jardín'\n",
       "36. 'Ciudad Universitaria'\n",
       "37. 'Colina'\n",
       "38. 'Comillas'\n",
       "39. 'Concepción'\n",
       "40. 'Corralejos'\n",
       "41. 'Cortes'\n",
       "42. 'Costillares'\n",
       "43. 'Cuatro Caminos'\n",
       "44. 'Cuatro Vientos'\n",
       "45. 'Delicias'\n",
       "46. 'El Goloso'\n",
       "47. 'El Plantío'\n",
       "48. 'El Viso'\n",
       "49. 'Embajadores'\n",
       "50. 'Entrevías'\n",
       "51. 'Estrella'\n",
       "52. 'Fontarrón'\n",
       "53. 'Fuente del Berro'\n",
       "54. 'Fuentelareina'\n",
       "55. 'Gaztambide'\n",
       "56. 'Goya'\n",
       "57. 'Guindalera'\n",
       "58. 'Hellín'\n",
       "59. 'Hispanoamérica'\n",
       "60. 'Ibiza'\n",
       "61. 'Imperial'\n",
       "62. 'Jerónimos'\n",
       "63. 'Justicia'\n",
       "64. 'La Paz'\n",
       "65. 'Legazpi'\n",
       "66. 'Lista'\n",
       "67. 'Los Angeles'\n",
       "68. 'Los Rosales'\n",
       "69. 'Lucero'\n",
       "70. 'Marroquina'\n",
       "71. 'Media Legua'\n",
       "72. 'Mirasierra'\n",
       "73. 'Moscardó'\n",
       "74. 'Niño Jesús'\n",
       "75. 'Nueva España'\n",
       "76. 'Numancia'\n",
       "77. 'Opañel'\n",
       "78. 'Orcasitas'\n",
       "79. 'Orcasur'\n",
       "80. 'Pacífico'\n",
       "81. 'Palacio'\n",
       "82. 'Palomas'\n",
       "83. 'Palomeras Bajas'\n",
       "84. 'Palomeras Sureste'\n",
       "85. 'Palos de Moguer'\n",
       "86. 'Pavones'\n",
       "87. 'Peñagrande'\n",
       "88. 'Pilar'\n",
       "89. 'Pinar del Rey'\n",
       "90. 'Piovera'\n",
       "91. 'Portazgo'\n",
       "92. 'Pradolongo'\n",
       "93. 'Prosperidad'\n",
       "94. 'Pueblo Nuevo'\n",
       "95. 'Puerta Bonita'\n",
       "96. 'Puerta del Angel'\n",
       "97. 'Quintana'\n",
       "98. 'Recoletos'\n",
       "99. 'Rejas'\n",
       "100. 'Rios Rosas'\n",
       "101. 'Rosas'\n",
       "102. 'Salvador'\n",
       "103. 'San Andrés'\n",
       "104. 'San Cristobal'\n",
       "105. 'San Diego'\n",
       "106. 'San Fermín'\n",
       "107. 'San Isidro'\n",
       "108. 'San Juan Bautista'\n",
       "109. 'San Pascual'\n",
       "110. 'Santa Eugenia'\n",
       "111. 'Simancas'\n",
       "112. 'Sol'\n",
       "113. 'Timón'\n",
       "114. 'Trafalgar'\n",
       "115. 'Universidad'\n",
       "116. 'Valdeacederas'\n",
       "117. 'Valdefuentes'\n",
       "118. 'Valdemarín'\n",
       "119. 'Valdezarza'\n",
       "120. 'Vallehermoso'\n",
       "121. 'Valverde'\n",
       "122. 'Ventas'\n",
       "123. 'Vinateros'\n",
       "124. 'Vista Alegre'\n",
       "125. 'Zofío'\n",
       "\n",
       "\n"
      ],
      "text/plain": [
       "  [1] Universidad                  Sol                         \n",
       "  [3] Imperial                     Acacias                     \n",
       "  [5] Chopera                      Delicias                    \n",
       "  [7] Palos de Moguer              Embajadores                 \n",
       "  [9] Cortes                       Atocha                      \n",
       " [11] Pacífico                     Adelfas                     \n",
       " [13] Estrella                     Ibiza                       \n",
       " [15] Jerónimos                    Niño Jesús                  \n",
       " [17] Palacio                      Justicia                    \n",
       " [19] Recoletos                    Goya                        \n",
       " [21] Fuente del Berro             Arapiles                    \n",
       " [23] Trafalgar                    Almagro                     \n",
       " [25] Guindalera                   Lista                       \n",
       " [27] Castellana                   El Viso                     \n",
       " [29] Prosperidad                  Valverde                    \n",
       " [31] Casa de Campo                El Goloso                   \n",
       " [33] Numancia                     Cármenes                    \n",
       " [35] Puerta del Angel             Lucero                      \n",
       " [37] San Isidro                   Campamento                  \n",
       " [39] Comillas                     Opañel                      \n",
       " [41] Vista Alegre                 Ciudad Jardín               \n",
       " [43] Hispanoamérica               Nueva España                \n",
       " [45] Castilla                     Bellas Vistas               \n",
       " [47] Cuatro Caminos               Castillejos                 \n",
       " [49] Vallehermoso                 Almenara                    \n",
       " [51] Valdeacederas                Berruguete                  \n",
       " [53] Gaztambide                   Rios Rosas                  \n",
       " [55] Peñagrande                   Argüelles                   \n",
       " [57] Puerta Bonita                Buenavista                  \n",
       " [59] Abrantes                     Orcasur                     \n",
       " [61] San Fermín                   Almendrales                 \n",
       " [63] Pradolongo                   Portazgo                    \n",
       " [65] Entrevías                    San Diego                   \n",
       " [67] Palomeras Bajas              Fontarrón                   \n",
       " [69] Vinateros                    Ventas                      \n",
       " [71] Pueblo Nuevo                 Quintana                    \n",
       " [73] Concepción                   San Juan Bautista           \n",
       " [75] Costillares                  Piovera                     \n",
       " [77] Canillas                     Pinar del Rey               \n",
       " [79] Apostol Santiago             San Andrés                  \n",
       " [81] Valdefuentes                 Butarque                    \n",
       " [83] Los Angeles                  Casco Histórico de Vicálvaro\n",
       " [85] Simancas                     Rejas                       \n",
       " [87] Salvador                     Casco Histórico de Barajas  \n",
       " [89] Pilar                        La Paz                      \n",
       " [91] Mirasierra                   Ciudad Universitaria        \n",
       " [93] Moscardó                     Palomeras Sureste           \n",
       " [95] Marroquina                   Media Legua                 \n",
       " [97] Los Rosales                  Casco Histórico de Vallecas \n",
       " [99] Timón                        Corralejos                  \n",
       "[101] Aluche                       Cuatro Vientos              \n",
       "[103] Colina                       San Cristobal               \n",
       "[105] Alameda de Osuna             Palomas                     \n",
       "[107] Zofío                        Aguilas                     \n",
       "[109] Legazpi                      Fuentelareina               \n",
       "[111] Aravaca                      Ambroz                      \n",
       "[113] Canillejas                   Valdezarza                  \n",
       "[115] Amposta                      San Pascual                 \n",
       "[117] Santa Eugenia                Arcos                       \n",
       "[119] Rosas                        Valdemarín                  \n",
       "[121] Aeropuerto                   El Plantío                  \n",
       "[123] Hellín                       Pavones                     \n",
       "[125] Orcasitas                   \n",
       "125 Levels: Abrantes Acacias Adelfas Aeropuerto Aguilas ... Zofío"
      ]
     },
     "metadata": {},
     "output_type": "display_data"
    }
   ],
   "source": [
    "Barrios <- c(airbnbLimpio$Barrio)  #creo el vector de barrios\n",
    "BarriosFactor <- factor(Barrios)   #y lo factorizo\n",
    "\n",
    "totalBarrios <- length(table(BarriosFactor))     #obtengo el numero total de barrios\n",
    "print(paste(\"En todo el dataset de airbnb hay\",totalBarrios,\"barrios, y son estos:\"))     \n",
    "unique(BarriosFactor)\n"
   ]
  },
  {
   "cell_type": "markdown",
   "metadata": {},
   "source": [
    "¿Cuales son los 5 barrios que tienen mayor número entradas?"
   ]
  },
  {
   "cell_type": "code",
   "execution_count": 139,
   "metadata": {},
   "outputs": [
    {
     "data": {
      "text/html": [
       "'Los 5 barrios con más entradas son: '"
      ],
      "text/latex": [
       "'Los 5 barrios con más entradas son: '"
      ],
      "text/markdown": [
       "'Los 5 barrios con más entradas son: '"
      ],
      "text/plain": [
       "[1] \"Los 5 barrios con más entradas son: \""
      ]
     },
     "metadata": {},
     "output_type": "display_data"
    },
    {
     "name": "stdout",
     "output_type": "stream",
     "text": [
      "BarriosFactor\n",
      "Embajadores Universidad     Palacio         Sol    Justicia \n",
      "       1784        1322        1046         894         761 \n"
     ]
    },
    {
     "data": {
      "text/html": [
       "'Y los 5 con menos son: '"
      ],
      "text/latex": [
       "'Y los 5 con menos son: '"
      ],
      "text/markdown": [
       "'Y los 5 con menos son: '"
      ],
      "text/plain": [
       "[1] \"Y los 5 con menos son: \""
      ]
     },
     "metadata": {},
     "output_type": "display_data"
    },
    {
     "name": "stdout",
     "output_type": "stream",
     "text": [
      "BarriosFactor\n",
      "     Orcasitas Cuatro Vientos      El Goloso     El Plantío  Fuentelareina \n",
      "             2              3              3              3              3 \n"
     ]
    }
   ],
   "source": [
    "\"Los 5 barrios con más entradas son: \"\n",
    "print(sort(table(BarriosFactor), decreasing=T)[1:5])\n",
    "\n",
    "\"Y los 5 con menos son: \"\n",
    "print(sort(table(BarriosFactor), decreasing=F)[1:5])"
   ]
  },
  {
   "cell_type": "markdown",
   "metadata": {},
   "source": [
    "¿Cuantos Tipos de Alquiler diferentes hay? ¿Cuales son? ¿Cuantas entradas en el dataframe hay por cada tipo?"
   ]
  },
  {
   "cell_type": "code",
   "execution_count": 140,
   "metadata": {},
   "outputs": [
    {
     "name": "stdout",
     "output_type": "stream",
     "text": [
      "[1] \"En todo el dataset de airbnb hay 3 tipos distintos de alquiler, y son:\"\n"
     ]
    },
    {
     "data": {
      "text/html": [
       "<style>\n",
       ".list-inline {list-style: none; margin:0; padding: 0}\n",
       ".list-inline>li {display: inline-block}\n",
       ".list-inline>li:not(:last-child)::after {content: \"\\00b7\"; padding: 0 .5ex}\n",
       "</style>\n",
       "<ol class=list-inline><li>Private room</li><li>Entire home/apt</li><li>Shared room</li></ol>\n",
       "\n",
       "<details>\n",
       "\t<summary style=display:list-item;cursor:pointer>\n",
       "\t\t<strong>Levels</strong>:\n",
       "\t</summary>\n",
       "\t<style>\n",
       "\t.list-inline {list-style: none; margin:0; padding: 0}\n",
       "\t.list-inline>li {display: inline-block}\n",
       "\t.list-inline>li:not(:last-child)::after {content: \"\\00b7\"; padding: 0 .5ex}\n",
       "\t</style>\n",
       "\t<ol class=list-inline><li>'Entire home/apt'</li><li>'Private room'</li><li>'Shared room'</li></ol>\n",
       "</details>"
      ],
      "text/latex": [
       "\\begin{enumerate*}\n",
       "\\item Private room\n",
       "\\item Entire home/apt\n",
       "\\item Shared room\n",
       "\\end{enumerate*}\n",
       "\n",
       "\\emph{Levels}: \\begin{enumerate*}\n",
       "\\item 'Entire home/apt'\n",
       "\\item 'Private room'\n",
       "\\item 'Shared room'\n",
       "\\end{enumerate*}\n"
      ],
      "text/markdown": [
       "1. Private room\n",
       "2. Entire home/apt\n",
       "3. Shared room\n",
       "\n",
       "\n",
       "\n",
       "**Levels**: 1. 'Entire home/apt'\n",
       "2. 'Private room'\n",
       "3. 'Shared room'\n",
       "\n",
       "\n"
      ],
      "text/plain": [
       "[1] Private room    Entire home/apt Shared room    \n",
       "Levels: Entire home/apt Private room Shared room"
      ]
     },
     "metadata": {},
     "output_type": "display_data"
    },
    {
     "name": "stdout",
     "output_type": "stream",
     "text": [
      "[1] \"Y el numero de entradas por cada tipo es:\"\n"
     ]
    },
    {
     "data": {
      "text/html": [
       "<style>\n",
       ".dl-inline {width: auto; margin:0; padding: 0}\n",
       ".dl-inline>dt, .dl-inline>dd {float: none; width: auto; display: inline-block}\n",
       ".dl-inline>dt::after {content: \":\\0020\"; padding-right: .5ex}\n",
       ".dl-inline>dt:not(:first-of-type) {padding-left: .5ex}\n",
       "</style><dl class=dl-inline><dt>Entire home/apt</dt><dd>7646</dd><dt>Private room</dt><dd>4854</dd><dt>Shared room</dt><dd>173</dd></dl>\n"
      ],
      "text/latex": [
       "\\begin{description*}\n",
       "\\item[Entire home/apt] 7646\n",
       "\\item[Private room] 4854\n",
       "\\item[Shared room] 173\n",
       "\\end{description*}\n"
      ],
      "text/markdown": [
       "Entire home/apt\n",
       ":   7646Private room\n",
       ":   4854Shared room\n",
       ":   173\n",
       "\n"
      ],
      "text/plain": [
       "Entire home/apt    Private room     Shared room \n",
       "           7646            4854             173 "
      ]
     },
     "metadata": {},
     "output_type": "display_data"
    }
   ],
   "source": [
    "TipoAlquiler <- c(airbnbLimpio$TipoAlquiler)  #creo el vector de tipos de alquiler\n",
    "TipoAlquilerFactor <- factor(TipoAlquiler)   #y lo factorizo\n",
    "\n",
    "totalTipoAlquiler <- length(table(TipoAlquilerFactor))     #obtengo el numero total de barrios\n",
    "print(paste(\n",
    "    \"En todo el dataset de airbnb hay\",totalTipoAlquiler,\"tipos distintos de alquiler, y son:\"))     \n",
    "unique(TipoAlquilerFactor)                                 #obtengo los tipos de alquileres\n",
    "\n",
    "print(\"Y el numero de entradas por cada tipo es:\")\n",
    "summary(TipoAlquilerFactor)            #obtengo el numero de entradas por cada tipo de alquiler"
   ]
  },
  {
   "cell_type": "markdown",
   "metadata": {},
   "source": [
    "Muestra el diagrama de cajas del precio para cada uno de los diferentes Tipos de Alquiler"
   ]
  },
  {
   "cell_type": "code",
   "execution_count": 141,
   "metadata": {},
   "outputs": [
    {
     "name": "stderr",
     "output_type": "stream",
     "text": [
      "Installing package into ‘/usr/local/lib/R/site-library’\n",
      "(as ‘lib’ is unspecified)\n",
      "\n"
     ]
    },
    {
     "data": {
      "image/png": "[encoded data removed]",
      "text/plain": [
       "plot without title"
      ]
     },
     "metadata": {
      "image/png": {
       "height": 600,
       "width": 800
      }
     },
     "output_type": "display_data"
    }
   ],
   "source": [
    "install.packages(c('ggplot2'), repos='https://cran.rstudio.com/')  # instalo ggplot\n",
    "library(\"ggplot2\")\n",
    "options(repr.plot.height=6,repr.plot.width=8 , repr.plot.res = 200)\n",
    "\n",
    "ggplot(data = airbnbLimpio, aes(x = TipoAlquiler, y = Precio, color = TipoAlquiler))+\n",
    "        geom_boxplot()+scale_color_discrete(name=\"Longitud\")\n",
    "       "
   ]
  },
  {
   "cell_type": "markdown",
   "metadata": {},
   "source": [
    "Cual es el precio medio de alquiler de cada uno, la diferencia que hay ¿es estadísticamente significativa? ¿Con que test lo comprobarías?"
   ]
  },
  {
   "cell_type": "code",
   "execution_count": 142,
   "metadata": {},
   "outputs": [
    {
     "data": {
      "text/html": [
       "<table class=\"dataframe\">\n",
       "<caption>A data.frame: 3 × 2</caption>\n",
       "<thead>\n",
       "\t<tr><th scope=col>TipoAlquiler</th><th scope=col>PrecioMedio</th></tr>\n",
       "\t<tr><th scope=col>&lt;fct&gt;</th><th scope=col>&lt;dbl&gt;</th></tr>\n",
       "</thead>\n",
       "<tbody>\n",
       "\t<tr><td>Entire home/apt</td><td>87.09260</td></tr>\n",
       "\t<tr><td>Private room   </td><td>34.08776</td></tr>\n",
       "\t<tr><td>Shared room    </td><td>30.95954</td></tr>\n",
       "</tbody>\n",
       "</table>\n"
      ],
      "text/latex": [
       "A data.frame: 3 × 2\n",
       "\\begin{tabular}{ll}\n",
       " TipoAlquiler & PrecioMedio\\\\\n",
       " <fct> & <dbl>\\\\\n",
       "\\hline\n",
       "\t Entire home/apt & 87.09260\\\\\n",
       "\t Private room    & 34.08776\\\\\n",
       "\t Shared room     & 30.95954\\\\\n",
       "\\end{tabular}\n"
      ],
      "text/markdown": [
       "\n",
       "A data.frame: 3 × 2\n",
       "\n",
       "| TipoAlquiler &lt;fct&gt; | PrecioMedio &lt;dbl&gt; |\n",
       "|---|---|\n",
       "| Entire home/apt | 87.09260 |\n",
       "| Private room    | 34.08776 |\n",
       "| Shared room     | 30.95954 |\n",
       "\n"
      ],
      "text/plain": [
       "  TipoAlquiler    PrecioMedio\n",
       "1 Entire home/apt 87.09260   \n",
       "2 Private room    34.08776   \n",
       "3 Shared room     30.95954   "
      ]
     },
     "metadata": {},
     "output_type": "display_data"
    },
    {
     "data": {
      "text/plain": [
       "\n",
       "\tShapiro-Wilk normality test\n",
       "\n",
       "data:  PreciosEntireHome$Precio[0:5000]\n",
       "W = 0.64802, p-value < 2.2e-16\n"
      ]
     },
     "metadata": {},
     "output_type": "display_data"
    },
    {
     "data": {
      "text/plain": [
       "\n",
       "\tShapiro-Wilk normality test\n",
       "\n",
       "data:  PreciosPrivateRoom$Precio[0:5000]\n",
       "W = 0.39333, p-value < 2.2e-16\n"
      ]
     },
     "metadata": {},
     "output_type": "display_data"
    },
    {
     "data": {
      "text/plain": [
       "\n",
       "\tShapiro-Wilk normality test\n",
       "\n",
       "data:  PreciosSharedRoom$Precio[0:5000]\n",
       "W = 0.45298, p-value < 2.2e-16\n"
      ]
     },
     "metadata": {},
     "output_type": "display_data"
    },
    {
     "name": "stderr",
     "output_type": "stream",
     "text": [
      "`stat_bin()` using `bins = 30`. Pick better value with `binwidth`.\n",
      "\n"
     ]
    },
    {
     "data": {
      "text/plain": [
       "\n",
       "\tKruskal-Wallis rank sum test\n",
       "\n",
       "data:  Precio by TipoAlquiler\n",
       "Kruskal-Wallis chi-squared = 6929.3, df = 2, p-value < 2.2e-16\n"
      ]
     },
     "metadata": {},
     "output_type": "display_data"
    },
    {
     "data": {
      "image/png": "[encoded data removed]",
      "text/plain": [
       "plot without title"
      ]
     },
     "metadata": {
      "image/png": {
       "height": 600,
       "width": 800
      }
     },
     "output_type": "display_data"
    }
   ],
   "source": [
    "airbnbLimpio <- airbnbLimpio[!is.na(airbnbLimpio$Precio),]\n",
    "\n",
    "DFTipoAlquiler <- aggregate(airbnbLimpio[ , c(\"Precio\")], by = list (TipoAlquiler = airbnbLimpio$TipoAlquiler), FUN = mean)\n",
    "names (DFTipoAlquiler)[2] <- \"PrecioMedio\"\n",
    "DFTipoAlquiler\n",
    "\n",
    "PreciosEntireHome <- subset(airbnbLimpio, airbnbLimpio$TipoAlquiler == \"Entire home/apt\", select = Precio)  \n",
    "PreciosPrivateRoom <- subset(airbnbLimpio, airbnbLimpio$TipoAlquiler == \"Private room\", select = Precio)\n",
    "PreciosSharedRoom <- subset(airbnbLimpio, airbnbLimpio$TipoAlquiler == \"Shared room\", select = Precio)                          \n",
    "\n",
    "shapiro.test(PreciosEntireHome$Precio[0:5000])   #p-value < 2.2e-16 < 0.05: la distribucion para EntireHome NO es normal                       \n",
    "shapiro.test(PreciosPrivateRoom$Precio[0:5000])   #p-value < 2.2e-16 < 0.05: la distribucion para PrivateRoom NO es normal                         \n",
    "shapiro.test(PreciosSharedRoom$Precio[0:5000])   #p-value < 2.2e-16 < 0.05: la distribucion para PrivateRoom NO es normal                          \n",
    "\n",
    "#Si hubiera salido es que Gaussiana ==> Hubiera hecho ANOVA test Welch\n",
    "#Pero como las tres distribuciones son no Gaussianas paso a Kruskal-Wallis:\n",
    "PreciosPorTipoAlquiler <- airbnbLimpio[ ,c(\"TipoAlquiler\", \"Precio\")] #Subset de precios por tipo de alojamiento\n",
    "PreciosPorTipoAlquiler <- PreciosPorTipoAlquiler[!is.na(PreciosPorTipoAlquiler$Precio), ]   #Excluyo los que Precio = NA\n",
    "\n",
    "#Compruebo visulamente o graficamente que no estamos en distribuciones Gaussianas:\n",
    "ggplot(data = PreciosPorTipoAlquiler, mapping = aes(x = Precio, colour = TipoAlquiler)) +\n",
    "    geom_histogram() +\n",
    "    facet_grid(. ~ TipoAlquiler) +\n",
    "    theme(legend.position = \"none\")\n",
    "\n",
    "#Paso el test de Krustal-Wallis\n",
    "kruskal.test(Precio ~ TipoAlquiler, data = PreciosPorTipoAlquiler)\n",
    "\n",
    "#Obtengo que Kruskal-Wallis chi-squared = 6929.3, df = 2, p-value < 2.2e-16 que al ser menor que 0.05 implica \n",
    "#que se puede rechar la hipotesis nula, o dicho de otro modo, que la mediana de precio es estadísticamente distinta\n",
    "#dependiendo del tipo de alquiler (lo cual es intuitivamente esperable por otro lado).\n"
   ]
  },
  {
   "cell_type": "markdown",
   "metadata": {},
   "source": [
    "Filtra el dataframe cuyos tipo de alquiler sea  'Entire home/apt' y guardalo en un dataframe llamado \n",
    "*airbnb_entire*.\n",
    "Estas serán las entradas que tienen un alquiler del piso completo."
   ]
  },
  {
   "cell_type": "code",
   "execution_count": 145,
   "metadata": {},
   "outputs": [],
   "source": [
    "airbnb_entire <- filter(airbnbLimpio, TipoAlquiler == \"Entire home/apt\")"
   ]
  },
  {
   "cell_type": "markdown",
   "metadata": {},
   "source": [
    "¿Cuales son los 5 barrios que tienen un mayor número de apartamentos enteros en alquiler?\n",
    "Nota: Mirar solo en airbnb_entire. A partir de este punto y hasta que se diga lo contrario partiremos de airbnb_entire."
   ]
  },
  {
   "cell_type": "code",
   "execution_count": 74,
   "metadata": {},
   "outputs": [
    {
     "data": {
      "text/html": [
       "'Los 5 barrios con más entradas para el tipo de alquiler Entire home/apt son: '"
      ],
      "text/latex": [
       "'Los 5 barrios con más entradas para el tipo de alquiler Entire home/apt son: '"
      ],
      "text/markdown": [
       "'Los 5 barrios con más entradas para el tipo de alquiler Entire home/apt son: '"
      ],
      "text/plain": [
       "[1] \"Los 5 barrios con más entradas para el tipo de alquiler Entire home/apt son: \""
      ]
     },
     "metadata": {},
     "output_type": "display_data"
    },
    {
     "name": "stdout",
     "output_type": "stream",
     "text": [
      "BarriosEntireFactor\n",
      "Embajadores Universidad     Palacio         Sol      Cortes \n",
      "       1197         958         753         685         556 \n"
     ]
    }
   ],
   "source": [
    "BarriosEntire <- c(airbnb_entire$Barrio)  #creo el vector de barrios para el dataset airbnb_entire\n",
    "BarriosEntireFactor <- factor(BarriosEntire)          #lo factorizo\n",
    "\n",
    "\n",
    "\"Los 5 barrios con más entradas para el tipo de alquiler Entire home/apt son: \"\n",
    "print(sort(table(BarriosEntireFactor), decreasing=T)[1:5])\n"
   ]
  },
  {
   "cell_type": "markdown",
   "metadata": {},
   "source": [
    "¿Cuales son los 5 barrios que tienen un mayor precio medio de alquiler para apartamentos enteros (es decir, del dataframe airbnb_entire)?\n",
    "\n",
    "¿Cual es su precio medio?\n",
    "\n",
    "Ayuda: Usa la función aggregate `aggregate(.~colname,df,mean,na.rm=TRUE)`"
   ]
  },
  {
   "cell_type": "code",
   "execution_count": 75,
   "metadata": {},
   "outputs": [
    {
     "data": {
      "text/html": [
       "<table class=\"dataframe\">\n",
       "<caption>A data.frame: 5 × 2</caption>\n",
       "<thead>\n",
       "\t<tr><th></th><th scope=col>Barrio</th><th scope=col>PrecioMedio</th></tr>\n",
       "\t<tr><th></th><th scope=col>&lt;fct&gt;</th><th scope=col>&lt;dbl&gt;</th></tr>\n",
       "</thead>\n",
       "<tbody>\n",
       "\t<tr><th scope=row>77</th><td>Palomas                   </td><td>309.7500</td></tr>\n",
       "\t<tr><th scope=row>50</th><td>Fuentelareina             </td><td>180.0000</td></tr>\n",
       "\t<tr><th scope=row>92</th><td>Recoletos                 </td><td>158.8968</td></tr>\n",
       "\t<tr><th scope=row>43</th><td>El Plantío                </td><td>150.0000</td></tr>\n",
       "\t<tr><th scope=row>27</th><td>Casco Histórico de Barajas</td><td>141.2500</td></tr>\n",
       "</tbody>\n",
       "</table>\n"
      ],
      "text/latex": [
       "A data.frame: 5 × 2\n",
       "\\begin{tabular}{r|ll}\n",
       "  & Barrio & PrecioMedio\\\\\n",
       "  & <fct> & <dbl>\\\\\n",
       "\\hline\n",
       "\t77 & Palomas                    & 309.7500\\\\\n",
       "\t50 & Fuentelareina              & 180.0000\\\\\n",
       "\t92 & Recoletos                  & 158.8968\\\\\n",
       "\t43 & El Plantío                 & 150.0000\\\\\n",
       "\t27 & Casco Histórico de Barajas & 141.2500\\\\\n",
       "\\end{tabular}\n"
      ],
      "text/markdown": [
       "\n",
       "A data.frame: 5 × 2\n",
       "\n",
       "| <!--/--> | Barrio &lt;fct&gt; | PrecioMedio &lt;dbl&gt; |\n",
       "|---|---|---|\n",
       "| 77 | Palomas                    | 309.7500 |\n",
       "| 50 | Fuentelareina              | 180.0000 |\n",
       "| 92 | Recoletos                  | 158.8968 |\n",
       "| 43 | El Plantío                 | 150.0000 |\n",
       "| 27 | Casco Histórico de Barajas | 141.2500 |\n",
       "\n"
      ],
      "text/plain": [
       "   Barrio                     PrecioMedio\n",
       "77 Palomas                    309.7500   \n",
       "50 Fuentelareina              180.0000   \n",
       "92 Recoletos                  158.8968   \n",
       "43 El Plantío                 150.0000   \n",
       "27 Casco Histórico de Barajas 141.2500   "
      ]
     },
     "metadata": {},
     "output_type": "display_data"
    }
   ],
   "source": [
    "EntirePvpMedio <- aggregate(airbnb_entire[,c(\"Precio\")],by = list(Barrio = airbnb_entire$Barrio), FUN = mean) #agrego por Barrio\n",
    "names (EntirePvpMedio)[2] <- \"PrecioMedio\"  #cambio nombre de la columna que muesra el precio medio\n",
    "\n",
    "EntirePvpMedio <- EntirePvpMedio[with(EntirePvpMedio, order(-PrecioMedio)), ]  #ordeno EntirePvpMedio por PrecioMedio\n",
    "EntirePvpMedio[1:5, ]   #imprimo los 5 primeros"
   ]
  },
  {
   "cell_type": "markdown",
   "metadata": {},
   "source": [
    "¿Cuantos apartamentos hay en cada uno de esos barrios?\n",
    "\n",
    "Mostrar una dataframe con el nombre del barrio, el precio y el número de entradas.\n",
    "\n",
    "Ayuda: Podeis crear un nuevo dataframe con las columnas \"Barrio\" y \"Freq\" que contenga el número de entradas en cada barrio y hacer un merge con el dataframe del punto anterior."
   ]
  },
  {
   "cell_type": "code",
   "execution_count": 76,
   "metadata": {},
   "outputs": [
    {
     "data": {
      "text/html": [
       "<table class=\"dataframe\">\n",
       "<caption>A data.frame: 118 × 3</caption>\n",
       "<thead>\n",
       "\t<tr><th scope=col>Barrio</th><th scope=col>PrecioMedio</th><th scope=col>NumeroEntradas</th></tr>\n",
       "\t<tr><th scope=col>&lt;fct&gt;</th><th scope=col>&lt;dbl&gt;</th><th scope=col>&lt;int&gt;</th></tr>\n",
       "</thead>\n",
       "<tbody>\n",
       "\t<tr><td>Abrantes                    </td><td> 46.00000</td><td>  3</td></tr>\n",
       "\t<tr><td>Acacias                     </td><td> 68.76271</td><td> 59</td></tr>\n",
       "\t<tr><td>Adelfas                     </td><td> 69.56250</td><td> 32</td></tr>\n",
       "\t<tr><td>Aeropuerto                  </td><td> 38.00000</td><td>  2</td></tr>\n",
       "\t<tr><td>Aguilas                     </td><td> 54.50000</td><td>  2</td></tr>\n",
       "\t<tr><td>Alameda de Osuna            </td><td>138.75000</td><td>  4</td></tr>\n",
       "\t<tr><td>Almagro                     </td><td>109.58065</td><td> 93</td></tr>\n",
       "\t<tr><td>Almenara                    </td><td> 66.60870</td><td> 23</td></tr>\n",
       "\t<tr><td>Almendrales                 </td><td> 65.00000</td><td> 17</td></tr>\n",
       "\t<tr><td>Aluche                      </td><td> 55.37500</td><td>  8</td></tr>\n",
       "\t<tr><td>Ambroz                      </td><td> 34.50000</td><td>  2</td></tr>\n",
       "\t<tr><td>Apostol Santiago            </td><td> 96.60000</td><td>  5</td></tr>\n",
       "\t<tr><td>Arapiles                    </td><td> 69.11579</td><td> 95</td></tr>\n",
       "\t<tr><td>Aravaca                     </td><td> 66.33333</td><td>  9</td></tr>\n",
       "\t<tr><td>Arcos                       </td><td>100.50000</td><td>  4</td></tr>\n",
       "\t<tr><td>Argüelles                   </td><td> 89.53285</td><td>137</td></tr>\n",
       "\t<tr><td>Atocha                      </td><td> 75.00000</td><td>  7</td></tr>\n",
       "\t<tr><td>Bellas Vistas               </td><td> 51.77778</td><td> 45</td></tr>\n",
       "\t<tr><td>Berruguete                  </td><td> 53.78788</td><td> 33</td></tr>\n",
       "\t<tr><td>Buenavista                  </td><td> 60.90909</td><td> 11</td></tr>\n",
       "\t<tr><td>Butarque                    </td><td> 42.00000</td><td>  1</td></tr>\n",
       "\t<tr><td>Campamento                  </td><td> 45.55556</td><td>  9</td></tr>\n",
       "\t<tr><td>Canillas                    </td><td>105.80000</td><td> 15</td></tr>\n",
       "\t<tr><td>Canillejas                  </td><td> 91.66667</td><td>  3</td></tr>\n",
       "\t<tr><td>Cármenes                    </td><td> 78.00000</td><td>  8</td></tr>\n",
       "\t<tr><td>Casa de Campo               </td><td> 98.85366</td><td> 41</td></tr>\n",
       "\t<tr><td>Casco Histórico de Barajas  </td><td>141.25000</td><td>  8</td></tr>\n",
       "\t<tr><td>Casco Histórico de Vallecas </td><td> 63.23529</td><td> 17</td></tr>\n",
       "\t<tr><td>Casco Histórico de Vicálvaro</td><td> 73.87500</td><td>  8</td></tr>\n",
       "\t<tr><td>Castellana                  </td><td>141.09231</td><td> 65</td></tr>\n",
       "\t<tr><td>⋮</td><td>⋮</td><td>⋮</td></tr>\n",
       "\t<tr><td>Puerta Bonita    </td><td> 91.53846</td><td> 13</td></tr>\n",
       "\t<tr><td>Puerta del Angel </td><td> 59.53947</td><td> 76</td></tr>\n",
       "\t<tr><td>Quintana         </td><td> 65.00000</td><td> 17</td></tr>\n",
       "\t<tr><td>Recoletos        </td><td>158.89683</td><td>126</td></tr>\n",
       "\t<tr><td>Rejas            </td><td> 64.18182</td><td> 11</td></tr>\n",
       "\t<tr><td>Rios Rosas       </td><td> 82.78571</td><td> 56</td></tr>\n",
       "\t<tr><td>Salvador         </td><td> 65.50000</td><td>  4</td></tr>\n",
       "\t<tr><td>San Andrés       </td><td> 50.91667</td><td> 12</td></tr>\n",
       "\t<tr><td>San Cristobal    </td><td> 56.50000</td><td>  2</td></tr>\n",
       "\t<tr><td>San Diego        </td><td> 44.96667</td><td> 30</td></tr>\n",
       "\t<tr><td>San Fermín       </td><td> 63.50000</td><td>  8</td></tr>\n",
       "\t<tr><td>San Isidro       </td><td> 77.31579</td><td> 38</td></tr>\n",
       "\t<tr><td>San Juan Bautista</td><td> 75.53846</td><td> 13</td></tr>\n",
       "\t<tr><td>San Pascual      </td><td> 57.40000</td><td>  5</td></tr>\n",
       "\t<tr><td>Santa Eugenia    </td><td> 47.00000</td><td>  2</td></tr>\n",
       "\t<tr><td>Simancas         </td><td> 56.25000</td><td> 20</td></tr>\n",
       "\t<tr><td>Sol              </td><td>100.60584</td><td>685</td></tr>\n",
       "\t<tr><td>Timón            </td><td> 72.20000</td><td>  5</td></tr>\n",
       "\t<tr><td>Trafalgar        </td><td> 98.86977</td><td>215</td></tr>\n",
       "\t<tr><td>Universidad      </td><td> 79.05428</td><td>958</td></tr>\n",
       "\t<tr><td>Valdeacederas    </td><td> 61.91304</td><td> 23</td></tr>\n",
       "\t<tr><td>Valdefuentes     </td><td> 84.25000</td><td> 24</td></tr>\n",
       "\t<tr><td>Valdemarín       </td><td> 70.50000</td><td>  2</td></tr>\n",
       "\t<tr><td>Valdezarza       </td><td> 53.33333</td><td>  3</td></tr>\n",
       "\t<tr><td>Vallehermoso     </td><td> 94.18750</td><td> 32</td></tr>\n",
       "\t<tr><td>Valverde         </td><td> 71.57895</td><td> 19</td></tr>\n",
       "\t<tr><td>Ventas           </td><td> 50.08000</td><td> 25</td></tr>\n",
       "\t<tr><td>Vinateros        </td><td>102.50000</td><td>  2</td></tr>\n",
       "\t<tr><td>Vista Alegre     </td><td> 60.80000</td><td> 20</td></tr>\n",
       "\t<tr><td>Zofío            </td><td> 48.00000</td><td>  4</td></tr>\n",
       "</tbody>\n",
       "</table>\n"
      ],
      "text/latex": [
       "A data.frame: 118 × 3\n",
       "\\begin{tabular}{lll}\n",
       " Barrio & PrecioMedio & NumeroEntradas\\\\\n",
       " <fct> & <dbl> & <int>\\\\\n",
       "\\hline\n",
       "\t Abrantes                     &  46.00000 &   3\\\\\n",
       "\t Acacias                      &  68.76271 &  59\\\\\n",
       "\t Adelfas                      &  69.56250 &  32\\\\\n",
       "\t Aeropuerto                   &  38.00000 &   2\\\\\n",
       "\t Aguilas                      &  54.50000 &   2\\\\\n",
       "\t Alameda de Osuna             & 138.75000 &   4\\\\\n",
       "\t Almagro                      & 109.58065 &  93\\\\\n",
       "\t Almenara                     &  66.60870 &  23\\\\\n",
       "\t Almendrales                  &  65.00000 &  17\\\\\n",
       "\t Aluche                       &  55.37500 &   8\\\\\n",
       "\t Ambroz                       &  34.50000 &   2\\\\\n",
       "\t Apostol Santiago             &  96.60000 &   5\\\\\n",
       "\t Arapiles                     &  69.11579 &  95\\\\\n",
       "\t Aravaca                      &  66.33333 &   9\\\\\n",
       "\t Arcos                        & 100.50000 &   4\\\\\n",
       "\t Argüelles                    &  89.53285 & 137\\\\\n",
       "\t Atocha                       &  75.00000 &   7\\\\\n",
       "\t Bellas Vistas                &  51.77778 &  45\\\\\n",
       "\t Berruguete                   &  53.78788 &  33\\\\\n",
       "\t Buenavista                   &  60.90909 &  11\\\\\n",
       "\t Butarque                     &  42.00000 &   1\\\\\n",
       "\t Campamento                   &  45.55556 &   9\\\\\n",
       "\t Canillas                     & 105.80000 &  15\\\\\n",
       "\t Canillejas                   &  91.66667 &   3\\\\\n",
       "\t Cármenes                     &  78.00000 &   8\\\\\n",
       "\t Casa de Campo                &  98.85366 &  41\\\\\n",
       "\t Casco Histórico de Barajas   & 141.25000 &   8\\\\\n",
       "\t Casco Histórico de Vallecas  &  63.23529 &  17\\\\\n",
       "\t Casco Histórico de Vicálvaro &  73.87500 &   8\\\\\n",
       "\t Castellana                   & 141.09231 &  65\\\\\n",
       "\t ⋮ & ⋮ & ⋮\\\\\n",
       "\t Puerta Bonita     &  91.53846 &  13\\\\\n",
       "\t Puerta del Angel  &  59.53947 &  76\\\\\n",
       "\t Quintana          &  65.00000 &  17\\\\\n",
       "\t Recoletos         & 158.89683 & 126\\\\\n",
       "\t Rejas             &  64.18182 &  11\\\\\n",
       "\t Rios Rosas        &  82.78571 &  56\\\\\n",
       "\t Salvador          &  65.50000 &   4\\\\\n",
       "\t San Andrés        &  50.91667 &  12\\\\\n",
       "\t San Cristobal     &  56.50000 &   2\\\\\n",
       "\t San Diego         &  44.96667 &  30\\\\\n",
       "\t San Fermín        &  63.50000 &   8\\\\\n",
       "\t San Isidro        &  77.31579 &  38\\\\\n",
       "\t San Juan Bautista &  75.53846 &  13\\\\\n",
       "\t San Pascual       &  57.40000 &   5\\\\\n",
       "\t Santa Eugenia     &  47.00000 &   2\\\\\n",
       "\t Simancas          &  56.25000 &  20\\\\\n",
       "\t Sol               & 100.60584 & 685\\\\\n",
       "\t Timón             &  72.20000 &   5\\\\\n",
       "\t Trafalgar         &  98.86977 & 215\\\\\n",
       "\t Universidad       &  79.05428 & 958\\\\\n",
       "\t Valdeacederas     &  61.91304 &  23\\\\\n",
       "\t Valdefuentes      &  84.25000 &  24\\\\\n",
       "\t Valdemarín        &  70.50000 &   2\\\\\n",
       "\t Valdezarza        &  53.33333 &   3\\\\\n",
       "\t Vallehermoso      &  94.18750 &  32\\\\\n",
       "\t Valverde          &  71.57895 &  19\\\\\n",
       "\t Ventas            &  50.08000 &  25\\\\\n",
       "\t Vinateros         & 102.50000 &   2\\\\\n",
       "\t Vista Alegre      &  60.80000 &  20\\\\\n",
       "\t Zofío             &  48.00000 &   4\\\\\n",
       "\\end{tabular}\n"
      ],
      "text/markdown": [
       "\n",
       "A data.frame: 118 × 3\n",
       "\n",
       "| Barrio &lt;fct&gt; | PrecioMedio &lt;dbl&gt; | NumeroEntradas &lt;int&gt; |\n",
       "|---|---|---|\n",
       "| Abrantes                     |  46.00000 |   3 |\n",
       "| Acacias                      |  68.76271 |  59 |\n",
       "| Adelfas                      |  69.56250 |  32 |\n",
       "| Aeropuerto                   |  38.00000 |   2 |\n",
       "| Aguilas                      |  54.50000 |   2 |\n",
       "| Alameda de Osuna             | 138.75000 |   4 |\n",
       "| Almagro                      | 109.58065 |  93 |\n",
       "| Almenara                     |  66.60870 |  23 |\n",
       "| Almendrales                  |  65.00000 |  17 |\n",
       "| Aluche                       |  55.37500 |   8 |\n",
       "| Ambroz                       |  34.50000 |   2 |\n",
       "| Apostol Santiago             |  96.60000 |   5 |\n",
       "| Arapiles                     |  69.11579 |  95 |\n",
       "| Aravaca                      |  66.33333 |   9 |\n",
       "| Arcos                        | 100.50000 |   4 |\n",
       "| Argüelles                    |  89.53285 | 137 |\n",
       "| Atocha                       |  75.00000 |   7 |\n",
       "| Bellas Vistas                |  51.77778 |  45 |\n",
       "| Berruguete                   |  53.78788 |  33 |\n",
       "| Buenavista                   |  60.90909 |  11 |\n",
       "| Butarque                     |  42.00000 |   1 |\n",
       "| Campamento                   |  45.55556 |   9 |\n",
       "| Canillas                     | 105.80000 |  15 |\n",
       "| Canillejas                   |  91.66667 |   3 |\n",
       "| Cármenes                     |  78.00000 |   8 |\n",
       "| Casa de Campo                |  98.85366 |  41 |\n",
       "| Casco Histórico de Barajas   | 141.25000 |   8 |\n",
       "| Casco Histórico de Vallecas  |  63.23529 |  17 |\n",
       "| Casco Histórico de Vicálvaro |  73.87500 |   8 |\n",
       "| Castellana                   | 141.09231 |  65 |\n",
       "| ⋮ | ⋮ | ⋮ |\n",
       "| Puerta Bonita     |  91.53846 |  13 |\n",
       "| Puerta del Angel  |  59.53947 |  76 |\n",
       "| Quintana          |  65.00000 |  17 |\n",
       "| Recoletos         | 158.89683 | 126 |\n",
       "| Rejas             |  64.18182 |  11 |\n",
       "| Rios Rosas        |  82.78571 |  56 |\n",
       "| Salvador          |  65.50000 |   4 |\n",
       "| San Andrés        |  50.91667 |  12 |\n",
       "| San Cristobal     |  56.50000 |   2 |\n",
       "| San Diego         |  44.96667 |  30 |\n",
       "| San Fermín        |  63.50000 |   8 |\n",
       "| San Isidro        |  77.31579 |  38 |\n",
       "| San Juan Bautista |  75.53846 |  13 |\n",
       "| San Pascual       |  57.40000 |   5 |\n",
       "| Santa Eugenia     |  47.00000 |   2 |\n",
       "| Simancas          |  56.25000 |  20 |\n",
       "| Sol               | 100.60584 | 685 |\n",
       "| Timón             |  72.20000 |   5 |\n",
       "| Trafalgar         |  98.86977 | 215 |\n",
       "| Universidad       |  79.05428 | 958 |\n",
       "| Valdeacederas     |  61.91304 |  23 |\n",
       "| Valdefuentes      |  84.25000 |  24 |\n",
       "| Valdemarín        |  70.50000 |   2 |\n",
       "| Valdezarza        |  53.33333 |   3 |\n",
       "| Vallehermoso      |  94.18750 |  32 |\n",
       "| Valverde          |  71.57895 |  19 |\n",
       "| Ventas            |  50.08000 |  25 |\n",
       "| Vinateros         | 102.50000 |   2 |\n",
       "| Vista Alegre      |  60.80000 |  20 |\n",
       "| Zofío             |  48.00000 |   4 |\n",
       "\n"
      ],
      "text/plain": [
       "    Barrio                       PrecioMedio NumeroEntradas\n",
       "1   Abrantes                      46.00000     3           \n",
       "2   Acacias                       68.76271    59           \n",
       "3   Adelfas                       69.56250    32           \n",
       "4   Aeropuerto                    38.00000     2           \n",
       "5   Aguilas                       54.50000     2           \n",
       "6   Alameda de Osuna             138.75000     4           \n",
       "7   Almagro                      109.58065    93           \n",
       "8   Almenara                      66.60870    23           \n",
       "9   Almendrales                   65.00000    17           \n",
       "10  Aluche                        55.37500     8           \n",
       "11  Ambroz                        34.50000     2           \n",
       "12  Apostol Santiago              96.60000     5           \n",
       "13  Arapiles                      69.11579    95           \n",
       "14  Aravaca                       66.33333     9           \n",
       "15  Arcos                        100.50000     4           \n",
       "16  Argüelles                     89.53285   137           \n",
       "17  Atocha                        75.00000     7           \n",
       "18  Bellas Vistas                 51.77778    45           \n",
       "19  Berruguete                    53.78788    33           \n",
       "20  Buenavista                    60.90909    11           \n",
       "21  Butarque                      42.00000     1           \n",
       "22  Campamento                    45.55556     9           \n",
       "23  Canillas                     105.80000    15           \n",
       "24  Canillejas                    91.66667     3           \n",
       "25  Cármenes                      78.00000     8           \n",
       "26  Casa de Campo                 98.85366    41           \n",
       "27  Casco Histórico de Barajas   141.25000     8           \n",
       "28  Casco Histórico de Vallecas   63.23529    17           \n",
       "29  Casco Histórico de Vicálvaro  73.87500     8           \n",
       "30  Castellana                   141.09231    65           \n",
       "⋮   ⋮                            ⋮           ⋮             \n",
       "89  Puerta Bonita                 91.53846    13           \n",
       "90  Puerta del Angel              59.53947    76           \n",
       "91  Quintana                      65.00000    17           \n",
       "92  Recoletos                    158.89683   126           \n",
       "93  Rejas                         64.18182    11           \n",
       "94  Rios Rosas                    82.78571    56           \n",
       "95  Salvador                      65.50000     4           \n",
       "96  San Andrés                    50.91667    12           \n",
       "97  San Cristobal                 56.50000     2           \n",
       "98  San Diego                     44.96667    30           \n",
       "99  San Fermín                    63.50000     8           \n",
       "100 San Isidro                    77.31579    38           \n",
       "101 San Juan Bautista             75.53846    13           \n",
       "102 San Pascual                   57.40000     5           \n",
       "103 Santa Eugenia                 47.00000     2           \n",
       "104 Simancas                      56.25000    20           \n",
       "105 Sol                          100.60584   685           \n",
       "106 Timón                         72.20000     5           \n",
       "107 Trafalgar                     98.86977   215           \n",
       "108 Universidad                   79.05428   958           \n",
       "109 Valdeacederas                 61.91304    23           \n",
       "110 Valdefuentes                  84.25000    24           \n",
       "111 Valdemarín                    70.50000     2           \n",
       "112 Valdezarza                    53.33333     3           \n",
       "113 Vallehermoso                  94.18750    32           \n",
       "114 Valverde                      71.57895    19           \n",
       "115 Ventas                        50.08000    25           \n",
       "116 Vinateros                    102.50000     2           \n",
       "117 Vista Alegre                  60.80000    20           \n",
       "118 Zofío                         48.00000     4           "
      ]
     },
     "metadata": {},
     "output_type": "display_data"
    }
   ],
   "source": [
    "EntireRecuentoPorBarrios <- airbnb_entire%>% count (Barrio)   #Recuento del numero de entradas por barrio \n",
    "names (EntireRecuentoPorBarrios)[2] <- \"NumeroEntradas\"     #cambio nombre de la columna que muesra el numero de entradas\n",
    "\n",
    "EntireBarrioFreq <- merge(EntirePvpMedio, EntireRecuentoPorBarrios, all = TRUE)\n",
    "EntireBarrioFreq\n"
   ]
  },
  {
   "cell_type": "markdown",
   "metadata": {},
   "source": [
    "Partiendo del dataframe anterior, muestra los 5 barrios con mayor precio, pero que tengan más de 100 entradas de alquiler."
   ]
  },
  {
   "cell_type": "code",
   "execution_count": 77,
   "metadata": {},
   "outputs": [
    {
     "data": {
      "text/html": [
       "<table class=\"dataframe\">\n",
       "<caption>A data.frame: 5 × 3</caption>\n",
       "<thead>\n",
       "\t<tr><th></th><th scope=col>Barrio</th><th scope=col>PrecioMedio</th><th scope=col>NumeroEntradas</th></tr>\n",
       "\t<tr><th></th><th scope=col>&lt;fct&gt;</th><th scope=col>&lt;dbl&gt;</th><th scope=col>&lt;int&gt;</th></tr>\n",
       "</thead>\n",
       "<tbody>\n",
       "\t<tr><th scope=row>8</th><td>Recoletos</td><td>158.89683</td><td>126</td></tr>\n",
       "\t<tr><th scope=row>4</th><td>Goya     </td><td>109.98540</td><td>137</td></tr>\n",
       "\t<tr><th scope=row>9</th><td>Sol      </td><td>100.60584</td><td>685</td></tr>\n",
       "\t<tr><th scope=row>10</th><td>Trafalgar</td><td> 98.86977</td><td>215</td></tr>\n",
       "\t<tr><th scope=row>5</th><td>Justicia </td><td> 98.69439</td><td>517</td></tr>\n",
       "</tbody>\n",
       "</table>\n"
      ],
      "text/latex": [
       "A data.frame: 5 × 3\n",
       "\\begin{tabular}{r|lll}\n",
       "  & Barrio & PrecioMedio & NumeroEntradas\\\\\n",
       "  & <fct> & <dbl> & <int>\\\\\n",
       "\\hline\n",
       "\t8 & Recoletos & 158.89683 & 126\\\\\n",
       "\t4 & Goya      & 109.98540 & 137\\\\\n",
       "\t9 & Sol       & 100.60584 & 685\\\\\n",
       "\t10 & Trafalgar &  98.86977 & 215\\\\\n",
       "\t5 & Justicia  &  98.69439 & 517\\\\\n",
       "\\end{tabular}\n"
      ],
      "text/markdown": [
       "\n",
       "A data.frame: 5 × 3\n",
       "\n",
       "| <!--/--> | Barrio &lt;fct&gt; | PrecioMedio &lt;dbl&gt; | NumeroEntradas &lt;int&gt; |\n",
       "|---|---|---|---|\n",
       "| 8 | Recoletos | 158.89683 | 126 |\n",
       "| 4 | Goya      | 109.98540 | 137 |\n",
       "| 9 | Sol       | 100.60584 | 685 |\n",
       "| 10 | Trafalgar |  98.86977 | 215 |\n",
       "| 5 | Justicia  |  98.69439 | 517 |\n",
       "\n"
      ],
      "text/plain": [
       "   Barrio    PrecioMedio NumeroEntradas\n",
       "8  Recoletos 158.89683   126           \n",
       "4  Goya      109.98540   137           \n",
       "9  Sol       100.60584   685           \n",
       "10 Trafalgar  98.86977   215           \n",
       "5  Justicia   98.69439   517           "
      ]
     },
     "metadata": {},
     "output_type": "display_data"
    }
   ],
   "source": [
    "EntireBarrioFreq100 <- filter(EntireBarrioFreq, NumeroEntradas > 100)\n",
    "\n",
    "EntireBarrioFreq100 <- EntireBarrioFreq100[with(EntireBarrioFreq100, order(-PrecioMedio)), ]\n",
    "\n",
    "EntireBarrioFreq100 [1:5, ]"
   ]
  },
  {
   "cell_type": "markdown",
   "metadata": {},
   "source": [
    "Dibuja el diagrama de densidad de distribución de los diferentes precios. Serían 5 gráficas, una por cada barrio."
   ]
  },
  {
   "cell_type": "code",
   "execution_count": 78,
   "metadata": {},
   "outputs": [
    {
     "data": {
      "image/png": "[encoded data removed]",
      "text/plain": [
       "plot without title"
      ]
     },
     "metadata": {
      "image/png": {
       "height": 600,
       "width": 800
      }
     },
     "output_type": "display_data"
    }
   ],
   "source": [
    "CincoBarrios <- EntireBarrioFreq100[(1:5) ,\"Barrio\"]   #Vector con los 5 barrios en cuestión\n",
    "\n",
    "AirbnbCincoBarrios <- airbnb_entire %>% filter(Barrio %in% CincoBarrios) #Creo df a partir de airbnb_entire filtrnado por CioncoBarrios\n",
    "\n",
    "AirbnbCincoBarriosPrecios <- AirbnbCincoBarrios[ , c(\"Barrio\", \"Precio\")]  #Subset de precios por barrio (de los 5 barrios)\n",
    "\n",
    "#Dibujo el diagrama de densidad de distribución\n",
    "\n",
    "ggplot(data = AirbnbCincoBarriosPrecios, mapping = aes(x = Precio, colour = Barrio))  + geom_density()\n",
    "\n"
   ]
  },
  {
   "cell_type": "markdown",
   "metadata": {},
   "source": [
    "Calcula el tamaño medio, en metros cuadrados, para los 5 barrios anteriores y muestralo en el mismo dataframe junto con el precio y número de entradas"
   ]
  },
  {
   "cell_type": "code",
   "execution_count": 79,
   "metadata": {},
   "outputs": [
    {
     "data": {
      "text/html": [
       "<style>\n",
       ".dl-inline {width: auto; margin:0; padding: 0}\n",
       ".dl-inline>dt, .dl-inline>dd {float: none; width: auto; display: inline-block}\n",
       ".dl-inline>dt::after {content: \":\\0020\"; padding-right: .5ex}\n",
       ".dl-inline>dt:not(:first-of-type) {padding-left: .5ex}\n",
       "</style><dl class=dl-inline><dt>CodigoPostal</dt><dd>0</dd><dt>Barrio</dt><dd>0</dd><dt>TipoPropiedad</dt><dd>0</dd><dt>TipoAlquiler</dt><dd>0</dd><dt>MaxOcupantes</dt><dd>0</dd><dt>NumBanyos</dt><dd>14</dd><dt>NumDormitorios</dt><dd>8</dd><dt>NumCamas</dt><dd>9</dd><dt>TipoCama</dt><dd>0</dd><dt>Comodidades</dt><dd>0</dd><dt>PiesCuadrados</dt><dd>7295</dd><dt>Precio</dt><dd>0</dd><dt>Puntuacion</dt><dd>1198</dd><dt>MetrosCuadrados</dt><dd>7295</dd></dl>\n"
      ],
      "text/latex": [
       "\\begin{description*}\n",
       "\\item[CodigoPostal] 0\n",
       "\\item[Barrio] 0\n",
       "\\item[TipoPropiedad] 0\n",
       "\\item[TipoAlquiler] 0\n",
       "\\item[MaxOcupantes] 0\n",
       "\\item[NumBanyos] 14\n",
       "\\item[NumDormitorios] 8\n",
       "\\item[NumCamas] 9\n",
       "\\item[TipoCama] 0\n",
       "\\item[Comodidades] 0\n",
       "\\item[PiesCuadrados] 7295\n",
       "\\item[Precio] 0\n",
       "\\item[Puntuacion] 1198\n",
       "\\item[MetrosCuadrados] 7295\n",
       "\\end{description*}\n"
      ],
      "text/markdown": [
       "CodigoPostal\n",
       ":   0Barrio\n",
       ":   0TipoPropiedad\n",
       ":   0TipoAlquiler\n",
       ":   0MaxOcupantes\n",
       ":   0NumBanyos\n",
       ":   14NumDormitorios\n",
       ":   8NumCamas\n",
       ":   9TipoCama\n",
       ":   0Comodidades\n",
       ":   0PiesCuadrados\n",
       ":   7295Precio\n",
       ":   0Puntuacion\n",
       ":   1198MetrosCuadrados\n",
       ":   7295\n",
       "\n"
      ],
      "text/plain": [
       "   CodigoPostal          Barrio   TipoPropiedad    TipoAlquiler    MaxOcupantes \n",
       "              0               0               0               0               0 \n",
       "      NumBanyos  NumDormitorios        NumCamas        TipoCama     Comodidades \n",
       "             14               8               9               0               0 \n",
       "  PiesCuadrados          Precio      Puntuacion MetrosCuadrados \n",
       "           7295               0            1198            7295 "
      ]
     },
     "metadata": {},
     "output_type": "display_data"
    },
    {
     "data": {
      "text/html": [
       "<table class=\"dataframe\">\n",
       "<caption>A data.frame: 5 × 4</caption>\n",
       "<thead>\n",
       "\t<tr><th></th><th scope=col>Barrio</th><th scope=col>SuperficieMedia</th><th scope=col>PrecioMedio</th><th scope=col>NumeroEntradas</th></tr>\n",
       "\t<tr><th></th><th scope=col>&lt;fct&gt;</th><th scope=col>&lt;dbl&gt;</th><th scope=col>&lt;dbl&gt;</th><th scope=col>&lt;int&gt;</th></tr>\n",
       "</thead>\n",
       "<tbody>\n",
       "\t<tr><th scope=row>8</th><td>Recoletos</td><td>26.66316</td><td>158.89683</td><td>126</td></tr>\n",
       "\t<tr><th scope=row>4</th><td>Goya     </td><td>51.68504</td><td>109.98540</td><td>137</td></tr>\n",
       "\t<tr><th scope=row>9</th><td>Sol      </td><td>44.35567</td><td>100.60584</td><td>685</td></tr>\n",
       "\t<tr><th scope=row>10</th><td>Trafalgar</td><td>29.30426</td><td> 98.86977</td><td>215</td></tr>\n",
       "\t<tr><th scope=row>5</th><td>Justicia </td><td>28.52669</td><td> 98.69439</td><td>517</td></tr>\n",
       "</tbody>\n",
       "</table>\n"
      ],
      "text/latex": [
       "A data.frame: 5 × 4\n",
       "\\begin{tabular}{r|llll}\n",
       "  & Barrio & SuperficieMedia & PrecioMedio & NumeroEntradas\\\\\n",
       "  & <fct> & <dbl> & <dbl> & <int>\\\\\n",
       "\\hline\n",
       "\t8 & Recoletos & 26.66316 & 158.89683 & 126\\\\\n",
       "\t4 & Goya      & 51.68504 & 109.98540 & 137\\\\\n",
       "\t9 & Sol       & 44.35567 & 100.60584 & 685\\\\\n",
       "\t10 & Trafalgar & 29.30426 &  98.86977 & 215\\\\\n",
       "\t5 & Justicia  & 28.52669 &  98.69439 & 517\\\\\n",
       "\\end{tabular}\n"
      ],
      "text/markdown": [
       "\n",
       "A data.frame: 5 × 4\n",
       "\n",
       "| <!--/--> | Barrio &lt;fct&gt; | SuperficieMedia &lt;dbl&gt; | PrecioMedio &lt;dbl&gt; | NumeroEntradas &lt;int&gt; |\n",
       "|---|---|---|---|---|\n",
       "| 8 | Recoletos | 26.66316 | 158.89683 | 126 |\n",
       "| 4 | Goya      | 51.68504 | 109.98540 | 137 |\n",
       "| 9 | Sol       | 44.35567 | 100.60584 | 685 |\n",
       "| 10 | Trafalgar | 29.30426 |  98.86977 | 215 |\n",
       "| 5 | Justicia  | 28.52669 |  98.69439 | 517 |\n",
       "\n"
      ],
      "text/plain": [
       "   Barrio    SuperficieMedia PrecioMedio NumeroEntradas\n",
       "8  Recoletos 26.66316        158.89683   126           \n",
       "4  Goya      51.68504        109.98540   137           \n",
       "9  Sol       44.35567        100.60584   685           \n",
       "10 Trafalgar 29.30426         98.86977   215           \n",
       "5  Justicia  28.52669         98.69439   517           "
      ]
     },
     "metadata": {},
     "output_type": "display_data"
    }
   ],
   "source": [
    "sapply(airbnb_entire, function(x) sum(is.na(x)))    #Veo si la columna PiesCuadrados tiene valores NA\n",
    "\n",
    "EntireSupefNoNA <- airbnb_entire[!is.na(airbnb_entire$PiesCuadrados), ]    #Elimino los filas que PiesCuadrados = NA \n",
    "                                                                           #del df airbnb_entire\n",
    "\n",
    "EntireSupefNoNA$MetrosCuadrados <- EntireSupefNoNA$PiesCuadrados * 0.092903  #Nueva columna con los\n",
    "                                                                                       #metros cuadrados\n",
    "\n",
    "EntireSuperficieMedia <- aggregate(EntireSupefNoNA[,c(\"MetrosCuadrados\")],by = list(Barrio = EntireSupefNoNA$Barrio), \n",
    "                                   FUN = mean) #agrego por Barrio\n",
    "       \n",
    "names (EntireSuperficieMedia)[2]  <-  \"SuperficieMedia\"   #cambio nombre de la columna que muesra la superficie media    \n",
    "       \n",
    "EntireBarrioFreqSupeficie <- merge(EntireSuperficieMedia, EntireBarrioFreq100, by =\"Barrio\", all = FALSE)  #Hago el inner join\n",
    "#EntireBarrioFreqSupeficie    \n",
    "       \n",
    "BarrioSuperficiePrecioEntradas <- EntireBarrioFreqSupeficie[with(EntireBarrioFreqSupeficie, order (-PrecioMedio)), ]     \n",
    "\n",
    "BarrioSuperficiePrecioEntradas [1:5, ]"
   ]
  },
  {
   "cell_type": "markdown",
   "metadata": {},
   "source": [
    "Dibuja el diagrama de densidad de distribución de los diferentes tamaños de apartamentos. Serían 5 gráficas, una por cada barrio."
   ]
  },
  {
   "cell_type": "code",
   "execution_count": 80,
   "metadata": {},
   "outputs": [
    {
     "data": {
      "image/png": "[encoded data removed]",
      "text/plain": [
       "plot without title"
      ]
     },
     "metadata": {
      "image/png": {
       "height": 600,
       "width": 800
      }
     },
     "output_type": "display_data"
    }
   ],
   "source": [
    "AirbnbCincoBarriosSuperficie <- AirbnbCincoBarrios[ , c(\"Barrio\", \"MetrosCuadrados\")]  #Subset de superficie por barrio (de los 5 barrios)\n",
    "\n",
    "#Elimino las filas con MetrosCuadrados = NA:\n",
    "AirbnbCincoBarriosSuperficie <- AirbnbCincoBarriosSuperficie[!is.na(AirbnbCincoBarriosSuperficie$MetrosCuadrados), ]\n",
    "\n",
    "\n",
    "#Dibujo el diagrama de densidad de distribución\n",
    "\n",
    "ggplot(data = AirbnbCincoBarriosSuperficie, mapping = aes(x = MetrosCuadrados, colour = Barrio))  + geom_density()\n"
   ]
  },
  {
   "cell_type": "markdown",
   "metadata": {},
   "source": [
    "Esta claro que las medias de metros cuadrados de cada uno de estos 5 barrios parecen ser diferentes, pero ¿son estadísticamente diferentes?\n",
    "¿Que test habría que usar para comprobarlo?"
   ]
  },
  {
   "cell_type": "code",
   "execution_count": 114,
   "metadata": {},
   "outputs": [
    {
     "data": {
      "text/html": [
       "<table class=\"dataframe\">\n",
       "<caption>A data.frame: 57 × 2</caption>\n",
       "<thead>\n",
       "\t<tr><th></th><th scope=col>Barrio</th><th scope=col>MetrosCuadrados</th></tr>\n",
       "\t<tr><th></th><th scope=col>&lt;fct&gt;</th><th scope=col>&lt;dbl&gt;</th></tr>\n",
       "</thead>\n",
       "<tbody>\n",
       "\t<tr><th scope=row>1</th><td>Sol      </td><td> 60.02</td></tr>\n",
       "\t<tr><th scope=row>10</th><td>Sol      </td><td> 69.96</td></tr>\n",
       "\t<tr><th scope=row>18</th><td>Sol      </td><td> 24.99</td></tr>\n",
       "\t<tr><th scope=row>31</th><td>Justicia </td><td> 49.98</td></tr>\n",
       "\t<tr><th scope=row>71</th><td>Goya     </td><td> 65.03</td></tr>\n",
       "\t<tr><th scope=row>79</th><td>Sol      </td><td>200.02</td></tr>\n",
       "\t<tr><th scope=row>94</th><td>Sol      </td><td> 49.98</td></tr>\n",
       "\t<tr><th scope=row>100</th><td>Sol      </td><td>134.99</td></tr>\n",
       "\t<tr><th scope=row>161</th><td>Sol      </td><td> 85.01</td></tr>\n",
       "\t<tr><th scope=row>170</th><td>Sol      </td><td> 40.04</td></tr>\n",
       "\t<tr><th scope=row>180</th><td>Justicia </td><td> 22.02</td></tr>\n",
       "\t<tr><th scope=row>209</th><td>Sol      </td><td> 60.02</td></tr>\n",
       "\t<tr><th scope=row>210</th><td>Sol      </td><td>  4.18</td></tr>\n",
       "\t<tr><th scope=row>220</th><td>Sol      </td><td>  4.18</td></tr>\n",
       "\t<tr><th scope=row>270</th><td>Justicia </td><td> 69.96</td></tr>\n",
       "\t<tr><th scope=row>313</th><td>Sol      </td><td> 82.03</td></tr>\n",
       "\t<tr><th scope=row>328</th><td>Sol      </td><td> 19.05</td></tr>\n",
       "\t<tr><th scope=row>435</th><td>Goya     </td><td> 90.02</td></tr>\n",
       "\t<tr><th scope=row>476</th><td>Sol      </td><td> 65.03</td></tr>\n",
       "\t<tr><th scope=row>490</th><td>Recoletos</td><td> 19.97</td></tr>\n",
       "\t<tr><th scope=row>508</th><td>Trafalgar</td><td> 30.01</td></tr>\n",
       "\t<tr><th scope=row>539</th><td>Sol      </td><td>  4.65</td></tr>\n",
       "\t<tr><th scope=row>540</th><td>Sol      </td><td> 60.02</td></tr>\n",
       "\t<tr><th scope=row>545</th><td>Sol      </td><td> 44.97</td></tr>\n",
       "\t<tr><th scope=row>586</th><td>Trafalgar</td><td>  5.11</td></tr>\n",
       "\t<tr><th scope=row>634</th><td>Justicia </td><td>  5.11</td></tr>\n",
       "\t<tr><th scope=row>689</th><td>Sol      </td><td> 40.04</td></tr>\n",
       "\t<tr><th scope=row>704</th><td>Trafalgar</td><td> 49.98</td></tr>\n",
       "\t<tr><th scope=row>786</th><td>Sol      </td><td> 60.02</td></tr>\n",
       "\t<tr><th scope=row>885</th><td>Sol      </td><td>150.04</td></tr>\n",
       "\t<tr><th scope=row>898</th><td>Recoletos</td><td> 30.01</td></tr>\n",
       "\t<tr><th scope=row>980</th><td>Justicia </td><td> 74.97</td></tr>\n",
       "\t<tr><th scope=row>1010</th><td>Sol      </td><td> 19.97</td></tr>\n",
       "\t<tr><th scope=row>1024</th><td>Sol      </td><td> 38.00</td></tr>\n",
       "\t<tr><th scope=row>1026</th><td>Sol      </td><td> 36.98</td></tr>\n",
       "\t<tr><th scope=row>1055</th><td>Justicia </td><td> 68.00</td></tr>\n",
       "\t<tr><th scope=row>1075</th><td>Sol      </td><td> 55.00</td></tr>\n",
       "\t<tr><th scope=row>1116</th><td>Trafalgar</td><td>120.03</td></tr>\n",
       "\t<tr><th scope=row>1132</th><td>Sol      </td><td>115.01</td></tr>\n",
       "\t<tr><th scope=row>1179</th><td>Sol      </td><td>200.02</td></tr>\n",
       "\t<tr><th scope=row>1195</th><td>Sol      </td><td> 30.01</td></tr>\n",
       "\t<tr><th scope=row>1253</th><td>Recoletos</td><td> 30.01</td></tr>\n",
       "\t<tr><th scope=row>1299</th><td>Sol      </td><td>120.03</td></tr>\n",
       "\t<tr><th scope=row>1302</th><td>Sol      </td><td> 57.97</td></tr>\n",
       "\t<tr><th scope=row>1348</th><td>Sol      </td><td> 56.02</td></tr>\n",
       "\t<tr><th scope=row>1372</th><td>Sol      </td><td>165.00</td></tr>\n",
       "\t<tr><th scope=row>1398</th><td>Sol      </td><td> 74.97</td></tr>\n",
       "\t<tr><th scope=row>1415</th><td>Sol      </td><td>  6.60</td></tr>\n",
       "\t<tr><th scope=row>1453</th><td>Justicia </td><td> 79.99</td></tr>\n",
       "\t<tr><th scope=row>1467</th><td>Justicia </td><td> 44.97</td></tr>\n",
       "\t<tr><th scope=row>1534</th><td>Sol      </td><td> 69.96</td></tr>\n",
       "\t<tr><th scope=row>1607</th><td>Sol      </td><td> 99.96</td></tr>\n",
       "\t<tr><th scope=row>1609</th><td>Sol      </td><td> 87.98</td></tr>\n",
       "\t<tr><th scope=row>1610</th><td>Sol      </td><td>  9.29</td></tr>\n",
       "\t<tr><th scope=row>1624</th><td>Justicia </td><td> 69.96</td></tr>\n",
       "\t<tr><th scope=row>1629</th><td>Sol      </td><td> 74.97</td></tr>\n",
       "\t<tr><th scope=row>1640</th><td>Sol      </td><td> 40.04</td></tr>\n",
       "</tbody>\n",
       "</table>\n"
      ],
      "text/latex": [
       "A data.frame: 57 × 2\n",
       "\\begin{tabular}{r|ll}\n",
       "  & Barrio & MetrosCuadrados\\\\\n",
       "  & <fct> & <dbl>\\\\\n",
       "\\hline\n",
       "\t1 & Sol       &  60.02\\\\\n",
       "\t10 & Sol       &  69.96\\\\\n",
       "\t18 & Sol       &  24.99\\\\\n",
       "\t31 & Justicia  &  49.98\\\\\n",
       "\t71 & Goya      &  65.03\\\\\n",
       "\t79 & Sol       & 200.02\\\\\n",
       "\t94 & Sol       &  49.98\\\\\n",
       "\t100 & Sol       & 134.99\\\\\n",
       "\t161 & Sol       &  85.01\\\\\n",
       "\t170 & Sol       &  40.04\\\\\n",
       "\t180 & Justicia  &  22.02\\\\\n",
       "\t209 & Sol       &  60.02\\\\\n",
       "\t210 & Sol       &   4.18\\\\\n",
       "\t220 & Sol       &   4.18\\\\\n",
       "\t270 & Justicia  &  69.96\\\\\n",
       "\t313 & Sol       &  82.03\\\\\n",
       "\t328 & Sol       &  19.05\\\\\n",
       "\t435 & Goya      &  90.02\\\\\n",
       "\t476 & Sol       &  65.03\\\\\n",
       "\t490 & Recoletos &  19.97\\\\\n",
       "\t508 & Trafalgar &  30.01\\\\\n",
       "\t539 & Sol       &   4.65\\\\\n",
       "\t540 & Sol       &  60.02\\\\\n",
       "\t545 & Sol       &  44.97\\\\\n",
       "\t586 & Trafalgar &   5.11\\\\\n",
       "\t634 & Justicia  &   5.11\\\\\n",
       "\t689 & Sol       &  40.04\\\\\n",
       "\t704 & Trafalgar &  49.98\\\\\n",
       "\t786 & Sol       &  60.02\\\\\n",
       "\t885 & Sol       & 150.04\\\\\n",
       "\t898 & Recoletos &  30.01\\\\\n",
       "\t980 & Justicia  &  74.97\\\\\n",
       "\t1010 & Sol       &  19.97\\\\\n",
       "\t1024 & Sol       &  38.00\\\\\n",
       "\t1026 & Sol       &  36.98\\\\\n",
       "\t1055 & Justicia  &  68.00\\\\\n",
       "\t1075 & Sol       &  55.00\\\\\n",
       "\t1116 & Trafalgar & 120.03\\\\\n",
       "\t1132 & Sol       & 115.01\\\\\n",
       "\t1179 & Sol       & 200.02\\\\\n",
       "\t1195 & Sol       &  30.01\\\\\n",
       "\t1253 & Recoletos &  30.01\\\\\n",
       "\t1299 & Sol       & 120.03\\\\\n",
       "\t1302 & Sol       &  57.97\\\\\n",
       "\t1348 & Sol       &  56.02\\\\\n",
       "\t1372 & Sol       & 165.00\\\\\n",
       "\t1398 & Sol       &  74.97\\\\\n",
       "\t1415 & Sol       &   6.60\\\\\n",
       "\t1453 & Justicia  &  79.99\\\\\n",
       "\t1467 & Justicia  &  44.97\\\\\n",
       "\t1534 & Sol       &  69.96\\\\\n",
       "\t1607 & Sol       &  99.96\\\\\n",
       "\t1609 & Sol       &  87.98\\\\\n",
       "\t1610 & Sol       &   9.29\\\\\n",
       "\t1624 & Justicia  &  69.96\\\\\n",
       "\t1629 & Sol       &  74.97\\\\\n",
       "\t1640 & Sol       &  40.04\\\\\n",
       "\\end{tabular}\n"
      ],
      "text/markdown": [
       "\n",
       "A data.frame: 57 × 2\n",
       "\n",
       "| <!--/--> | Barrio &lt;fct&gt; | MetrosCuadrados &lt;dbl&gt; |\n",
       "|---|---|---|\n",
       "| 1 | Sol       |  60.02 |\n",
       "| 10 | Sol       |  69.96 |\n",
       "| 18 | Sol       |  24.99 |\n",
       "| 31 | Justicia  |  49.98 |\n",
       "| 71 | Goya      |  65.03 |\n",
       "| 79 | Sol       | 200.02 |\n",
       "| 94 | Sol       |  49.98 |\n",
       "| 100 | Sol       | 134.99 |\n",
       "| 161 | Sol       |  85.01 |\n",
       "| 170 | Sol       |  40.04 |\n",
       "| 180 | Justicia  |  22.02 |\n",
       "| 209 | Sol       |  60.02 |\n",
       "| 210 | Sol       |   4.18 |\n",
       "| 220 | Sol       |   4.18 |\n",
       "| 270 | Justicia  |  69.96 |\n",
       "| 313 | Sol       |  82.03 |\n",
       "| 328 | Sol       |  19.05 |\n",
       "| 435 | Goya      |  90.02 |\n",
       "| 476 | Sol       |  65.03 |\n",
       "| 490 | Recoletos |  19.97 |\n",
       "| 508 | Trafalgar |  30.01 |\n",
       "| 539 | Sol       |   4.65 |\n",
       "| 540 | Sol       |  60.02 |\n",
       "| 545 | Sol       |  44.97 |\n",
       "| 586 | Trafalgar |   5.11 |\n",
       "| 634 | Justicia  |   5.11 |\n",
       "| 689 | Sol       |  40.04 |\n",
       "| 704 | Trafalgar |  49.98 |\n",
       "| 786 | Sol       |  60.02 |\n",
       "| 885 | Sol       | 150.04 |\n",
       "| 898 | Recoletos |  30.01 |\n",
       "| 980 | Justicia  |  74.97 |\n",
       "| 1010 | Sol       |  19.97 |\n",
       "| 1024 | Sol       |  38.00 |\n",
       "| 1026 | Sol       |  36.98 |\n",
       "| 1055 | Justicia  |  68.00 |\n",
       "| 1075 | Sol       |  55.00 |\n",
       "| 1116 | Trafalgar | 120.03 |\n",
       "| 1132 | Sol       | 115.01 |\n",
       "| 1179 | Sol       | 200.02 |\n",
       "| 1195 | Sol       |  30.01 |\n",
       "| 1253 | Recoletos |  30.01 |\n",
       "| 1299 | Sol       | 120.03 |\n",
       "| 1302 | Sol       |  57.97 |\n",
       "| 1348 | Sol       |  56.02 |\n",
       "| 1372 | Sol       | 165.00 |\n",
       "| 1398 | Sol       |  74.97 |\n",
       "| 1415 | Sol       |   6.60 |\n",
       "| 1453 | Justicia  |  79.99 |\n",
       "| 1467 | Justicia  |  44.97 |\n",
       "| 1534 | Sol       |  69.96 |\n",
       "| 1607 | Sol       |  99.96 |\n",
       "| 1609 | Sol       |  87.98 |\n",
       "| 1610 | Sol       |   9.29 |\n",
       "| 1624 | Justicia  |  69.96 |\n",
       "| 1629 | Sol       |  74.97 |\n",
       "| 1640 | Sol       |  40.04 |\n",
       "\n"
      ],
      "text/plain": [
       "     Barrio    MetrosCuadrados\n",
       "1    Sol        60.02         \n",
       "10   Sol        69.96         \n",
       "18   Sol        24.99         \n",
       "31   Justicia   49.98         \n",
       "71   Goya       65.03         \n",
       "79   Sol       200.02         \n",
       "94   Sol        49.98         \n",
       "100  Sol       134.99         \n",
       "161  Sol        85.01         \n",
       "170  Sol        40.04         \n",
       "180  Justicia   22.02         \n",
       "209  Sol        60.02         \n",
       "210  Sol         4.18         \n",
       "220  Sol         4.18         \n",
       "270  Justicia   69.96         \n",
       "313  Sol        82.03         \n",
       "328  Sol        19.05         \n",
       "435  Goya       90.02         \n",
       "476  Sol        65.03         \n",
       "490  Recoletos  19.97         \n",
       "508  Trafalgar  30.01         \n",
       "539  Sol         4.65         \n",
       "540  Sol        60.02         \n",
       "545  Sol        44.97         \n",
       "586  Trafalgar   5.11         \n",
       "634  Justicia    5.11         \n",
       "689  Sol        40.04         \n",
       "704  Trafalgar  49.98         \n",
       "786  Sol        60.02         \n",
       "885  Sol       150.04         \n",
       "898  Recoletos  30.01         \n",
       "980  Justicia   74.97         \n",
       "1010 Sol        19.97         \n",
       "1024 Sol        38.00         \n",
       "1026 Sol        36.98         \n",
       "1055 Justicia   68.00         \n",
       "1075 Sol        55.00         \n",
       "1116 Trafalgar 120.03         \n",
       "1132 Sol       115.01         \n",
       "1179 Sol       200.02         \n",
       "1195 Sol        30.01         \n",
       "1253 Recoletos  30.01         \n",
       "1299 Sol       120.03         \n",
       "1302 Sol        57.97         \n",
       "1348 Sol        56.02         \n",
       "1372 Sol       165.00         \n",
       "1398 Sol        74.97         \n",
       "1415 Sol         6.60         \n",
       "1453 Justicia   79.99         \n",
       "1467 Justicia   44.97         \n",
       "1534 Sol        69.96         \n",
       "1607 Sol        99.96         \n",
       "1609 Sol        87.98         \n",
       "1610 Sol         9.29         \n",
       "1624 Justicia   69.96         \n",
       "1629 Sol        74.97         \n",
       "1640 Sol        40.04         "
      ]
     },
     "metadata": {},
     "output_type": "display_data"
    },
    {
     "name": "stdout",
     "output_type": "stream",
     "text": [
      "[1] \"El p-value de Sol es:  5.67107893772831e-07\"\n",
      "[1] \"El p-value de Justicia es:  0.000641992409230825\"\n",
      "[1] \"El p-value de Trafalgar es:  0.0127591027241118\"\n",
      "[1] \"El p-value de Recoletos es:  0\"\n",
      "[1] \"El p-value de Goya es:  0.519922431324765\"\n"
     ]
    },
    {
     "data": {
      "text/plain": [
       "\n",
       "\tKruskal-Wallis rank sum test\n",
       "\n",
       "data:  MetrosCuadrados by Barrio\n",
       "Kruskal-Wallis chi-squared = 1.6972, df = 4, p-value = 0.7912\n"
      ]
     },
     "metadata": {},
     "output_type": "display_data"
    },
    {
     "data": {
      "image/png": "[encoded data removed]",
      "text/plain": [
       "plot without title"
      ]
     },
     "metadata": {
      "image/png": {
       "height": 600,
       "width": 800
      }
     },
     "output_type": "display_data"
    }
   ],
   "source": [
    "\n",
    "#Me quedo con las filas para las que MetrosCuadrados sea != 0  :\n",
    "AirbnbCincoBarriosSuperficie[AirbnbCincoBarriosSuperficie$MetrosCuadrados != 0, ]\n",
    "\n",
    "#Verifico la normalidad mediate Shapiro:\n",
    "\n",
    "SuperficieSol <- subset(AirbnbCincoBarriosSuperficie, AirbnbCincoBarriosSuperficie$Barrio == \"Sol\", select = MetrosCuadrados)  \n",
    "SuperficieJusticia <- subset(AirbnbCincoBarriosSuperficie, AirbnbCincoBarriosSuperficie$Barrio == \"Justicia\", select = MetrosCuadrados)\n",
    "SuperficieTrafalgar <- subset(AirbnbCincoBarriosSuperficie, AirbnbCincoBarriosSuperficie$Barrio == \"Trafalgar\", select = MetrosCuadrados)\n",
    "SuperficieRecoletos <- subset(AirbnbCincoBarriosSuperficie, AirbnbCincoBarriosSuperficie$Barrio == \"Recoletos\", select = MetrosCuadrados)       \n",
    "SuperficieGoya <- subset(AirbnbCincoBarriosSuperficie, AirbnbCincoBarriosSuperficie$Barrio == \"Goya\", select = MetrosCuadrados)       \n",
    "\n",
    "PValueSol <- shapiro.test(SuperficieSol$MetrosCuadrados)$p.value   \n",
    "PValueJusticia <- shapiro.test(SuperficieJusticia$MetrosCuadrados)$p.value                        \n",
    "PValueTrafalgar <- shapiro.test(SuperficieTrafalgar$MetrosCuadrados)$p.value   \n",
    "PValueRecoletos <- shapiro.test(SuperficieRecoletos$MetrosCuadrados)$p.value   \n",
    "PValueGoya <- shapiro.test(SuperficieGoya$MetrosCuadrados)$p.value   \n",
    "\n",
    "\n",
    "print(paste(\"El p-value de Sol es: \", PValueSol))\n",
    "print(paste(\"El p-value de Justicia es: \", PValueJusticia))\n",
    "print(paste(\"El p-value de Trafalgar es: \", PValueTrafalgar))\n",
    "print(paste(\"El p-value de Recoletos es: \", PValueRecoletos))\n",
    "print(paste(\"El p-value de Goya es: \", PValueGoya))\n",
    "\n",
    "# La única que sale con un p-valor > 0.05 es Goya, claro quie es porque los tres pisos tienen los mismos metros cuadrados\n",
    "\n",
    "#Compruebo visulamente o graficamente que no estamos en distribuciones Gaussianas:\n",
    "ggplot(data = AirbnbCincoBarriosSuperficie, mapping = aes(x = MetrosCuadrados, colour = Barrio)) +\n",
    "    geom_histogram(bins=30) +\n",
    "    facet_grid(. ~ Barrio) +\n",
    "    theme(legend.position = \"none\")\n",
    "\n",
    "#Paso el test de Krustal-Wallis ya que he comprobaado que no se cumple la condiciónd e normalidad\n",
    "kruskal.test(MetrosCuadrados ~ Barrio, data = AirbnbCincoBarriosSuperficie)\n",
    "\n",
    "#Obtengo que Kruskal-Wallis da p-value = 0.7912 que al ser mayor que 0.05 implica \n",
    "#que se puede admitir la hipotesis nula, o dicho de otro modo, que la mediana de la superficis es estadíticamente igual\n",
    "#en todos los barrrios analizados\n"
   ]
  },
  {
   "cell_type": "markdown",
   "metadata": {},
   "source": [
    "Para únicamente los pisos de alquiler en el barrio de Sol:\n",
    "\n",
    "``barrio_sol<-subset(airbnb_entire,Barrio==\"Sol\")``\n",
    "\n",
    "Calcular un modelo lineal que combine alguna de estas variables:\n",
    "* NumBanyos\n",
    "* NumDormitorios\n",
    "* MaxOcupantes\n",
    "* MetrosCuadrados"
   ]
  },
  {
   "cell_type": "code",
   "execution_count": null,
   "metadata": {},
   "outputs": [],
   "source": [
    "ESTO VA DE REGRESIONES LINEALES. PRIMERO VER LA CORRELACION ENTRE ESAS CUATRO VARIABLES. \n",
    "HABRÁ QUE FILTRAR QUITANDO PISOS QUE TIENEN MUY POCA SUPERFICIE COMO PARA SER CONSIDERADOS VERDADERAMENTE PISOS.\n",
    "Y ESO DEBE MEJORAR LAS CORRELACIONES\n",
    "VER LAS SIGUIENTES PREGUNTAS\n"
   ]
  },
  {
   "cell_type": "code",
   "execution_count": 149,
   "metadata": {},
   "outputs": [],
   "source": [
    "?subset"
   ]
  },
  {
   "cell_type": "markdown",
   "metadata": {},
   "source": [
    "Primero calculamos la correlación para ver como se relacionan estas variables entre sí."
   ]
  },
  {
   "cell_type": "code",
   "execution_count": 179,
   "metadata": {},
   "outputs": [
    {
     "data": {
      "text/html": [
       "<table class=\"dataframe\">\n",
       "<caption>A data.frame: 39 × 4</caption>\n",
       "<thead>\n",
       "\t<tr><th></th><th scope=col>NumBanyos</th><th scope=col>NumDormitorios</th><th scope=col>MaxOcupantes</th><th scope=col>MetrosCuadrados</th></tr>\n",
       "\t<tr><th></th><th scope=col>&lt;dbl&gt;</th><th scope=col>&lt;int&gt;</th><th scope=col>&lt;int&gt;</th><th scope=col>&lt;dbl&gt;</th></tr>\n",
       "</thead>\n",
       "<tbody>\n",
       "\t<tr><th scope=row>10</th><td>1</td><td>1</td><td> 4</td><td> 60.02</td></tr>\n",
       "\t<tr><th scope=row>19</th><td>1</td><td>1</td><td> 4</td><td> 69.96</td></tr>\n",
       "\t<tr><th scope=row>30</th><td>1</td><td>1</td><td> 2</td><td> 24.99</td></tr>\n",
       "\t<tr><th scope=row>334</th><td>2</td><td>4</td><td> 8</td><td>200.02</td></tr>\n",
       "\t<tr><th scope=row>393</th><td>1</td><td>1</td><td> 4</td><td> 49.98</td></tr>\n",
       "\t<tr><th scope=row>399</th><td>2</td><td>2</td><td>10</td><td>134.99</td></tr>\n",
       "\t<tr><th scope=row>800</th><td>1</td><td>1</td><td> 4</td><td> 85.01</td></tr>\n",
       "\t<tr><th scope=row>809</th><td>1</td><td>1</td><td> 2</td><td> 40.04</td></tr>\n",
       "\t<tr><th scope=row>909</th><td>1</td><td>0</td><td> 3</td><td> 60.02</td></tr>\n",
       "\t<tr><th scope=row>910</th><td>1</td><td>1</td><td> 2</td><td>  4.18</td></tr>\n",
       "\t<tr><th scope=row>920</th><td>1</td><td>1</td><td> 4</td><td>  4.18</td></tr>\n",
       "\t<tr><th scope=row>1388</th><td>1</td><td>2</td><td> 8</td><td> 82.03</td></tr>\n",
       "\t<tr><th scope=row>1403</th><td>1</td><td>1</td><td> 2</td><td> 19.05</td></tr>\n",
       "\t<tr><th scope=row>2212</th><td>1</td><td>1</td><td> 4</td><td> 65.03</td></tr>\n",
       "\t<tr><th scope=row>2538</th><td>1</td><td>1</td><td> 2</td><td>  4.65</td></tr>\n",
       "\t<tr><th scope=row>2539</th><td>1</td><td>1</td><td> 4</td><td> 60.02</td></tr>\n",
       "\t<tr><th scope=row>2544</th><td>1</td><td>1</td><td> 3</td><td> 44.97</td></tr>\n",
       "\t<tr><th scope=row>3113</th><td>1</td><td>1</td><td> 2</td><td> 40.04</td></tr>\n",
       "\t<tr><th scope=row>3509</th><td>1</td><td>1</td><td> 4</td><td> 60.02</td></tr>\n",
       "\t<tr><th scope=row>3982</th><td>2</td><td>5</td><td>10</td><td>150.04</td></tr>\n",
       "\t<tr><th scope=row>4495</th><td>1</td><td>1</td><td> 3</td><td> 19.97</td></tr>\n",
       "\t<tr><th scope=row>4606</th><td>1</td><td>0</td><td> 4</td><td> 38.00</td></tr>\n",
       "\t<tr><th scope=row>4608</th><td>1</td><td>0</td><td> 4</td><td> 36.98</td></tr>\n",
       "\t<tr><th scope=row>4799</th><td>1</td><td>1</td><td> 4</td><td> 55.00</td></tr>\n",
       "\t<tr><th scope=row>5116</th><td>4</td><td>4</td><td>12</td><td>115.01</td></tr>\n",
       "\t<tr><th scope=row>5308</th><td>2</td><td>3</td><td> 6</td><td>200.02</td></tr>\n",
       "\t<tr><th scope=row>5324</th><td>1</td><td>0</td><td> 2</td><td> 30.01</td></tr>\n",
       "\t<tr><th scope=row>5963</th><td>2</td><td>2</td><td> 8</td><td>120.03</td></tr>\n",
       "\t<tr><th scope=row>5966</th><td>1</td><td>1</td><td> 4</td><td> 57.97</td></tr>\n",
       "\t<tr><th scope=row>6140</th><td>1</td><td>1</td><td> 4</td><td> 56.02</td></tr>\n",
       "\t<tr><th scope=row>6211</th><td>2</td><td>5</td><td> 7</td><td>165.00</td></tr>\n",
       "\t<tr><th scope=row>6342</th><td>1</td><td>2</td><td> 6</td><td> 74.97</td></tr>\n",
       "\t<tr><th scope=row>6363</th><td>1</td><td>1</td><td> 2</td><td>  6.60</td></tr>\n",
       "\t<tr><th scope=row>6885</th><td>1</td><td>2</td><td> 5</td><td> 69.96</td></tr>\n",
       "\t<tr><th scope=row>7348</th><td>2</td><td>2</td><td> 6</td><td> 99.96</td></tr>\n",
       "\t<tr><th scope=row>7350</th><td>1</td><td>2</td><td> 4</td><td> 87.98</td></tr>\n",
       "\t<tr><th scope=row>7351</th><td>2</td><td>2</td><td> 6</td><td>  9.29</td></tr>\n",
       "\t<tr><th scope=row>7459</th><td>3</td><td>3</td><td>10</td><td> 74.97</td></tr>\n",
       "\t<tr><th scope=row>7470</th><td>1</td><td>1</td><td> 4</td><td> 40.04</td></tr>\n",
       "</tbody>\n",
       "</table>\n"
      ],
      "text/latex": [
       "A data.frame: 39 × 4\n",
       "\\begin{tabular}{r|llll}\n",
       "  & NumBanyos & NumDormitorios & MaxOcupantes & MetrosCuadrados\\\\\n",
       "  & <dbl> & <int> & <int> & <dbl>\\\\\n",
       "\\hline\n",
       "\t10 & 1 & 1 &  4 &  60.02\\\\\n",
       "\t19 & 1 & 1 &  4 &  69.96\\\\\n",
       "\t30 & 1 & 1 &  2 &  24.99\\\\\n",
       "\t334 & 2 & 4 &  8 & 200.02\\\\\n",
       "\t393 & 1 & 1 &  4 &  49.98\\\\\n",
       "\t399 & 2 & 2 & 10 & 134.99\\\\\n",
       "\t800 & 1 & 1 &  4 &  85.01\\\\\n",
       "\t809 & 1 & 1 &  2 &  40.04\\\\\n",
       "\t909 & 1 & 0 &  3 &  60.02\\\\\n",
       "\t910 & 1 & 1 &  2 &   4.18\\\\\n",
       "\t920 & 1 & 1 &  4 &   4.18\\\\\n",
       "\t1388 & 1 & 2 &  8 &  82.03\\\\\n",
       "\t1403 & 1 & 1 &  2 &  19.05\\\\\n",
       "\t2212 & 1 & 1 &  4 &  65.03\\\\\n",
       "\t2538 & 1 & 1 &  2 &   4.65\\\\\n",
       "\t2539 & 1 & 1 &  4 &  60.02\\\\\n",
       "\t2544 & 1 & 1 &  3 &  44.97\\\\\n",
       "\t3113 & 1 & 1 &  2 &  40.04\\\\\n",
       "\t3509 & 1 & 1 &  4 &  60.02\\\\\n",
       "\t3982 & 2 & 5 & 10 & 150.04\\\\\n",
       "\t4495 & 1 & 1 &  3 &  19.97\\\\\n",
       "\t4606 & 1 & 0 &  4 &  38.00\\\\\n",
       "\t4608 & 1 & 0 &  4 &  36.98\\\\\n",
       "\t4799 & 1 & 1 &  4 &  55.00\\\\\n",
       "\t5116 & 4 & 4 & 12 & 115.01\\\\\n",
       "\t5308 & 2 & 3 &  6 & 200.02\\\\\n",
       "\t5324 & 1 & 0 &  2 &  30.01\\\\\n",
       "\t5963 & 2 & 2 &  8 & 120.03\\\\\n",
       "\t5966 & 1 & 1 &  4 &  57.97\\\\\n",
       "\t6140 & 1 & 1 &  4 &  56.02\\\\\n",
       "\t6211 & 2 & 5 &  7 & 165.00\\\\\n",
       "\t6342 & 1 & 2 &  6 &  74.97\\\\\n",
       "\t6363 & 1 & 1 &  2 &   6.60\\\\\n",
       "\t6885 & 1 & 2 &  5 &  69.96\\\\\n",
       "\t7348 & 2 & 2 &  6 &  99.96\\\\\n",
       "\t7350 & 1 & 2 &  4 &  87.98\\\\\n",
       "\t7351 & 2 & 2 &  6 &   9.29\\\\\n",
       "\t7459 & 3 & 3 & 10 &  74.97\\\\\n",
       "\t7470 & 1 & 1 &  4 &  40.04\\\\\n",
       "\\end{tabular}\n"
      ],
      "text/markdown": [
       "\n",
       "A data.frame: 39 × 4\n",
       "\n",
       "| <!--/--> | NumBanyos &lt;dbl&gt; | NumDormitorios &lt;int&gt; | MaxOcupantes &lt;int&gt; | MetrosCuadrados &lt;dbl&gt; |\n",
       "|---|---|---|---|---|\n",
       "| 10 | 1 | 1 |  4 |  60.02 |\n",
       "| 19 | 1 | 1 |  4 |  69.96 |\n",
       "| 30 | 1 | 1 |  2 |  24.99 |\n",
       "| 334 | 2 | 4 |  8 | 200.02 |\n",
       "| 393 | 1 | 1 |  4 |  49.98 |\n",
       "| 399 | 2 | 2 | 10 | 134.99 |\n",
       "| 800 | 1 | 1 |  4 |  85.01 |\n",
       "| 809 | 1 | 1 |  2 |  40.04 |\n",
       "| 909 | 1 | 0 |  3 |  60.02 |\n",
       "| 910 | 1 | 1 |  2 |   4.18 |\n",
       "| 920 | 1 | 1 |  4 |   4.18 |\n",
       "| 1388 | 1 | 2 |  8 |  82.03 |\n",
       "| 1403 | 1 | 1 |  2 |  19.05 |\n",
       "| 2212 | 1 | 1 |  4 |  65.03 |\n",
       "| 2538 | 1 | 1 |  2 |   4.65 |\n",
       "| 2539 | 1 | 1 |  4 |  60.02 |\n",
       "| 2544 | 1 | 1 |  3 |  44.97 |\n",
       "| 3113 | 1 | 1 |  2 |  40.04 |\n",
       "| 3509 | 1 | 1 |  4 |  60.02 |\n",
       "| 3982 | 2 | 5 | 10 | 150.04 |\n",
       "| 4495 | 1 | 1 |  3 |  19.97 |\n",
       "| 4606 | 1 | 0 |  4 |  38.00 |\n",
       "| 4608 | 1 | 0 |  4 |  36.98 |\n",
       "| 4799 | 1 | 1 |  4 |  55.00 |\n",
       "| 5116 | 4 | 4 | 12 | 115.01 |\n",
       "| 5308 | 2 | 3 |  6 | 200.02 |\n",
       "| 5324 | 1 | 0 |  2 |  30.01 |\n",
       "| 5963 | 2 | 2 |  8 | 120.03 |\n",
       "| 5966 | 1 | 1 |  4 |  57.97 |\n",
       "| 6140 | 1 | 1 |  4 |  56.02 |\n",
       "| 6211 | 2 | 5 |  7 | 165.00 |\n",
       "| 6342 | 1 | 2 |  6 |  74.97 |\n",
       "| 6363 | 1 | 1 |  2 |   6.60 |\n",
       "| 6885 | 1 | 2 |  5 |  69.96 |\n",
       "| 7348 | 2 | 2 |  6 |  99.96 |\n",
       "| 7350 | 1 | 2 |  4 |  87.98 |\n",
       "| 7351 | 2 | 2 |  6 |   9.29 |\n",
       "| 7459 | 3 | 3 | 10 |  74.97 |\n",
       "| 7470 | 1 | 1 |  4 |  40.04 |\n",
       "\n"
      ],
      "text/plain": [
       "     NumBanyos NumDormitorios MaxOcupantes MetrosCuadrados\n",
       "10   1         1               4            60.02         \n",
       "19   1         1               4            69.96         \n",
       "30   1         1               2            24.99         \n",
       "334  2         4               8           200.02         \n",
       "393  1         1               4            49.98         \n",
       "399  2         2              10           134.99         \n",
       "800  1         1               4            85.01         \n",
       "809  1         1               2            40.04         \n",
       "909  1         0               3            60.02         \n",
       "910  1         1               2             4.18         \n",
       "920  1         1               4             4.18         \n",
       "1388 1         2               8            82.03         \n",
       "1403 1         1               2            19.05         \n",
       "2212 1         1               4            65.03         \n",
       "2538 1         1               2             4.65         \n",
       "2539 1         1               4            60.02         \n",
       "2544 1         1               3            44.97         \n",
       "3113 1         1               2            40.04         \n",
       "3509 1         1               4            60.02         \n",
       "3982 2         5              10           150.04         \n",
       "4495 1         1               3            19.97         \n",
       "4606 1         0               4            38.00         \n",
       "4608 1         0               4            36.98         \n",
       "4799 1         1               4            55.00         \n",
       "5116 4         4              12           115.01         \n",
       "5308 2         3               6           200.02         \n",
       "5324 1         0               2            30.01         \n",
       "5963 2         2               8           120.03         \n",
       "5966 1         1               4            57.97         \n",
       "6140 1         1               4            56.02         \n",
       "6211 2         5               7           165.00         \n",
       "6342 1         2               6            74.97         \n",
       "6363 1         1               2             6.60         \n",
       "6885 1         2               5            69.96         \n",
       "7348 2         2               6            99.96         \n",
       "7350 1         2               4            87.98         \n",
       "7351 2         2               6             9.29         \n",
       "7459 3         3              10            74.97         \n",
       "7470 1         1               4            40.04         "
      ]
     },
     "metadata": {},
     "output_type": "display_data"
    },
    {
     "data": {
      "text/html": [
       "<table class=\"dataframe\">\n",
       "<caption>A matrix: 4 × 4 of type dbl</caption>\n",
       "<thead>\n",
       "\t<tr><th></th><th scope=col>NumBanyos</th><th scope=col>NumDormitorios</th><th scope=col>MaxOcupantes</th><th scope=col>MetrosCuadrados</th></tr>\n",
       "</thead>\n",
       "<tbody>\n",
       "\t<tr><th scope=row>NumBanyos</th><td>1.000</td><td>0.732</td><td>0.836</td><td>0.556</td></tr>\n",
       "\t<tr><th scope=row>NumDormitorios</th><td>0.732</td><td>1.000</td><td>0.778</td><td>0.765</td></tr>\n",
       "\t<tr><th scope=row>MaxOcupantes</th><td>0.836</td><td>0.778</td><td>1.000</td><td>0.703</td></tr>\n",
       "\t<tr><th scope=row>MetrosCuadrados</th><td>0.556</td><td>0.765</td><td>0.703</td><td>1.000</td></tr>\n",
       "</tbody>\n",
       "</table>\n"
      ],
      "text/latex": [
       "A matrix: 4 × 4 of type dbl\n",
       "\\begin{tabular}{r|llll}\n",
       "  & NumBanyos & NumDormitorios & MaxOcupantes & MetrosCuadrados\\\\\n",
       "\\hline\n",
       "\tNumBanyos & 1.000 & 0.732 & 0.836 & 0.556\\\\\n",
       "\tNumDormitorios & 0.732 & 1.000 & 0.778 & 0.765\\\\\n",
       "\tMaxOcupantes & 0.836 & 0.778 & 1.000 & 0.703\\\\\n",
       "\tMetrosCuadrados & 0.556 & 0.765 & 0.703 & 1.000\\\\\n",
       "\\end{tabular}\n"
      ],
      "text/markdown": [
       "\n",
       "A matrix: 4 × 4 of type dbl\n",
       "\n",
       "| <!--/--> | NumBanyos | NumDormitorios | MaxOcupantes | MetrosCuadrados |\n",
       "|---|---|---|---|---|\n",
       "| NumBanyos | 1.000 | 0.732 | 0.836 | 0.556 |\n",
       "| NumDormitorios | 0.732 | 1.000 | 0.778 | 0.765 |\n",
       "| MaxOcupantes | 0.836 | 0.778 | 1.000 | 0.703 |\n",
       "| MetrosCuadrados | 0.556 | 0.765 | 0.703 | 1.000 |\n",
       "\n"
      ],
      "text/plain": [
       "                NumBanyos NumDormitorios MaxOcupantes MetrosCuadrados\n",
       "NumBanyos       1.000     0.732          0.836        0.556          \n",
       "NumDormitorios  0.732     1.000          0.778        0.765          \n",
       "MaxOcupantes    0.836     0.778          1.000        0.703          \n",
       "MetrosCuadrados 0.556     0.765          0.703        1.000          "
      ]
     },
     "metadata": {},
     "output_type": "display_data"
    }
   ],
   "source": [
    "barrio_sol<-subset(airbnb_entire,Barrio==\"Sol\")\n",
    "\n",
    "SubSetSol <- barrio_sol[   , c(6, 7, 5, 14)] #Subset incluyendo NumBanyos, NumDormitorios, MaxOcupantes y MetrosCuadrados\n",
    "\n",
    "#Elimino los valores nulos del vector MetrosCuadrados\n",
    "\n",
    "SubSetSol <- SubSetSol[!is.na(SubSetSol$MetrosCuadrados), ]\n",
    "\n",
    "#Elimino los valores nulos del vector MetrosCuadrados\n",
    "SubSetSol <- SubSetSol[SubSetSol$MetrosCuadrados != 0, ]\n",
    "SubSetSol\n",
    "#Calculo la correlación\n",
    "round(cor(SubSetSol, method = \"pearson\"), 3)\n",
    "\n"
   ]
  },
  {
   "cell_type": "markdown",
   "metadata": {},
   "source": [
    "Se observa que la correlación entre el número de dormitorios y los metros cuadrados es sorprendentemente baja.\n",
    "¿Son de fiar esos números?\n",
    "\n",
    "Mediante un histograma o curvas de densidad podemos descartar números que notienen sentido en el dataframe barrio_sol,\n",
    "para tener una matriz de correlación que tenga mayor sentido.\n"
   ]
  },
  {
   "cell_type": "code",
   "execution_count": 207,
   "metadata": {},
   "outputs": [
    {
     "name": "stdout",
     "output_type": "stream",
     "text": [
      "[1] \"Valor para  10 : \"\n",
      "                NumBanyos NumDormitorios MaxOcupantes MetrosCuadrados\n",
      "NumBanyos           1.000          0.726        0.843           0.604\n",
      "NumDormitorios      0.726          1.000        0.780           0.817\n",
      "MaxOcupantes        0.843          0.780        1.000           0.706\n",
      "MetrosCuadrados     0.604          0.817        0.706           1.000\n",
      "[1] \"\\r\"\n",
      "[1] \"Valor para  15 : \"\n",
      "                NumBanyos NumDormitorios MaxOcupantes MetrosCuadrados\n",
      "NumBanyos           1.000          0.726        0.843           0.604\n",
      "NumDormitorios      0.726          1.000        0.780           0.817\n",
      "MaxOcupantes        0.843          0.780        1.000           0.706\n",
      "MetrosCuadrados     0.604          0.817        0.706           1.000\n",
      "[1] \"\\r\"\n",
      "[1] \"Valor para  20 : \"\n",
      "                NumBanyos NumDormitorios MaxOcupantes MetrosCuadrados\n",
      "NumBanyos           1.000          0.722        0.845           0.597\n",
      "NumDormitorios      0.722          1.000        0.781           0.825\n",
      "MaxOcupantes        0.845          0.781        1.000           0.685\n",
      "MetrosCuadrados     0.597          0.825        0.685           1.000\n",
      "[1] \"\\r\"\n",
      "[1] \"Valor para  25 : \"\n",
      "                NumBanyos NumDormitorios MaxOcupantes MetrosCuadrados\n",
      "NumBanyos           1.000          0.720        0.848           0.593\n",
      "NumDormitorios      0.720          1.000        0.784           0.828\n",
      "MaxOcupantes        0.848          0.784        1.000           0.669\n",
      "MetrosCuadrados     0.593          0.828        0.669           1.000\n",
      "[1] \"\\r\"\n",
      "[1] \"Valor para  30 : \"\n",
      "                NumBanyos NumDormitorios MaxOcupantes MetrosCuadrados\n",
      "NumBanyos           1.000          0.720        0.848           0.593\n",
      "NumDormitorios      0.720          1.000        0.784           0.828\n",
      "MaxOcupantes        0.848          0.784        1.000           0.669\n",
      "MetrosCuadrados     0.593          0.828        0.669           1.000\n",
      "[1] \"\\r\"\n",
      "[1] \"Valor para  35 : \"\n",
      "                NumBanyos NumDormitorios MaxOcupantes MetrosCuadrados\n",
      "NumBanyos           1.000          0.719        0.853           0.588\n",
      "NumDormitorios      0.719          1.000        0.771           0.820\n",
      "MaxOcupantes        0.853          0.771        1.000           0.653\n",
      "MetrosCuadrados     0.588          0.820        0.653           1.000\n",
      "[1] \"\\r\"\n",
      "[1] \"Valor para  40 : \"\n",
      "                NumBanyos NumDormitorios MaxOcupantes MetrosCuadrados\n",
      "NumBanyos           1.000          0.720        0.849           0.575\n",
      "NumDormitorios      0.720          1.000        0.777           0.804\n",
      "MaxOcupantes        0.849          0.777        1.000           0.644\n",
      "MetrosCuadrados     0.575          0.804        0.644           1.000\n",
      "[1] \"\\r\"\n",
      "[1] \"Valor para  45 : \"\n",
      "                NumBanyos NumDormitorios MaxOcupantes MetrosCuadrados\n",
      "NumBanyos           1.000          0.701        0.859           0.538\n",
      "NumDormitorios      0.701          1.000        0.766           0.788\n",
      "MaxOcupantes        0.859          0.766        1.000           0.572\n",
      "MetrosCuadrados     0.538          0.788        0.572           1.000\n",
      "[1] \"\\r\"\n",
      "[1] \"Valor para  50 : \"\n",
      "                NumBanyos NumDormitorios MaxOcupantes MetrosCuadrados\n",
      "NumBanyos           1.000          0.695        0.856           0.526\n",
      "NumDormitorios      0.695          1.000        0.760           0.782\n",
      "MaxOcupantes        0.856          0.760        1.000           0.558\n",
      "MetrosCuadrados     0.526          0.782        0.558           1.000\n",
      "[1] \"\\r\"\n",
      "[1] \"Valor para  55 : \"\n",
      "                NumBanyos NumDormitorios MaxOcupantes MetrosCuadrados\n",
      "NumBanyos           1.000          0.687        0.853           0.513\n",
      "NumDormitorios      0.687          1.000        0.753           0.775\n",
      "MaxOcupantes        0.853          0.753        1.000           0.543\n",
      "MetrosCuadrados     0.513          0.775        0.543           1.000\n",
      "[1] \"\\r\"\n",
      "[1] \"Valor para  60 : \"\n",
      "                NumBanyos NumDormitorios MaxOcupantes MetrosCuadrados\n",
      "NumBanyos           1.000          0.669        0.845           0.481\n",
      "NumDormitorios      0.669          1.000        0.735           0.758\n",
      "MaxOcupantes        0.845          0.735        1.000           0.505\n",
      "MetrosCuadrados     0.481          0.758        0.505           1.000\n",
      "[1] \"\\r\"\n",
      "[1] \"Valor para  65 : \"\n",
      "                NumBanyos NumDormitorios MaxOcupantes MetrosCuadrados\n",
      "NumBanyos           1.000          0.607        0.822           0.374\n",
      "NumDormitorios      0.607          1.000        0.635           0.690\n",
      "MaxOcupantes        0.822          0.635        1.000           0.354\n",
      "MetrosCuadrados     0.374          0.690        0.354           1.000\n",
      "[1] \"\\r\"\n"
     ]
    },
    {
     "data": {
      "text/html": [
       "<table class=\"dataframe\">\n",
       "<caption>A matrix: 4 × 4 of type dbl</caption>\n",
       "<thead>\n",
       "\t<tr><th></th><th scope=col>NumBanyos</th><th scope=col>NumDormitorios</th><th scope=col>MaxOcupantes</th><th scope=col>MetrosCuadrados</th></tr>\n",
       "</thead>\n",
       "<tbody>\n",
       "\t<tr><th scope=row>NumBanyos</th><td>1.000</td><td>0.726</td><td>0.843</td><td>0.604</td></tr>\n",
       "\t<tr><th scope=row>NumDormitorios</th><td>0.726</td><td>1.000</td><td>0.780</td><td>0.817</td></tr>\n",
       "\t<tr><th scope=row>MaxOcupantes</th><td>0.843</td><td>0.780</td><td>1.000</td><td>0.706</td></tr>\n",
       "\t<tr><th scope=row>MetrosCuadrados</th><td>0.604</td><td>0.817</td><td>0.706</td><td>1.000</td></tr>\n",
       "</tbody>\n",
       "</table>\n"
      ],
      "text/latex": [
       "A matrix: 4 × 4 of type dbl\n",
       "\\begin{tabular}{r|llll}\n",
       "  & NumBanyos & NumDormitorios & MaxOcupantes & MetrosCuadrados\\\\\n",
       "\\hline\n",
       "\tNumBanyos & 1.000 & 0.726 & 0.843 & 0.604\\\\\n",
       "\tNumDormitorios & 0.726 & 1.000 & 0.780 & 0.817\\\\\n",
       "\tMaxOcupantes & 0.843 & 0.780 & 1.000 & 0.706\\\\\n",
       "\tMetrosCuadrados & 0.604 & 0.817 & 0.706 & 1.000\\\\\n",
       "\\end{tabular}\n"
      ],
      "text/markdown": [
       "\n",
       "A matrix: 4 × 4 of type dbl\n",
       "\n",
       "| <!--/--> | NumBanyos | NumDormitorios | MaxOcupantes | MetrosCuadrados |\n",
       "|---|---|---|---|---|\n",
       "| NumBanyos | 1.000 | 0.726 | 0.843 | 0.604 |\n",
       "| NumDormitorios | 0.726 | 1.000 | 0.780 | 0.817 |\n",
       "| MaxOcupantes | 0.843 | 0.780 | 1.000 | 0.706 |\n",
       "| MetrosCuadrados | 0.604 | 0.817 | 0.706 | 1.000 |\n",
       "\n"
      ],
      "text/plain": [
       "                NumBanyos NumDormitorios MaxOcupantes MetrosCuadrados\n",
       "NumBanyos       1.000     0.726          0.843        0.604          \n",
       "NumDormitorios  0.726     1.000          0.780        0.817          \n",
       "MaxOcupantes    0.843     0.780          1.000        0.706          \n",
       "MetrosCuadrados 0.604     0.817          0.706        1.000          "
      ]
     },
     "metadata": {},
     "output_type": "display_data"
    }
   ],
   "source": [
    "#Bueno lo que a mi sale es que la menos correlacion está entre MetrosCuadrados y NúmBanyos \n",
    "#que tiene un valor de 0.556 que podríamos considerar moderada/fuerte pero no sorprendentemente baja\n",
    "\n",
    "#En todo caso voy a quitar las entradas con menos superficie tal y como dice el enunciado para ver el efecto:\n",
    "\n",
    "SubSetSolOrdenado <- SubSetSol[order(SubSetSol$MetrosCuadrados), ]\n",
    "\n",
    "for (i in c(10, 15, 20, 25, 30, 35, 40, 45, 50, 55, 60, 65)) {\n",
    "  SubSetSolOrdenado <- SubSetSolOrdenado[SubSetSolOrdenado$MetrosCuadrados > i, ]\n",
    "  print(paste(\"Valor para \", i, \": \"))\n",
    "  tablita <- round(cor(SubSetSolOrdenado, method = \"pearson\"), 3)\n",
    "  print (tablita)\n",
    "  print(\"\\r\")\n",
    "}\n",
    "\n",
    "#Observo que cuando quito los de manos de 15 metros cuadrados la correlacion entre MEtrosCuadrados y NumBsños\n",
    "#pasa de 0.556 a 0.604. Por tanto lo dejo así:\n",
    "SubSetSolOrdenado <- SubSetSol[order(SubSetSol$MetrosCuadrados), ]\n",
    "SubSetSolOrdenado <- SubSetSolOrdenado[SubSetSolOrdenado$MetrosCuadrados > 15, ]\n",
    "#Calculo la correlación para Superficie mayor que 15 metros cuadrados\n",
    "round(cor(SubSetSolOrdenado, method = \"pearson\"), 3)"
   ]
  },
  {
   "cell_type": "markdown",
   "metadata": {},
   "source": [
    "Una vez que hayamos filtrado los datos correspondientes calcular el valor o la combinación de valores que mejor nos permite obtener el precio de un inmueble."
   ]
  },
  {
   "cell_type": "code",
   "execution_count": 254,
   "metadata": {
    "scrolled": true
   },
   "outputs": [
    {
     "data": {
      "text/plain": [
       "\n",
       "Call:\n",
       "lm(formula = Precio ~ NumBanyos + MaxOcupantes + MetrosCuadrados + \n",
       "    MetrosCuadrados, data = SubSetSol)\n",
       "\n",
       "Residuals:\n",
       "    Min      1Q  Median      3Q     Max \n",
       "-86.650  -8.984   0.376  12.749 106.402 \n",
       "\n",
       "Coefficients:\n",
       "                Estimate Std. Error t value Pr(>|t|)   \n",
       "(Intercept)       3.9943    12.9728   0.308  0.76029   \n",
       "NumBanyos        20.7314    15.3649   1.349  0.18734   \n",
       "MaxOcupantes      5.8935     4.5409   1.298  0.20423   \n",
       "MetrosCuadrados   0.5946     0.1705   3.486  0.00153 **\n",
       "---\n",
       "Signif. codes:  0 ‘***’ 0.001 ‘**’ 0.01 ‘*’ 0.05 ‘.’ 0.1 ‘ ’ 1\n",
       "\n",
       "Residual standard error: 32.81 on 30 degrees of freedom\n",
       "Multiple R-squared:  0.7352,\tAdjusted R-squared:  0.7087 \n",
       "F-statistic: 27.76 on 3 and 30 DF,  p-value: 8.574e-09\n"
      ]
     },
     "metadata": {},
     "output_type": "display_data"
    },
    {
     "data": {
      "text/html": [
       "<table class=\"dataframe\">\n",
       "<caption>A matrix: 4 × 2 of type dbl</caption>\n",
       "<thead>\n",
       "\t<tr><th></th><th scope=col>2.5 %</th><th scope=col>97.5 %</th></tr>\n",
       "</thead>\n",
       "<tbody>\n",
       "\t<tr><th scope=row>(Intercept)</th><td>-22.4997297</td><td>30.4882660</td></tr>\n",
       "\t<tr><th scope=row>NumBanyos</th><td>-10.6478299</td><td>52.1106323</td></tr>\n",
       "\t<tr><th scope=row>MaxOcupantes</th><td> -3.3802991</td><td>15.1672388</td></tr>\n",
       "\t<tr><th scope=row>MetrosCuadrados</th><td>  0.2462681</td><td> 0.9428322</td></tr>\n",
       "</tbody>\n",
       "</table>\n"
      ],
      "text/latex": [
       "A matrix: 4 × 2 of type dbl\n",
       "\\begin{tabular}{r|ll}\n",
       "  & 2.5 \\% & 97.5 \\%\\\\\n",
       "\\hline\n",
       "\t(Intercept) & -22.4997297 & 30.4882660\\\\\n",
       "\tNumBanyos & -10.6478299 & 52.1106323\\\\\n",
       "\tMaxOcupantes &  -3.3802991 & 15.1672388\\\\\n",
       "\tMetrosCuadrados &   0.2462681 &  0.9428322\\\\\n",
       "\\end{tabular}\n"
      ],
      "text/markdown": [
       "\n",
       "A matrix: 4 × 2 of type dbl\n",
       "\n",
       "| <!--/--> | 2.5 % | 97.5 % |\n",
       "|---|---|---|\n",
       "| (Intercept) | -22.4997297 | 30.4882660 |\n",
       "| NumBanyos | -10.6478299 | 52.1106323 |\n",
       "| MaxOcupantes |  -3.3802991 | 15.1672388 |\n",
       "| MetrosCuadrados |   0.2462681 |  0.9428322 |\n",
       "\n"
      ],
      "text/plain": [
       "                2.5 %       97.5 %    \n",
       "(Intercept)     -22.4997297 30.4882660\n",
       "NumBanyos       -10.6478299 52.1106323\n",
       "MaxOcupantes     -3.3802991 15.1672388\n",
       "MetrosCuadrados   0.2462681  0.9428322"
      ]
     },
     "metadata": {},
     "output_type": "display_data"
    },
    {
     "data": {
      "text/plain": [
       "\n",
       "Call:\n",
       "lm(formula = Precio ~ NumBanyos + NumDormitorios + MaxOcupantes, \n",
       "    data = SubSetSol)\n",
       "\n",
       "Residuals:\n",
       "    Min      1Q  Median      3Q     Max \n",
       "-77.330 -15.806  -2.725  17.898  61.130 \n",
       "\n",
       "Coefficients:\n",
       "               Estimate Std. Error t value Pr(>|t|)    \n",
       "(Intercept)      24.547     11.534   2.128   0.0417 *  \n",
       "NumBanyos         7.870     13.730   0.573   0.5708    \n",
       "NumDormitorios   31.357      6.264   5.006 2.29e-05 ***\n",
       "MaxOcupantes      4.180      3.959   1.056   0.2995    \n",
       "---\n",
       "Signif. codes:  0 ‘***’ 0.001 ‘**’ 0.01 ‘*’ 0.05 ‘.’ 0.1 ‘ ’ 1\n",
       "\n",
       "Residual standard error: 28.71 on 30 degrees of freedom\n",
       "Multiple R-squared:  0.7972,\tAdjusted R-squared:  0.777 \n",
       "F-statistic: 39.32 on 3 and 30 DF,  p-value: 1.622e-10\n"
      ]
     },
     "metadata": {},
     "output_type": "display_data"
    }
   ],
   "source": [
    "#Creo la tabla con el precio incluido:\n",
    "barrio_sol<-subset(airbnb_entire,Barrio==\"Sol\")\n",
    "#Subset incluyendo NumBanyos, NumDormitorios, MaxOcupantes, MetrosCuadrados y PRecio\n",
    "SubSetSol <- barrio_sol[   , c(6, 7, 5, 14, 12)] \n",
    "\n",
    "#Elimino los valores nulos del vector MetrosCuadrados\n",
    "\n",
    "SubSetSol <- SubSetSol[!is.na(SubSetSol$MetrosCuadrados), ]\n",
    "\n",
    "#Elimino los valores con superficie menos a 15 metros cuadradosdel vector MetrosCuadrados\n",
    "SubSetSol <- SubSetSol[SubSetSol$MetrosCuadrados > 15 , ]\n",
    "\n",
    "Combinacion <- lm(data=SubSetSol, formula = Precio ~ NumBanyos+MaxOcupantes+MetrosCuadrados+MetrosCuadrados)\n",
    "summary(Combinacion)\n",
    "confint(Combinacion)\n",
    "\n",
    "# Como R-cuadrado múltiple: 0,8067 la precision no es buena y habría que elimnar una variable y comprobar si estima mejor\n",
    "\n",
    "Combinacion2 <- lm(data=SubSetSol, formula = Precio ~ NumBanyos+NumDormitorios+MaxOcupantes)\n",
    "summary(Combinacion2)\n",
    "\n",
    "# Cuando quito NumBanyos R-cuadrado sale 0.8032\n",
    "# Cuando quito NumDormitorios R-cuadrado sale 0.7352\n",
    "# Cuando quito MaxOcupantes R-cuadrado sale 0.8029\n",
    "# Cuando quito MetrosCuadrados R-cuadrado sale 0.7972\n",
    "\n",
    "#Por tanto sería adecuado quitar NumDormitorios para que la estimación fuera mejor\n",
    "#Y quedaría que el modelo es Precio = 7.87*NumBaños + 31.357*NumDormitorios + 4.18*MaxOcupantes + 24.547"
   ]
  },
  {
   "cell_type": "markdown",
   "metadata": {},
   "source": [
    "¿Que variable es más fiable para conocer el precio de un inmueble, el número de habitaciones o los metros cuadrados?"
   ]
  },
  {
   "cell_type": "code",
   "execution_count": 237,
   "metadata": {},
   "outputs": [
    {
     "data": {
      "text/html": [
       "<table class=\"dataframe\">\n",
       "<caption>A data.frame: 3 × 5</caption>\n",
       "<thead>\n",
       "\t<tr><th></th><th scope=col>NumBanyos</th><th scope=col>NumDormitorios</th><th scope=col>MaxOcupantes</th><th scope=col>MetrosCuadrados</th><th scope=col>Precio</th></tr>\n",
       "\t<tr><th></th><th scope=col>&lt;dbl&gt;</th><th scope=col>&lt;int&gt;</th><th scope=col>&lt;int&gt;</th><th scope=col>&lt;dbl&gt;</th><th scope=col>&lt;int&gt;</th></tr>\n",
       "</thead>\n",
       "<tbody>\n",
       "\t<tr><th scope=row>10</th><td>1</td><td>1</td><td>4</td><td>60.02</td><td> 75</td></tr>\n",
       "\t<tr><th scope=row>19</th><td>1</td><td>1</td><td>4</td><td>69.96</td><td>100</td></tr>\n",
       "\t<tr><th scope=row>30</th><td>1</td><td>1</td><td>2</td><td>24.99</td><td> 65</td></tr>\n",
       "</tbody>\n",
       "</table>\n"
      ],
      "text/latex": [
       "A data.frame: 3 × 5\n",
       "\\begin{tabular}{r|lllll}\n",
       "  & NumBanyos & NumDormitorios & MaxOcupantes & MetrosCuadrados & Precio\\\\\n",
       "  & <dbl> & <int> & <int> & <dbl> & <int>\\\\\n",
       "\\hline\n",
       "\t10 & 1 & 1 & 4 & 60.02 &  75\\\\\n",
       "\t19 & 1 & 1 & 4 & 69.96 & 100\\\\\n",
       "\t30 & 1 & 1 & 2 & 24.99 &  65\\\\\n",
       "\\end{tabular}\n"
      ],
      "text/markdown": [
       "\n",
       "A data.frame: 3 × 5\n",
       "\n",
       "| <!--/--> | NumBanyos &lt;dbl&gt; | NumDormitorios &lt;int&gt; | MaxOcupantes &lt;int&gt; | MetrosCuadrados &lt;dbl&gt; | Precio &lt;int&gt; |\n",
       "|---|---|---|---|---|---|\n",
       "| 10 | 1 | 1 | 4 | 60.02 |  75 |\n",
       "| 19 | 1 | 1 | 4 | 69.96 | 100 |\n",
       "| 30 | 1 | 1 | 2 | 24.99 |  65 |\n",
       "\n"
      ],
      "text/plain": [
       "   NumBanyos NumDormitorios MaxOcupantes MetrosCuadrados Precio\n",
       "10 1         1              4            60.02            75   \n",
       "19 1         1              4            69.96           100   \n",
       "30 1         1              2            24.99            65   "
      ]
     },
     "metadata": {},
     "output_type": "display_data"
    },
    {
     "data": {
      "text/html": [
       "<table class=\"dataframe\">\n",
       "<caption>A matrix: 1 × 1 of type lgl</caption>\n",
       "<thead>\n",
       "\t<tr><th scope=col>MetrosCuadrados</th></tr>\n",
       "</thead>\n",
       "<tbody>\n",
       "\t<tr><td>TRUE</td></tr>\n",
       "</tbody>\n",
       "</table>\n"
      ],
      "text/latex": [
       "A matrix: 1 × 1 of type lgl\n",
       "\\begin{tabular}{l}\n",
       " MetrosCuadrados\\\\\n",
       "\\hline\n",
       "\t TRUE\\\\\n",
       "\\end{tabular}\n"
      ],
      "text/markdown": [
       "\n",
       "A matrix: 1 × 1 of type lgl\n",
       "\n",
       "| MetrosCuadrados |\n",
       "|---|\n",
       "| TRUE |\n",
       "\n"
      ],
      "text/plain": [
       "     MetrosCuadrados\n",
       "[1,] TRUE           "
      ]
     },
     "metadata": {},
     "output_type": "display_data"
    },
    {
     "data": {
      "text/html": [
       "<table class=\"dataframe\">\n",
       "<caption>A matrix: 1 × 1 of type dbl</caption>\n",
       "<thead>\n",
       "\t<tr><th scope=col>MetrosCuadrados</th></tr>\n",
       "</thead>\n",
       "<tbody>\n",
       "\t<tr><td>0.7855222</td></tr>\n",
       "</tbody>\n",
       "</table>\n"
      ],
      "text/latex": [
       "A matrix: 1 × 1 of type dbl\n",
       "\\begin{tabular}{l}\n",
       " MetrosCuadrados\\\\\n",
       "\\hline\n",
       "\t 0.7855222\\\\\n",
       "\\end{tabular}\n"
      ],
      "text/markdown": [
       "\n",
       "A matrix: 1 × 1 of type dbl\n",
       "\n",
       "| MetrosCuadrados |\n",
       "|---|\n",
       "| 0.7855222 |\n",
       "\n"
      ],
      "text/plain": [
       "     MetrosCuadrados\n",
       "[1,] 0.7855222      "
      ]
     },
     "metadata": {},
     "output_type": "display_data"
    },
    {
     "data": {
      "text/html": [
       "<table class=\"dataframe\">\n",
       "<caption>A matrix: 1 × 1 of type dbl</caption>\n",
       "<thead>\n",
       "\t<tr><th scope=col>NumDormitorios</th></tr>\n",
       "</thead>\n",
       "<tbody>\n",
       "\t<tr><td>0.8784512</td></tr>\n",
       "</tbody>\n",
       "</table>\n"
      ],
      "text/latex": [
       "A matrix: 1 × 1 of type dbl\n",
       "\\begin{tabular}{l}\n",
       " NumDormitorios\\\\\n",
       "\\hline\n",
       "\t 0.8784512\\\\\n",
       "\\end{tabular}\n"
      ],
      "text/markdown": [
       "\n",
       "A matrix: 1 × 1 of type dbl\n",
       "\n",
       "| NumDormitorios |\n",
       "|---|\n",
       "| 0.8784512 |\n",
       "\n"
      ],
      "text/plain": [
       "     NumDormitorios\n",
       "[1,] 0.8784512     "
      ]
     },
     "metadata": {},
     "output_type": "display_data"
    }
   ],
   "source": [
    "#La variable más fiable es la que tenga una p-valor más baja:\n",
    "head(SubSetSol, 3)\n",
    "cor(SubSetSol$Precio, SubSetSol[4]) < cor(SubSetSol$Precio, SubSetSol[2])\n",
    "\n",
    "# sale que la más fiable es MetrosCuadrados\n",
    "#Nota: por algún motivo que no logro identificar Si pongo SubSetSol$MetrosCuadrados me da error\n",
    "# mientras que si pongo SubSetSol[4] no da error ....."
   ]
  },
  {
   "cell_type": "markdown",
   "metadata": {},
   "source": [
    "Responde con su correspondiente margen de error del 95%, ¿cuantos euros incrementa el precio del alquiler por cada metro cuadrado extra del piso?"
   ]
  },
  {
   "cell_type": "code",
   "execution_count": 256,
   "metadata": {},
   "outputs": [
    {
     "data": {
      "text/plain": [
       "\n",
       "Call:\n",
       "lm(formula = Precio ~ MetrosCuadrados, data = SubSetSol)\n",
       "\n",
       "Residuals:\n",
       "    Min      1Q  Median      3Q     Max \n",
       "-68.342 -15.695  -0.737   8.900 118.472 \n",
       "\n",
       "Coefficients:\n",
       "                Estimate Std. Error t value Pr(>|t|)    \n",
       "(Intercept)      30.1325    12.5437   2.402   0.0223 *  \n",
       "MetrosCuadrados   1.0090     0.1405   7.181 3.75e-08 ***\n",
       "---\n",
       "Signif. codes:  0 ‘***’ 0.001 ‘**’ 0.01 ‘*’ 0.05 ‘.’ 0.1 ‘ ’ 1\n",
       "\n",
       "Residual standard error: 38.2 on 32 degrees of freedom\n",
       "Multiple R-squared:  0.617,\tAdjusted R-squared:  0.6051 \n",
       "F-statistic: 51.56 on 1 and 32 DF,  p-value: 3.746e-08\n"
      ]
     },
     "metadata": {},
     "output_type": "display_data"
    },
    {
     "data": {
      "text/html": [
       "<table class=\"dataframe\">\n",
       "<caption>A matrix: 2 × 2 of type dbl</caption>\n",
       "<thead>\n",
       "\t<tr><th></th><th scope=col>2.5 %</th><th scope=col>97.5 %</th></tr>\n",
       "</thead>\n",
       "<tbody>\n",
       "\t<tr><th scope=row>(Intercept)</th><td>4.5818201</td><td>55.683098</td></tr>\n",
       "\t<tr><th scope=row>MetrosCuadrados</th><td>0.7227976</td><td> 1.295267</td></tr>\n",
       "</tbody>\n",
       "</table>\n"
      ],
      "text/latex": [
       "A matrix: 2 × 2 of type dbl\n",
       "\\begin{tabular}{r|ll}\n",
       "  & 2.5 \\% & 97.5 \\%\\\\\n",
       "\\hline\n",
       "\t(Intercept) & 4.5818201 & 55.683098\\\\\n",
       "\tMetrosCuadrados & 0.7227976 &  1.295267\\\\\n",
       "\\end{tabular}\n"
      ],
      "text/markdown": [
       "\n",
       "A matrix: 2 × 2 of type dbl\n",
       "\n",
       "| <!--/--> | 2.5 % | 97.5 % |\n",
       "|---|---|---|\n",
       "| (Intercept) | 4.5818201 | 55.683098 |\n",
       "| MetrosCuadrados | 0.7227976 |  1.295267 |\n",
       "\n"
      ],
      "text/plain": [
       "                2.5 %     97.5 %   \n",
       "(Intercept)     4.5818201 55.683098\n",
       "MetrosCuadrados 0.7227976  1.295267"
      ]
     },
     "metadata": {},
     "output_type": "display_data"
    }
   ],
   "source": [
    "\n",
    "Combinacion3 <- lm(data=SubSetSol, formula = Precio ~ MetrosCuadrados)\n",
    "summary(Combinacion3)\n",
    "confint(Combinacion3)\n",
    "\n",
    "#En este caso como MetrosCuadrados = 1.0090 significa que por cada metro cuadrado el precio aument en 1.009 euros"
   ]
  },
  {
   "cell_type": "markdown",
   "metadata": {},
   "source": [
    "Responde con su correspondiente margen de error del 95%, ¿cuantos euros incrementa el precio del alquiler por cada habitación?"
   ]
  },
  {
   "cell_type": "code",
   "execution_count": 259,
   "metadata": {},
   "outputs": [
    {
     "data": {
      "text/plain": [
       "\n",
       "Call:\n",
       "lm(formula = Precio ~ NumDormitorios, data = SubSetSol)\n",
       "\n",
       "Residuals:\n",
       "    Min      1Q  Median      3Q     Max \n",
       "-96.559 -16.628  -5.628  19.109  54.441 \n",
       "\n",
       "Coefficients:\n",
       "               Estimate Std. Error t value Pr(>|t|)    \n",
       "(Intercept)      40.646      8.138   4.994 2.02e-05 ***\n",
       "NumDormitorios   40.983      3.941  10.400 8.62e-12 ***\n",
       "---\n",
       "Signif. codes:  0 ‘***’ 0.001 ‘**’ 0.01 ‘*’ 0.05 ‘.’ 0.1 ‘ ’ 1\n",
       "\n",
       "Residual standard error: 29.5 on 32 degrees of freedom\n",
       "Multiple R-squared:  0.7717,\tAdjusted R-squared:  0.7645 \n",
       "F-statistic: 108.2 on 1 and 32 DF,  p-value: 8.617e-12\n"
      ]
     },
     "metadata": {},
     "output_type": "display_data"
    },
    {
     "data": {
      "text/html": [
       "<table class=\"dataframe\">\n",
       "<caption>A matrix: 2 × 2 of type dbl</caption>\n",
       "<thead>\n",
       "\t<tr><th></th><th scope=col>2.5 %</th><th scope=col>97.5 %</th></tr>\n",
       "</thead>\n",
       "<tbody>\n",
       "\t<tr><th scope=row>(Intercept)</th><td>24.06873</td><td>57.2226</td></tr>\n",
       "\t<tr><th scope=row>NumDormitorios</th><td>32.95556</td><td>49.0098</td></tr>\n",
       "</tbody>\n",
       "</table>\n"
      ],
      "text/latex": [
       "A matrix: 2 × 2 of type dbl\n",
       "\\begin{tabular}{r|ll}\n",
       "  & 2.5 \\% & 97.5 \\%\\\\\n",
       "\\hline\n",
       "\t(Intercept) & 24.06873 & 57.2226\\\\\n",
       "\tNumDormitorios & 32.95556 & 49.0098\\\\\n",
       "\\end{tabular}\n"
      ],
      "text/markdown": [
       "\n",
       "A matrix: 2 × 2 of type dbl\n",
       "\n",
       "| <!--/--> | 2.5 % | 97.5 % |\n",
       "|---|---|---|\n",
       "| (Intercept) | 24.06873 | 57.2226 |\n",
       "| NumDormitorios | 32.95556 | 49.0098 |\n",
       "\n"
      ],
      "text/plain": [
       "               2.5 %    97.5 % \n",
       "(Intercept)    24.06873 57.2226\n",
       "NumDormitorios 32.95556 49.0098"
      ]
     },
     "metadata": {},
     "output_type": "display_data"
    }
   ],
   "source": [
    "Combinacion4 <- lm(data=SubSetSol, formula = Precio ~ NumDormitorios)\n",
    "summary(Combinacion4)\n",
    "confint(Combinacion4)\n",
    "\n",
    "#En este caso como NumDormitorios = 40.983 significa que por cada habitación el precio aumenta en 40.983 euros"
   ]
  },
  {
   "cell_type": "markdown",
   "metadata": {},
   "source": [
    "¿Cual es la probabilidad de encontrar, en el barrio de Sol, un apartamento en alquiler con 3 dormitorios?\n",
    "¿Cual es el intervalo de confianza de esa probabilidad?"
   ]
  },
  {
   "cell_type": "code",
   "execution_count": null,
   "metadata": {},
   "outputs": [],
   "source": [
    "RESPECTO DE TODOS LOS APARTAMENTOS. PROPORCION DE APARTAMENTOS DE TRES DORMITORIOS DIVIDIDO ENTRE EL TOTAL DE APARTAMENTOS.\n",
    "Y LUEGO COMBINO BINOM.TEST PARA SACAR LAS PROPORCIONES"
   ]
  },
  {
   "cell_type": "code",
   "execution_count": 264,
   "metadata": {},
   "outputs": [
    {
     "data": {
      "text/html": [
       "0.4"
      ],
      "text/latex": [
       "0.4"
      ],
      "text/markdown": [
       "0.4"
      ],
      "text/plain": [
       "[1] 0.4"
      ]
     },
     "metadata": {},
     "output_type": "display_data"
    },
    {
     "data": {
      "text/html": [
       "2.91364116061574"
      ],
      "text/latex": [
       "2.91364116061574"
      ],
      "text/markdown": [
       "2.91364116061574"
      ],
      "text/plain": [
       "[1] 2.913641"
      ]
     },
     "metadata": {},
     "output_type": "display_data"
    }
   ],
   "source": [
    "probabilidad <- length(SubSetSol$NumDormitorios[SubSetSol$NumDormitorios == 3]) / length(SubSetSol)\n",
    "probabilidad\n",
    "#La probabilidad es de un 40%\n",
    "NDormitorios <- c (SubSetSol$NumDormitorios)\n",
    "IntvloConfianza <- sd(NDormitorios) *sqrt(length(SubSetSol))\n",
    "IntvloConfianza\n",
    "#El intervalo de confianza es 2.9136411606157"
   ]
  },
  {
   "cell_type": "code",
   "execution_count": null,
   "metadata": {},
   "outputs": [],
   "source": []
  }
 ],
 "metadata": {
  "kernelspec": {
   "display_name": "R",
   "language": "R",
   "name": "ir"
  },
  "language_info": {
   "codemirror_mode": "r",
   "file_extension": ".r",
   "mimetype": "text/x-r-source",
   "name": "R",
   "pygments_lexer": "r",
   "version": "4.1.0"
  }
 },
 "nbformat": 4,
 "nbformat_minor": 2
}
